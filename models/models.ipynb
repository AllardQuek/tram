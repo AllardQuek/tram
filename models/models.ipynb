{
 "cells": [
  {
   "cell_type": "code",
   "execution_count": 1,
   "metadata": {},
   "outputs": [
    {
     "name": "stderr",
     "output_type": "stream",
     "text": [
      "/Users/allard/anaconda3/envs/dev/lib/python3.6/site-packages/sklearn/base.py:318: UserWarning: Trying to unpickle estimator CountVectorizer from version 0.21.1 when using version 0.22.1. This might lead to breaking code or invalid results. Use at your own risk.\n",
      "  UserWarning)\n",
      "/Users/allard/anaconda3/envs/dev/lib/python3.6/site-packages/sklearn/utils/deprecation.py:144: FutureWarning: The sklearn.linear_model.logistic module is  deprecated in version 0.22 and will be removed in version 0.24. The corresponding classes / functions should instead be imported from sklearn.linear_model. Anything that cannot be imported from sklearn.linear_model is now part of the private API.\n",
      "  warnings.warn(message, FutureWarning)\n",
      "/Users/allard/anaconda3/envs/dev/lib/python3.6/site-packages/sklearn/base.py:318: UserWarning: Trying to unpickle estimator LogisticRegression from version 0.21.1 when using version 0.22.1. This might lead to breaking code or invalid results. Use at your own risk.\n",
      "  UserWarning)\n"
     ]
    },
    {
     "name": "stdout",
     "output_type": "stream",
     "text": [
      "<class 'dict'>\n"
     ]
    }
   ],
   "source": [
    "import pickle\n",
    "\n",
    "with open('model_dict.p', 'rb') as handle:\n",
    "    result = pickle.load(handle)"
   ]
  },
  {
   "cell_type": "code",
   "execution_count": 64,
   "metadata": {},
   "outputs": [
    {
     "name": "stdout",
     "output_type": "stream",
     "text": [
      "Compile After Delivery\n",
      "Virtualization/Sandbox Evasion\n",
      "Resource Hijacking\n",
      "Stored Data Manipulation\n",
      "Inhibit System Recovery\n",
      "Service Stop\n",
      "Disk Content Wipe\n",
      "Disk Structure Wipe\n",
      "Data Encrypted for Impact\n",
      "Data Destruction\n",
      "Group Policy Modification\n",
      "Domain Generation Algorithms\n",
      "Domain Trust Discovery\n",
      "Execution Guardrails\n",
      "File Permissions Modification\n",
      "Compiled HTML File\n",
      "Template Injection\n",
      "XSL Script Processing\n",
      "Browser Bookmark Discovery\n",
      "Data from Information Repositories\n",
      "Exploit Public-Facing Application\n",
      "Exploitation of Remote Services\n",
      "Spearphishing via Service\n",
      "Trusted Relationship\n",
      "CMSTP\n",
      "DCShadow\n",
      "Drive-by Compromise\n",
      "Signed Binary Proxy Execution\n",
      "Spearphishing Attachment\n",
      "Supply Chain Compromise\n",
      "User Execution\n",
      "Control Panel Items\n",
      "BITS Jobs\n",
      "Credentials in Registry\n",
      "Spearphishing Link\n",
      "Sudo Caching\n",
      "Exploitation for Client Execution\n",
      "Kerberoasting\n",
      "Password Policy Discovery\n",
      "Port Knocking\n",
      "Remote Access Tools\n",
      "Domain Fronting\n",
      "Dynamic Data Exchange\n",
      "Forced Authentication\n",
      "Multi-hop Proxy\n",
      "Distributed Component Object Model\n",
      "Mshta\n",
      "Hooking\n",
      "SSH Hijacking\n",
      "LSASS Driver\n",
      "AppCert DLLs\n",
      "Browser Extensions\n",
      "Man in the Browser\n",
      "Screensaver\n",
      "LLMNR/NBT-NS Poisoning and Relay\n",
      "Process Doppelgänging\n",
      "SID-History Injection\n",
      "Application Shimming\n",
      "Deobfuscate/Decode Files or Information\n",
      "Launchctl\n",
      "Plist Modification\n",
      "Rc.common\n",
      "AppleScript\n",
      "Create Account\n",
      "Hidden Window\n",
      "Input Prompt\n",
      "Keychain\n",
      "Launch Agent\n",
      "Network Share Discovery\n",
      "Access Token Manipulation\n",
      "Bash History\n",
      ".bash_profile and .bashrc\n",
      "Launch Daemon\n",
      "Private Keys\n",
      "Office Application Startup\n",
      "Space after Filename\n",
      "Hidden Files and Directories\n",
      "Local Job Scheduling\n",
      "Securityd Memory\n",
      "External Remote Services\n",
      "Data Encoding\n",
      "Install Root Certificate\n",
      "Execution through Module Load\n",
      "Netsh Helper DLL\n",
      "Trusted Developer Utilities\n",
      "Network Share Connection Removal\n",
      "Video Capture\n",
      "System Time Discovery\n",
      "Audio Capture\n",
      "Component Object Model Hijacking\n",
      "Regsvcs/Regasm\n",
      "Peripheral Device Discovery\n",
      "Automated Collection\n",
      "Regsvr32\n",
      "Code Signing\n",
      "Clipboard Data\n",
      "Email Collection\n",
      "Screen Capture\n",
      "Modify Registry\n",
      "Two-Factor Authentication Interception\n",
      "Brute Force\n",
      "Redundant Access\n",
      "File Deletion\n",
      "Execution through API\n",
      "Remote File Copy\n",
      "Multi-Stage Channels\n",
      "AppInit DLLs\n",
      "Web Service\n",
      "Security Support Provider\n",
      "Web Shell\n",
      "Timestomp\n",
      "Account Manipulation\n",
      "Pass the Ticket\n",
      "NTFS File Attributes\n",
      "Standard Non-Application Layer Protocol\n",
      "Custom Command and Control Protocol\n",
      "Process Hollowing\n",
      "Replication Through Removable Media\n",
      "Connection Proxy\n",
      "Disabling Security Tools\n",
      "Bypass User Account Control\n",
      "Account Discovery\n",
      "PowerShell\n",
      "Rundll32\n",
      "Windows Management Instrumentation Event Subscription\n",
      "File and Directory Discovery\n",
      "System Information Discovery\n",
      "Credentials in Files\n",
      "Taint Shared Content\n",
      "Multilayer Encryption\n",
      "Valid Accounts\n",
      "Windows Admin Shares\n",
      "Remote Desktop Protocol\n",
      "Pass the Hash\n",
      "Data Staged\n",
      "DLL Side-Loading\n",
      "Third-party Software\n",
      "Standard Application Layer Protocol\n",
      "Indicator Removal on Host\n",
      "Permission Groups Discovery\n",
      "Exploitation for Privilege Escalation\n",
      "Bootkit\n",
      "Indicator Removal from Tools\n",
      "Uncommonly Used Port\n",
      "Scripting\n",
      "Security Software Discovery\n",
      "Hypervisor\n",
      "Graphical User Interface\n",
      "Registry Run Keys / Startup Folder\n",
      "Command-Line Interface\n",
      "Process Discovery\n",
      "Input Capture\n",
      "Process Injection\n",
      "Scheduled Task\n",
      "Exfiltration Over Physical Medium\n",
      "New Service\n",
      "System Network Connections Discovery\n",
      "Exfiltration Over Alternative Protocol\n",
      "Windows Management Instrumentation\n",
      "Network Service Scanning\n",
      "Software Packing\n",
      "Commonly Used Port\n",
      "Change Default File Association\n",
      "Exfiltration Over Command and Control Channel\n",
      "Network Sniffing\n",
      "Data from Network Shared Drive\n",
      "DLL Search Order Hijacking\n",
      "Logon Scripts\n",
      "Masquerading\n",
      "Service Execution\n",
      "Path Interception\n",
      "System Owner/User Discovery\n",
      "Standard Cryptographic Protocol\n",
      "Modify Existing Service\n",
      "Data Transfer Size Limits\n",
      "Scheduled Transfer\n",
      "Windows Remote Management\n",
      "Obfuscated Files or Information\n",
      "Multiband Communication\n",
      "Data from Removable Media\n",
      "Custom Cryptographic Protocol\n",
      "Shortcut Modification\n",
      "Data Encrypted\n",
      "Remote Services\n",
      "Automated Exfiltration\n",
      "System Firmware\n",
      "Remote System Discovery\n",
      "System Network Configuration Discovery\n",
      "Accessibility Features\n",
      "Rootkit\n",
      "Port Monitors\n",
      "Query Registry\n",
      "Application Window Discovery\n",
      "Binary Padding\n",
      "Fallback Channels\n",
      "System Service Discovery\n",
      "Data from Local System\n",
      "Winlogon Helper DLL\n",
      "Credential Dumping\n",
      "Data Compressed\n",
      "Data Obfuscation\n"
     ]
    }
   ],
   "source": [
    "for k, v in result.items():\n",
    "    print(k)"
   ]
  },
  {
   "cell_type": "code",
   "execution_count": 10,
   "metadata": {},
   "outputs": [
    {
     "data": {
      "text/plain": [
       "201"
      ]
     },
     "execution_count": 10,
     "metadata": {},
     "output_type": "execute_result"
    }
   ],
   "source": [
    "len(result.items())   # 201 should be the number of attack techniques with models built"
   ]
  },
  {
   "cell_type": "code",
   "execution_count": 73,
   "metadata": {},
   "outputs": [
    {
     "name": "stdout",
     "output_type": "stream",
     "text": [
      "<class 'sklearn.feature_extraction.text.CountVectorizer'>\n",
      "<class 'sklearn.linear_model._logistic.LogisticRegression'>\n"
     ]
    }
   ],
   "source": [
    "for k, v in result.items():\n",
    "    print(type(v[0]))\n",
    "    print(type(v[1]))\n",
    "    break"
   ]
  },
  {
   "cell_type": "code",
   "execution_count": 12,
   "metadata": {},
   "outputs": [],
   "source": [
    "model = result['Commonly Used Port']"
   ]
  },
  {
   "cell_type": "markdown",
   "metadata": {},
   "source": [
    "## Dealing with Preprocessing"
   ]
  },
  {
   "cell_type": "code",
   "execution_count": 19,
   "metadata": {},
   "outputs": [
    {
     "name": "stdout",
     "output_type": "stream",
     "text": [
      "CountVectorizer(analyzer='word', binary=False, decode_error='strict',\n",
      "                dtype=<class 'numpy.int64'>, encoding='utf-8', input='content',\n",
      "                lowercase=True, max_df=1.0, max_features=2000, min_df=1,\n",
      "                ngram_range=(1, 1), preprocessor=None, stop_words=None,\n",
      "                strip_accents=None, token_pattern='(?u)\\\\b\\\\w\\\\w+\\\\b',\n",
      "                tokenizer=None, vocabulary=None)\n"
     ]
    },
    {
     "data": {
      "text/plain": [
       "sklearn.feature_extraction.text.CountVectorizer"
      ]
     },
     "execution_count": 19,
     "metadata": {},
     "output_type": "execute_result"
    }
   ],
   "source": [
    "print(model[0])\n",
    "type(model[0])"
   ]
  },
  {
   "cell_type": "code",
   "execution_count": 116,
   "metadata": {},
   "outputs": [],
   "source": [
    "corpus = [\n",
    "    'This is the first document.',\n",
    "    'This document is the second document.',\n",
    "    'And this is the third one.',\n",
    "    'Is this the first document?',\n",
    "]\n",
    "vectorizer = model[0]\n",
    "X = vectorizer.fit_transform(corpus)"
   ]
  },
  {
   "cell_type": "code",
   "execution_count": 117,
   "metadata": {},
   "outputs": [
    {
     "name": "stdout",
     "output_type": "stream",
     "text": [
      "['and this', 'document is', 'first document', 'is the', 'is this', 'second document', 'the first', 'the second', 'the third', 'third one', 'this document', 'this is', 'this the']\n",
      "[[0 0 1 1 0 0 1 0 0 0 0 1 0]\n",
      " [0 1 0 1 0 1 0 1 0 0 1 0 0]\n",
      " [1 0 0 1 0 0 0 0 1 1 0 1 0]\n",
      " [0 0 1 0 1 0 1 0 0 0 0 0 1]]\n"
     ]
    }
   ],
   "source": [
    "print(vectorizer.get_feature_names())\n",
    "print(X.toarray())"
   ]
  },
  {
   "cell_type": "code",
   "execution_count": 61,
   "metadata": {},
   "outputs": [
    {
     "data": {
      "text/plain": [
       "CountVectorizer(analyzer='word', binary=False, decode_error='strict',\n",
       "                dtype=<class 'numpy.int64'>, encoding='utf-8', input='content',\n",
       "                lowercase=True, max_df=1.0, max_features=2000, min_df=1,\n",
       "                ngram_range=(2, 2), preprocessor=None, stop_words=None,\n",
       "                strip_accents=None, token_pattern='(?u)\\\\b\\\\w\\\\w+\\\\b',\n",
       "                tokenizer=None, vocabulary=None)"
      ]
     },
     "execution_count": 61,
     "metadata": {},
     "output_type": "execute_result"
    }
   ],
   "source": [
    "vectorizer2 = model[0]\n",
    "vectorizer2.ngram_range = (2,2)\n",
    "vectorizer2"
   ]
  },
  {
   "cell_type": "code",
   "execution_count": 62,
   "metadata": {},
   "outputs": [
    {
     "name": "stdout",
     "output_type": "stream",
     "text": [
      "['and this', 'document is', 'first document', 'is the', 'is this', 'second document', 'the first', 'the second', 'the third', 'third one', 'this document', 'this is', 'this the']\n"
     ]
    }
   ],
   "source": [
    "X2 = vectorizer2.fit_transform(corpus)\n",
    "print(vectorizer2.get_feature_names())"
   ]
  },
  {
   "cell_type": "markdown",
   "metadata": {},
   "source": [
    "## Dealing with Model"
   ]
  },
  {
   "cell_type": "code",
   "execution_count": 83,
   "metadata": {},
   "outputs": [
    {
     "name": "stdout",
     "output_type": "stream",
     "text": [
      "LogisticRegression(C=1.0, class_weight=None, dual=False, fit_intercept=True,\n",
      "                   intercept_scaling=1, l1_ratio=None, max_iter=2500,\n",
      "                   multi_class='warn', n_jobs=None, penalty='l2',\n",
      "                   random_state=None, solver='lbfgs', tol=0.0001, verbose=0,\n",
      "                   warm_start=False) \n",
      "\n",
      "{'C': 1.0, 'class_weight': None, 'dual': False, 'fit_intercept': True, 'intercept_scaling': 1, 'l1_ratio': None, 'max_iter': 2500, 'multi_class': 'warn', 'n_jobs': None, 'penalty': 'l2', 'random_state': None, 'solver': 'lbfgs', 'tol': 0.0001, 'verbose': 0, 'warm_start': False} \n",
      "\n",
      "[False  True]\n"
     ]
    },
    {
     "data": {
      "text/plain": [
       "sklearn.linear_model._logistic.LogisticRegression"
      ]
     },
     "execution_count": 83,
     "metadata": {},
     "output_type": "execute_result"
    }
   ],
   "source": [
    "print(model[1], '\\n')\n",
    "print(model[1].get_params(), '\\n')\n",
    "print(model[1].classes_)\n",
    "type(model[1])"
   ]
  },
  {
   "cell_type": "markdown",
   "metadata": {},
   "source": [
    "### Predict on Dummy Data"
   ]
  },
  {
   "cell_type": "code",
   "execution_count": 44,
   "metadata": {},
   "outputs": [
    {
     "data": {
      "text/plain": [
       "array([[3, 4, 3, ..., 4, 3, 4]])"
      ]
     },
     "execution_count": 44,
     "metadata": {},
     "output_type": "execute_result"
    }
   ],
   "source": [
    "import numpy as np\n",
    "test = [[3,4]*1000]\n",
    "tarr = np.array(test)\n",
    "tarr.reshape(1, -1)"
   ]
  },
  {
   "cell_type": "code",
   "execution_count": 45,
   "metadata": {},
   "outputs": [
    {
     "data": {
      "text/plain": [
       "(1, 2000)"
      ]
     },
     "execution_count": 45,
     "metadata": {},
     "output_type": "execute_result"
    }
   ],
   "source": [
    "tarr.shape"
   ]
  },
  {
   "cell_type": "code",
   "execution_count": 46,
   "metadata": {},
   "outputs": [
    {
     "data": {
      "text/plain": [
       "array([False])"
      ]
     },
     "execution_count": 46,
     "metadata": {},
     "output_type": "execute_result"
    }
   ],
   "source": [
    "model[1].predict(tarr)"
   ]
  },
  {
   "cell_type": "markdown",
   "metadata": {},
   "source": [
    "### Predict on Sample Text"
   ]
  },
  {
   "cell_type": "code",
   "execution_count": 118,
   "metadata": {},
   "outputs": [
    {
     "data": {
      "text/plain": [
       "(4, 13)"
      ]
     },
     "execution_count": 118,
     "metadata": {},
     "output_type": "execute_result"
    }
   ],
   "source": [
    "X.shape"
   ]
  },
  {
   "cell_type": "code",
   "execution_count": 121,
   "metadata": {},
   "outputs": [
    {
     "data": {
      "text/plain": [
       "array([[0, 0, 1, 1, 0, 0, 1, 0, 0, 0, 0, 1, 0],\n",
       "       [0, 1, 0, 1, 0, 1, 0, 1, 0, 0, 1, 0, 0],\n",
       "       [1, 0, 0, 1, 0, 0, 0, 0, 1, 1, 0, 1, 0],\n",
       "       [0, 0, 1, 0, 1, 0, 1, 0, 0, 0, 0, 0, 1]])"
      ]
     },
     "execution_count": 121,
     "metadata": {},
     "output_type": "execute_result"
    }
   ],
   "source": [
    "X.toarray()"
   ]
  },
  {
   "cell_type": "code",
   "execution_count": 124,
   "metadata": {},
   "outputs": [
    {
     "data": {
      "text/plain": [
       "(4, 2000)"
      ]
     },
     "execution_count": 124,
     "metadata": {},
     "output_type": "execute_result"
    }
   ],
   "source": [
    "from keras.preprocessing.sequence import pad_sequences\n",
    "X_pred = pad_sequences(X.toarray(), padding='post', maxlen=2000)\n",
    "X_pred.shape"
   ]
  },
  {
   "cell_type": "code",
   "execution_count": 125,
   "metadata": {},
   "outputs": [
    {
     "data": {
      "text/plain": [
       "array([False, False, False, False])"
      ]
     },
     "execution_count": 125,
     "metadata": {},
     "output_type": "execute_result"
    }
   ],
   "source": [
    "model[1].predict(X_pred)"
   ]
  },
  {
   "cell_type": "markdown",
   "metadata": {},
   "source": [
    "### Summarised Prediction Process"
   ]
  },
  {
   "cell_type": "code",
   "execution_count": 172,
   "metadata": {},
   "outputs": [
    {
     "data": {
      "text/plain": [
       "['attempted to contact the C2 server over TCP using port 80.',\n",
       " 'uses port 443 for the control server communications.',\n",
       " 'uses port 443 for C2.',\n",
       " 'variants can use ports 443, 8443, and 8080 for communications.',\n",
       " 'has used ports 53, 80, 443, and 8080 for C2.',\n",
       " 'used SMB over ports 445 or 139 for C2. The group also established encrypted connections over port 443.',\n",
       " 'uses port 8000 and 443 for C2.',\n",
       " 'uses Port Numbers 443 and 80 for the C2 server.',\n",
       " 'uses port 80 for C2.',\n",
       " 'used TCP port 80 for C2.',\n",
       " 'uses 443 for C2 communications.',\n",
       " 'uses port 80 for C2.',\n",
       " 'uses Port Numbers 80, 8080, 8000, and 443 for communication to the C2 servers.',\n",
       " 'binds and listens on port 443.',\n",
       " 'uses port 443 for C2 communications.',\n",
       " 'uses port 443 for C2 communications.',\n",
       " 'uses port 443 for C2.',\n",
       " 'has used port 8080 for C2.',\n",
       " 'has tunneled RDP backdoors over port 443.',\n",
       " 'connects to external C2 infrastructure over port 443.',\n",
       " 'connects to external C2 infrastructure over port 443.',\n",
       " 'connects to external C2 infrastructure over the HTTP port.',\n",
       " 'has used port 80 for C2.',\n",
       " 'connects to external C2 infrastructure and opens a backdoor over port 443.',\n",
       " 'uses commonly used ports (like HTTPS/443) for command and control.',\n",
       " 'malware has communicated with C2 servers over port 6667 (for IRC) and port 8080.',\n",
       " 'A variant of  attempts communication to the C2 server over HTTP on port 443.',\n",
       " 'uses HTTP over port 443 for command and control.',\n",
       " 'Some  variants use ports 8080 and 8000 for C2.',\n",
       " 'uses a custom command and control protocol that communicates over commonly used ports. The C2 protocol is encapsulated in common application layer protocols.',\n",
       " 'communicates over common ports such as TCP 80, 443, and 25.',\n",
       " 'communicates with its C2 domain over ports 443 and 8443.',\n",
       " 'connects over 443 for C2.',\n",
       " 'communicates with its C2 server over port 443.',\n",
       " 'communicates over ports 80, 443, 53, and 8080 via raw sockets instead of the protocols usually associated with the ports.',\n",
       " 'uses a specific port of 443 and can also use ports 53 and 80 for C2. One  variant uses HTTP over port 443 to connect to its C2 server.',\n",
       " 'uses a custom command and control protocol that communicates over commonly used ports, and is frequently encapsulated by application layer protocols.',\n",
       " 'One  variant connected to its C2 server over port 8080.',\n",
       " 'operates over ports 21 and 20.',\n",
       " 'command and control occurs via HTTPS over port 443.',\n",
       " 'network traffic communicates over common ports like 80, 443, or 1433.',\n",
       " 'beacons to destination port 443.',\n",
       " 'uses ports 80, 443, and 8080 for C2.',\n",
       " 'has beaconed to its C2 over port 443.',\n",
       " 'is a RAT that communicates with HTTP.',\n",
       " 'communicates over port 80 for C2.',\n",
       " 'has used TCP port 8080 for C2.',\n",
       " 'uses HTTP TCP port 80 and HTTPS TCP port 443 for communications.',\n",
       " 'uses port 8080 for C2.',\n",
       " 'Some  malware uses a list of ordered port numbers to choose a port for C2 traffic, which includes commonly used ports such as 443, 53, 80, 25, and 8080.',\n",
       " 'C2 traffic for most  tools occurs over Port Numbers 53, 80, and 443.']"
      ]
     },
     "execution_count": 172,
     "metadata": {},
     "output_type": "execute_result"
    }
   ],
   "source": [
    "port_corpus = ['attempted to contact the C2 server over TCP using port 80.', 'uses port 443 for the control server communications.', 'uses port 443 for C2.', 'variants can use ports 443, 8443, and 8080 for communications.', 'has used ports 53, 80, 443, and 8080 for C2.', 'used SMB over ports 445 or 139 for C2. The group also established encrypted connections over port 443.', 'uses port 8000 and 443 for C2.', 'uses Port Numbers 443 and 80 for the C2 server.', 'uses port 80 for C2.', 'used TCP port 80 for C2.', 'uses 443 for C2 communications.', 'uses port 80 for C2.', 'uses Port Numbers 80, 8080, 8000, and 443 for communication to the C2 servers.', 'binds and listens on port 443.', 'uses port 443 for C2 communications.', 'uses port 443 for C2 communications.', 'uses port 443 for C2.', 'has used port 8080 for C2.', 'has tunneled RDP backdoors over port 443.', 'connects to external C2 infrastructure over port 443.', 'connects to external C2 infrastructure over port 443.', 'connects to external C2 infrastructure over the HTTP port.', 'has used port 80 for C2.', 'connects to external C2 infrastructure and opens a backdoor over port 443.', 'uses commonly used ports (like HTTPS/443) for command and control.', 'malware has communicated with C2 servers over port 6667 (for IRC) and port 8080.', 'A variant of  attempts communication to the C2 server over HTTP on port 443.', 'uses HTTP over port 443 for command and control.', 'Some  variants use ports 8080 and 8000 for C2.', 'uses a custom command and control protocol that communicates over commonly used ports. The C2 protocol is encapsulated in common application layer protocols.', 'communicates over common ports such as TCP 80, 443, and 25.', 'communicates with its C2 domain over ports 443 and 8443.', 'connects over 443 for C2.', 'communicates with its C2 server over port 443.', 'communicates over ports 80, 443, 53, and 8080 via raw sockets instead of the protocols usually associated with the ports.', 'uses a specific port of 443 and can also use ports 53 and 80 for C2. One  variant uses HTTP over port 443 to connect to its C2 server.', 'uses a custom command and control protocol that communicates over commonly used ports, and is frequently encapsulated by application layer protocols.', 'One  variant connected to its C2 server over port 8080.', 'operates over ports 21 and 20.', 'command and control occurs via HTTPS over port 443.', 'network traffic communicates over common ports like 80, 443, or 1433.', 'beacons to destination port 443.', 'uses ports 80, 443, and 8080 for C2.', 'has beaconed to its C2 over port 443.', 'is a RAT that communicates with HTTP.', 'communicates over port 80 for C2.', 'has used TCP port 8080 for C2.', 'uses HTTP TCP port 80 and HTTPS TCP port 443 for communications.', 'uses port 8080 for C2.', 'Some  malware uses a list of ordered port numbers to choose a port for C2 traffic, which includes commonly used ports such as 443, 53, 80, 25, and 8080.', 'C2 traffic for most  tools occurs over Port Numbers 53, 80, and 443.']\n",
    "port_corpus"
   ]
  },
  {
   "cell_type": "code",
   "execution_count": 129,
   "metadata": {},
   "outputs": [
    {
     "data": {
      "text/plain": [
       "51"
      ]
     },
     "execution_count": 129,
     "metadata": {},
     "output_type": "execute_result"
    }
   ],
   "source": [
    "len(port_corpus)"
   ]
  },
  {
   "cell_type": "code",
   "execution_count": 137,
   "metadata": {},
   "outputs": [
    {
     "data": {
      "text/plain": [
       "(51, 237)"
      ]
     },
     "execution_count": 137,
     "metadata": {},
     "output_type": "execute_result"
    }
   ],
   "source": [
    "vect = model[0]\n",
    "X1 = vect.fit_transform(port_corpus)\n",
    "X1.toarray().shape"
   ]
  },
  {
   "cell_type": "code",
   "execution_count": 209,
   "metadata": {},
   "outputs": [
    {
     "data": {
      "text/plain": [
       "array([0, 0, 0, 0, 0, 0, 0, 0, 0, 0, 0, 0, 0, 0, 0, 0, 0, 0, 0, 0, 0, 0,\n",
       "       0, 0, 0, 0, 0, 0, 0, 0, 0, 0, 0, 0, 0, 0, 0, 0, 0, 0, 0, 0, 0, 0,\n",
       "       0, 0, 0, 0, 0, 1, 0, 0, 0, 0, 0, 0, 0, 1, 0, 0, 0, 0, 0, 0, 0, 0,\n",
       "       0, 0, 0, 0, 0, 0, 0, 0, 0, 0, 0, 0, 0, 0, 0, 0, 0, 0, 0, 0, 0, 0,\n",
       "       0, 0, 0, 0, 0, 0, 0, 0, 0, 0, 0, 0, 1, 0, 0, 0, 0, 0, 0, 0, 0, 0,\n",
       "       0, 0, 0, 0, 0, 0, 0, 0, 0, 0, 1, 0, 0, 0, 0, 0, 0, 0, 0, 0, 0, 0,\n",
       "       0, 0, 0, 0, 0, 0, 0, 0, 0, 0, 0, 0, 0, 0, 0, 0, 0, 0, 0, 1, 0, 0,\n",
       "       0, 1, 0, 0, 0, 0, 0, 0, 0, 0, 0, 0, 0, 0, 0, 0, 0, 0, 0, 0, 0, 0,\n",
       "       0, 0, 0, 0, 0, 0, 0, 0, 0, 0, 0, 0, 0, 0, 0, 0, 0, 0, 0, 0, 0, 0,\n",
       "       0, 0, 0, 0, 0, 1, 0, 0, 0, 0, 0, 0, 0, 0, 0, 0, 0, 0, 0, 0, 0, 0,\n",
       "       0, 0, 0, 0, 0, 0, 0, 0, 0, 0, 0, 0, 0, 0, 0, 0, 0])"
      ]
     },
     "execution_count": 209,
     "metadata": {},
     "output_type": "execute_result"
    }
   ],
   "source": [
    "X1.toarray()[43]"
   ]
  },
  {
   "cell_type": "code",
   "execution_count": 208,
   "metadata": {},
   "outputs": [
    {
     "data": {
      "text/plain": [
       "array([0, 0, 0, 0, 0, 1, 0, 0, 0, 0, 0, 0, 0, 0, 1, 0, 0, 0, 0, 0, 0, 0,\n",
       "       1, 0, 0, 0, 0, 0, 0, 0, 0, 0, 1, 0, 0, 0, 0, 0, 0, 0, 0, 0, 0, 0,\n",
       "       0, 0, 0, 0, 0, 0, 0, 0, 0, 0, 0, 0, 0, 0, 0, 0, 0, 0, 0, 0, 0, 0,\n",
       "       0, 0, 0, 0, 0, 0, 0, 0, 0, 0, 0, 0, 0, 0, 0, 0, 0, 0, 0, 0, 0, 0,\n",
       "       0, 0, 0, 1, 0, 0, 0, 0, 0, 0, 0, 0, 0, 0, 0, 0, 0, 0, 0, 0, 0, 0,\n",
       "       0, 0, 0, 0, 0, 0, 0, 0, 0, 0, 0, 0, 0, 0, 0, 0, 0, 0, 0, 0, 0, 0,\n",
       "       0, 0, 0, 0, 0, 0, 0, 0, 0, 0, 0, 0, 0, 0, 0, 0, 0, 0, 0, 0, 0, 0,\n",
       "       0, 0, 0, 0, 0, 0, 0, 0, 0, 0, 0, 0, 0, 1, 0, 0, 0, 0, 0, 0, 0, 0,\n",
       "       0, 0, 0, 0, 0, 0, 0, 0, 0, 0, 0, 0, 0, 0, 0, 0, 0, 0, 0, 0, 0, 0,\n",
       "       0, 0, 0, 0, 0, 0, 0, 0, 0, 0, 0, 0, 0, 0, 0, 0, 0, 0, 0, 0, 0, 0,\n",
       "       0, 1, 0, 0, 0, 0, 0, 0, 0, 0, 0, 0, 0, 0, 0, 0, 0])"
      ]
     },
     "execution_count": 208,
     "metadata": {},
     "output_type": "execute_result"
    }
   ],
   "source": [
    "X1.toarray()[42]"
   ]
  },
  {
   "cell_type": "code",
   "execution_count": 138,
   "metadata": {},
   "outputs": [
    {
     "data": {
      "text/plain": [
       "(51, 2000)"
      ]
     },
     "execution_count": 138,
     "metadata": {},
     "output_type": "execute_result"
    }
   ],
   "source": [
    "from keras.preprocessing.sequence import pad_sequences\n",
    "X1_pred = pad_sequences(X1.toarray(), padding='post', maxlen=2000)\n",
    "X1_pred.shape"
   ]
  },
  {
   "cell_type": "code",
   "execution_count": 211,
   "metadata": {},
   "outputs": [
    {
     "data": {
      "text/plain": [
       "(2000,)"
      ]
     },
     "execution_count": 211,
     "metadata": {},
     "output_type": "execute_result"
    }
   ],
   "source": [
    "X1_pred[42].shape"
   ]
  },
  {
   "cell_type": "code",
   "execution_count": 213,
   "metadata": {},
   "outputs": [
    {
     "data": {
      "text/plain": [
       "array([0, 0, 0, 0, 0, 1, 0, 0, 0, 0, 0, 0, 0, 0, 1, 0, 0, 0, 0, 0],\n",
       "      dtype=int32)"
      ]
     },
     "execution_count": 213,
     "metadata": {},
     "output_type": "execute_result"
    }
   ],
   "source": [
    "X1_pred[42][:20]"
   ]
  },
  {
   "cell_type": "code",
   "execution_count": 214,
   "metadata": {},
   "outputs": [
    {
     "data": {
      "text/plain": [
       "array([False, False, False, False, False, False, False, False, False,\n",
       "       False, False, False, False, False, False, False, False, False,\n",
       "       False, False, False, False, False, False, False, False, False,\n",
       "       False, False, False, False, False, False, False, False, False,\n",
       "       False, False, False, False, False, False, False, False, False,\n",
       "       False, False, False, False, False, False])"
      ]
     },
     "execution_count": 214,
     "metadata": {},
     "output_type": "execute_result"
    }
   ],
   "source": [
    "predictions = model[1].predict(X1_pred)\n",
    "predictions"
   ]
  },
  {
   "cell_type": "code",
   "execution_count": 142,
   "metadata": {},
   "outputs": [
    {
     "data": {
      "text/plain": [
       "array([[0.96101292, 0.03898708],\n",
       "       [0.99555442, 0.00444558],\n",
       "       [0.99514826, 0.00485174],\n",
       "       [0.99517025, 0.00482975],\n",
       "       [0.99511116, 0.00488884],\n",
       "       [0.99673549, 0.00326451],\n",
       "       [0.99541592, 0.00458408],\n",
       "       [0.99508661, 0.00491339],\n",
       "       [0.99515075, 0.00484925],\n",
       "       [0.9947261 , 0.0052739 ],\n",
       "       [0.9948971 , 0.0051029 ],\n",
       "       [0.99515075, 0.00484925],\n",
       "       [0.99278744, 0.00721256],\n",
       "       [0.99520416, 0.00479584],\n",
       "       [0.99513909, 0.00486091],\n",
       "       [0.99513909, 0.00486091],\n",
       "       [0.99514826, 0.00485174],\n",
       "       [0.99538941, 0.00461059],\n",
       "       [0.99507756, 0.00492244],\n",
       "       [0.96026348, 0.03973652],\n",
       "       [0.96026348, 0.03973652],\n",
       "       [0.95973276, 0.04026724],\n",
       "       [0.99526616, 0.00473384],\n",
       "       [0.94813659, 0.05186341],\n",
       "       [0.99575476, 0.00424524],\n",
       "       [0.99742518, 0.00257482],\n",
       "       [0.99409958, 0.00590042],\n",
       "       [0.99527576, 0.00472424],\n",
       "       [0.99166936, 0.00833064],\n",
       "       [0.99600397, 0.00399603],\n",
       "       [0.99617533, 0.00382467],\n",
       "       [0.99222029, 0.00777971],\n",
       "       [0.99523408, 0.00476592],\n",
       "       [0.99521417, 0.00478583],\n",
       "       [0.99594041, 0.00405959],\n",
       "       [0.99232702, 0.00767298],\n",
       "       [0.99562741, 0.00437259],\n",
       "       [0.99591046, 0.00408954],\n",
       "       [0.99493355, 0.00506645],\n",
       "       [0.99616355, 0.00383645],\n",
       "       [0.9970767 , 0.0029233 ],\n",
       "       [0.99255451, 0.00744549],\n",
       "       [0.99503105, 0.00496895],\n",
       "       [0.97805317, 0.02194683],\n",
       "       [0.99497352, 0.00502648],\n",
       "       [0.99501556, 0.00498444],\n",
       "       [0.9950534 , 0.0049466 ],\n",
       "       [0.99399382, 0.00600618],\n",
       "       [0.99527698, 0.00472302],\n",
       "       [0.99566034, 0.00433966],\n",
       "       [0.99575885, 0.00424115]])"
      ]
     },
     "execution_count": 142,
     "metadata": {},
     "output_type": "execute_result"
    }
   ],
   "source": [
    "probs = model[1].predict_proba(X1_pred)\n",
    "probs"
   ]
  },
  {
   "cell_type": "code",
   "execution_count": 148,
   "metadata": {},
   "outputs": [
    {
     "name": "stderr",
     "output_type": "stream",
     "text": [
      "[nltk_data] Downloading package stopwords to\n",
      "[nltk_data]     /Users/allard/nltk_data...\n",
      "[nltk_data]   Package stopwords is already up-to-date!\n"
     ]
    },
    {
     "data": {
      "text/plain": [
       "True"
      ]
     },
     "execution_count": 148,
     "metadata": {},
     "output_type": "execute_result"
    }
   ],
   "source": [
    "import nltk\n",
    "nltk.download('stopwords')"
   ]
  },
  {
   "cell_type": "code",
   "execution_count": 174,
   "metadata": {},
   "outputs": [
    {
     "name": "stdout",
     "output_type": "stream",
     "text": [
      "attempted to contact the C2 server over TCP using port 80.\n",
      "uses port 443 for the control server communications.\n",
      "uses port 443 for C2.\n",
      "variants can use ports 443, 8443, and 8080 for communications.\n",
      "has used ports 53, 80, 443, and 8080 for C2.\n",
      "used SMB over ports 445 or 139 for C2. The group also established encrypted connections over port 443.\n",
      "uses port 8000 and 443 for C2.\n",
      "uses Port Numbers 443 and 80 for the C2 server.\n",
      "uses port 80 for C2.\n",
      "used TCP port 80 for C2.\n",
      "uses 443 for C2 communications.\n",
      "uses port 80 for C2.\n",
      "uses Port Numbers 80, 8080, 8000, and 443 for communication to the C2 servers.\n",
      "binds and listens on port 443.\n",
      "uses port 443 for C2 communications.\n",
      "uses port 443 for C2 communications.\n",
      "uses port 443 for C2.\n",
      "has used port 8080 for C2.\n",
      "has tunneled RDP backdoors over port 443.\n",
      "connects to external C2 infrastructure over port 443.\n",
      "connects to external C2 infrastructure over port 443.\n",
      "connects to external C2 infrastructure over the HTTP port.\n",
      "has used port 80 for C2.\n",
      "connects to external C2 infrastructure and opens a backdoor over port 443.\n",
      "uses commonly used ports (like HTTPS/443) for command and control.\n",
      "malware has communicated with C2 servers over port 6667 (for IRC) and port 8080.\n",
      "A variant of  attempts communication to the C2 server over HTTP on port 443.\n",
      "uses HTTP over port 443 for command and control.\n",
      "Some  variants use ports 8080 and 8000 for C2.\n",
      "uses a custom command and control protocol that communicates over commonly used ports. The C2 protocol is encapsulated in common application layer protocols.\n",
      "communicates over common ports such as TCP 80, 443, and 25.\n",
      "communicates with its C2 domain over ports 443 and 8443.\n",
      "connects over 443 for C2.\n",
      "communicates with its C2 server over port 443.\n",
      "communicates over ports 80, 443, 53, and 8080 via raw sockets instead of the protocols usually associated with the ports.\n",
      "uses a specific port of 443 and can also use ports 53 and 80 for C2. One  variant uses HTTP over port 443 to connect to its C2 server.\n",
      "uses a custom command and control protocol that communicates over commonly used ports, and is frequently encapsulated by application layer protocols.\n",
      "One  variant connected to its C2 server over port 8080.\n",
      "operates over ports 21 and 20.\n",
      "command and control occurs via HTTPS over port 443.\n",
      "network traffic communicates over common ports like 80, 443, or 1433.\n",
      "beacons to destination port 443.\n",
      "uses ports 80, 443, and 8080 for C2.\n",
      "has beaconed to its C2 over port 443.\n",
      "is a RAT that communicates with HTTP.\n",
      "communicates over port 80 for C2.\n",
      "has used TCP port 8080 for C2.\n",
      "uses HTTP TCP port 80 and HTTPS TCP port 443 for communications.\n",
      "uses port 8080 for C2.\n",
      "Some  malware uses a list of ordered port numbers to choose a port for C2 traffic, which includes commonly used ports such as 443, 53, 80, 25, and 8080.\n",
      "C2 traffic for most  tools occurs over Port Numbers 53, 80, and 443.\n"
     ]
    }
   ],
   "source": [
    "for s in port_corpus:\n",
    "    print(s)"
   ]
  },
  {
   "cell_type": "code",
   "execution_count": 197,
   "metadata": {},
   "outputs": [
    {
     "name": "stdout",
     "output_type": "stream",
     "text": [
      "attempt contact c2 server tcp use port 80 \n",
      "[[1 1 1 ... 0 0 0]]\n",
      "use port 443 control server commun \n",
      "[[1 1 1 ... 0 0 0]]\n",
      "use port 443 c2 \n",
      "[[1 1 1 ... 0 0 0]]\n",
      "variant use port 443 8443 8080 commun \n",
      "[[1 1 1 ... 0 0 0]]\n",
      "use port 53 80 443 8080 c2 \n",
      "[[1 1 1 ... 0 0 0]]\n",
      "use smb port 445 139 c2 group also establish encrypt connect port 443 \n",
      "[[1 1 1 ... 0 0 0]]\n",
      "use port 8000 443 c2 \n",
      "[[1 1 1 ... 0 0 0]]\n",
      "use port number 443 80 c2 server \n",
      "[[1 1 1 ... 0 0 0]]\n",
      "use port 80 c2 \n",
      "[[1 1 1 ... 0 0 0]]\n",
      "use tcp port 80 c2 \n",
      "[[1 1 1 ... 0 0 0]]\n",
      "use 443 c2 commun \n",
      "[[1 1 1 ... 0 0 0]]\n",
      "use port 80 c2 \n",
      "[[1 1 1 ... 0 0 0]]\n",
      "use port number 80 8080 8000 443 commun c2 server \n",
      "[[1 1 1 ... 0 0 0]]\n",
      "bind listen port 443 \n",
      "[[1 1 1 ... 0 0 0]]\n",
      "use port 443 c2 commun \n",
      "[[1 1 1 ... 0 0 0]]\n",
      "use port 443 c2 commun \n",
      "[[1 1 1 ... 0 0 0]]\n",
      "use port 443 c2 \n",
      "[[1 1 1 ... 0 0 0]]\n",
      "use port 8080 c2 \n",
      "[[1 1 1 ... 0 0 0]]\n",
      "tunnel rdp backdoor port 443 \n",
      "[[1 1 1 ... 0 0 0]]\n",
      "connect extern c2 infrastructur port 443 \n",
      "[[1 1 1 ... 0 0 0]]\n",
      "connect extern c2 infrastructur port 443 \n",
      "[[1 1 1 ... 0 0 0]]\n",
      "connect extern c2 infrastructur http port \n",
      "[[1 1 1 ... 0 0 0]]\n",
      "use port 80 c2 \n",
      "[[1 1 1 ... 0 0 0]]\n",
      "connect extern c2 infrastructur open backdoor port 443 \n",
      "[[1 1 1 ... 0 0 0]]\n",
      "use commonli use port like http 443 command control \n",
      "[[1 1 1 ... 0 0 0]]\n",
      "malwar commun c2 server port 6667 irc port 8080 \n",
      "[[1 1 1 ... 0 0 0]]\n",
      "variant attempt commun c2 server http port 443 \n",
      "[[1 1 1 ... 0 0 0]]\n",
      "use http port 443 command control \n",
      "[[1 1 1 ... 0 0 0]]\n",
      "variant use port 8080 8000 c2 \n",
      "[[1 1 1 ... 0 0 0]]\n",
      "use custom command control protocol commun commonli use port c2 protocol encapsul common applic layer protocol \n",
      "[[1 1 1 ... 0 0 0]]\n",
      "commun common port tcp 80 443 25 \n",
      "[[1 1 1 ... 0 0 0]]\n",
      "commun c2 domain port 443 8443 \n",
      "[[1 1 1 ... 0 0 0]]\n",
      "connect 443 c2 \n",
      "[[1 1 0 ... 0 0 0]]\n",
      "commun c2 server port 443 \n",
      "[[1 1 1 ... 0 0 0]]\n",
      "commun port 80 443 53 8080 via raw socket instead protocol usual associ port \n",
      "[[1 1 1 ... 0 0 0]]\n",
      "use specif port 443 also use port 53 80 c2 one variant use http port 443 connect c2 server \n",
      "[[1 1 1 ... 0 0 0]]\n",
      "use custom command control protocol commun commonli use port frequent encapsul applic layer protocol \n",
      "[[1 1 1 ... 0 0 0]]\n",
      "one variant connect c2 server port 8080 \n",
      "[[1 1 1 ... 0 0 0]]\n",
      "oper port 21 20 \n",
      "[[1 1 1 ... 0 0 0]]\n",
      "command control occur via http port 443 \n",
      "[[1 1 1 ... 0 0 0]]\n",
      "network traffic commun common port like 80 443 1433 \n",
      "[[1 1 1 ... 0 0 0]]\n",
      "beacon destin port 443 \n",
      "[[1 1 1 ... 0 0 0]]\n",
      "use port 80 443 8080 c2 \n",
      "[[1 1 1 ... 0 0 0]]\n",
      "beacon c2 port 443 \n",
      "[[1 1 1 ... 0 0 0]]\n",
      "rat commun http \n",
      "[[1 1 0 ... 0 0 0]]\n",
      "commun port 80 c2 \n",
      "[[1 1 1 ... 0 0 0]]\n",
      "use tcp port 8080 c2 \n",
      "[[1 1 1 ... 0 0 0]]\n",
      "use http tcp port 80 http tcp port 443 commun \n",
      "[[1 1 2 ... 0 0 0]]\n",
      "use port 8080 c2 \n",
      "[[1 1 1 ... 0 0 0]]\n",
      "malwar use list order port number choos port c2 traffic includ commonli use port 443 53 80 25 8080 \n",
      "[[1 1 1 ... 0 0 0]]\n",
      "c2 traffic tool occur port number 53 80 443 \n",
      "[[1 1 1 ... 0 0 0]]\n"
     ]
    }
   ],
   "source": [
    "import nltk\n",
    "from nltk.stem import PorterStemmer\n",
    "from nltk.tokenize import RegexpTokenizer\n",
    "\n",
    "sents_tokenized = []\n",
    "for sentence in port_corpus:\n",
    "    # * Remove stopwords\n",
    "    sw = nltk.corpus.stopwords.words('english')\n",
    "    regex_tokenizer = RegexpTokenizer('\\w+')        # Regex to select all (and only) words from the sentence\n",
    "    tokens = regex_tokenizer.tokenize(sentence)\n",
    "\n",
    "    ns_words = []\n",
    "    for word in tokens:\n",
    "        if word.lower() not in sw:\n",
    "            ns_words.append(word.lower())\n",
    "\n",
    "    # * Stemming\n",
    "    ps = PorterStemmer() \n",
    "\n",
    "    stemmed_sentence = ''\n",
    "    for word in ns_words:\n",
    "        stem_word = ps.stem(word)\n",
    "        stem_word += ' '\n",
    "        stemmed_sentence += stem_word\n",
    "    print(stemmed_sentence)\n",
    "    sent_tokenized = vect.fit_transform([stemmed_sentence])\n",
    "    \n",
    "    sent_pad = pad_sequences(sent_tokenized.toarray(), padding='post', maxlen=2000)\n",
    "    print(sent_pad)\n",
    "    sents_tokenized.append(sent_pad)"
   ]
  },
  {
   "cell_type": "code",
   "execution_count": 199,
   "metadata": {},
   "outputs": [
    {
     "name": "stdout",
     "output_type": "stream",
     "text": [
      "(1, 2000)\n",
      "(1, 2000)\n",
      "(1, 2000)\n",
      "(1, 2000)\n",
      "(1, 2000)\n",
      "(1, 2000)\n",
      "(1, 2000)\n",
      "(1, 2000)\n",
      "(1, 2000)\n",
      "(1, 2000)\n",
      "(1, 2000)\n",
      "(1, 2000)\n",
      "(1, 2000)\n",
      "(1, 2000)\n",
      "(1, 2000)\n",
      "(1, 2000)\n",
      "(1, 2000)\n",
      "(1, 2000)\n",
      "(1, 2000)\n",
      "(1, 2000)\n",
      "(1, 2000)\n",
      "(1, 2000)\n",
      "(1, 2000)\n",
      "(1, 2000)\n",
      "(1, 2000)\n",
      "(1, 2000)\n",
      "(1, 2000)\n",
      "(1, 2000)\n",
      "(1, 2000)\n",
      "(1, 2000)\n",
      "(1, 2000)\n",
      "(1, 2000)\n",
      "(1, 2000)\n",
      "(1, 2000)\n",
      "(1, 2000)\n",
      "(1, 2000)\n",
      "(1, 2000)\n",
      "(1, 2000)\n",
      "(1, 2000)\n",
      "(1, 2000)\n",
      "(1, 2000)\n",
      "(1, 2000)\n",
      "(1, 2000)\n",
      "(1, 2000)\n",
      "(1, 2000)\n",
      "(1, 2000)\n",
      "(1, 2000)\n",
      "(1, 2000)\n",
      "(1, 2000)\n",
      "(1, 2000)\n",
      "(1, 2000)\n",
      "<class 'list'>\n"
     ]
    },
    {
     "data": {
      "text/plain": [
       "51"
      ]
     },
     "execution_count": 199,
     "metadata": {},
     "output_type": "execute_result"
    }
   ],
   "source": [
    "for s in sents_tokenized:\n",
    "    print(s.shape)\n",
    "print(type(sents_tokenized))\n",
    "len(sents_tokenized)"
   ]
  },
  {
   "cell_type": "code",
   "execution_count": 200,
   "metadata": {},
   "outputs": [
    {
     "ename": "ValueError",
     "evalue": "Found array with dim 3. Estimator expected <= 2.",
     "output_type": "error",
     "traceback": [
      "\u001b[0;31m---------------------------------------------------------------------------\u001b[0m",
      "\u001b[0;31mValueError\u001b[0m                                Traceback (most recent call last)",
      "\u001b[0;32m<ipython-input-200-3743a5121f47>\u001b[0m in \u001b[0;36m<module>\u001b[0;34m\u001b[0m\n\u001b[0;32m----> 1\u001b[0;31m \u001b[0mPREDS\u001b[0m \u001b[0;34m=\u001b[0m \u001b[0mmodel\u001b[0m\u001b[0;34m[\u001b[0m\u001b[0;36m1\u001b[0m\u001b[0;34m]\u001b[0m\u001b[0;34m.\u001b[0m\u001b[0mpredict\u001b[0m\u001b[0;34m(\u001b[0m\u001b[0msents_tokenized\u001b[0m\u001b[0;34m)\u001b[0m\u001b[0;34m\u001b[0m\u001b[0;34m\u001b[0m\u001b[0m\n\u001b[0m\u001b[1;32m      2\u001b[0m \u001b[0mPREDS\u001b[0m\u001b[0;34m\u001b[0m\u001b[0;34m\u001b[0m\u001b[0m\n",
      "\u001b[0;32m~/anaconda3/envs/dev/lib/python3.6/site-packages/sklearn/linear_model/_base.py\u001b[0m in \u001b[0;36mpredict\u001b[0;34m(self, X)\u001b[0m\n\u001b[1;32m    291\u001b[0m             \u001b[0mPredicted\u001b[0m \u001b[0;32mclass\u001b[0m \u001b[0mlabel\u001b[0m \u001b[0mper\u001b[0m \u001b[0msample\u001b[0m\u001b[0;34m.\u001b[0m\u001b[0;34m\u001b[0m\u001b[0;34m\u001b[0m\u001b[0m\n\u001b[1;32m    292\u001b[0m         \"\"\"\n\u001b[0;32m--> 293\u001b[0;31m         \u001b[0mscores\u001b[0m \u001b[0;34m=\u001b[0m \u001b[0mself\u001b[0m\u001b[0;34m.\u001b[0m\u001b[0mdecision_function\u001b[0m\u001b[0;34m(\u001b[0m\u001b[0mX\u001b[0m\u001b[0;34m)\u001b[0m\u001b[0;34m\u001b[0m\u001b[0;34m\u001b[0m\u001b[0m\n\u001b[0m\u001b[1;32m    294\u001b[0m         \u001b[0;32mif\u001b[0m \u001b[0mlen\u001b[0m\u001b[0;34m(\u001b[0m\u001b[0mscores\u001b[0m\u001b[0;34m.\u001b[0m\u001b[0mshape\u001b[0m\u001b[0;34m)\u001b[0m \u001b[0;34m==\u001b[0m \u001b[0;36m1\u001b[0m\u001b[0;34m:\u001b[0m\u001b[0;34m\u001b[0m\u001b[0;34m\u001b[0m\u001b[0m\n\u001b[1;32m    295\u001b[0m             \u001b[0mindices\u001b[0m \u001b[0;34m=\u001b[0m \u001b[0;34m(\u001b[0m\u001b[0mscores\u001b[0m \u001b[0;34m>\u001b[0m \u001b[0;36m0\u001b[0m\u001b[0;34m)\u001b[0m\u001b[0;34m.\u001b[0m\u001b[0mastype\u001b[0m\u001b[0;34m(\u001b[0m\u001b[0mnp\u001b[0m\u001b[0;34m.\u001b[0m\u001b[0mint\u001b[0m\u001b[0;34m)\u001b[0m\u001b[0;34m\u001b[0m\u001b[0;34m\u001b[0m\u001b[0m\n",
      "\u001b[0;32m~/anaconda3/envs/dev/lib/python3.6/site-packages/sklearn/linear_model/_base.py\u001b[0m in \u001b[0;36mdecision_function\u001b[0;34m(self, X)\u001b[0m\n\u001b[1;32m    266\u001b[0m         \u001b[0mcheck_is_fitted\u001b[0m\u001b[0;34m(\u001b[0m\u001b[0mself\u001b[0m\u001b[0;34m)\u001b[0m\u001b[0;34m\u001b[0m\u001b[0;34m\u001b[0m\u001b[0m\n\u001b[1;32m    267\u001b[0m \u001b[0;34m\u001b[0m\u001b[0m\n\u001b[0;32m--> 268\u001b[0;31m         \u001b[0mX\u001b[0m \u001b[0;34m=\u001b[0m \u001b[0mcheck_array\u001b[0m\u001b[0;34m(\u001b[0m\u001b[0mX\u001b[0m\u001b[0;34m,\u001b[0m \u001b[0maccept_sparse\u001b[0m\u001b[0;34m=\u001b[0m\u001b[0;34m'csr'\u001b[0m\u001b[0;34m)\u001b[0m\u001b[0;34m\u001b[0m\u001b[0;34m\u001b[0m\u001b[0m\n\u001b[0m\u001b[1;32m    269\u001b[0m \u001b[0;34m\u001b[0m\u001b[0m\n\u001b[1;32m    270\u001b[0m         \u001b[0mn_features\u001b[0m \u001b[0;34m=\u001b[0m \u001b[0mself\u001b[0m\u001b[0;34m.\u001b[0m\u001b[0mcoef_\u001b[0m\u001b[0;34m.\u001b[0m\u001b[0mshape\u001b[0m\u001b[0;34m[\u001b[0m\u001b[0;36m1\u001b[0m\u001b[0;34m]\u001b[0m\u001b[0;34m\u001b[0m\u001b[0;34m\u001b[0m\u001b[0m\n",
      "\u001b[0;32m~/anaconda3/envs/dev/lib/python3.6/site-packages/sklearn/utils/validation.py\u001b[0m in \u001b[0;36mcheck_array\u001b[0;34m(array, accept_sparse, accept_large_sparse, dtype, order, copy, force_all_finite, ensure_2d, allow_nd, ensure_min_samples, ensure_min_features, warn_on_dtype, estimator)\u001b[0m\n\u001b[1;32m    572\u001b[0m         \u001b[0;32mif\u001b[0m \u001b[0;32mnot\u001b[0m \u001b[0mallow_nd\u001b[0m \u001b[0;32mand\u001b[0m \u001b[0marray\u001b[0m\u001b[0;34m.\u001b[0m\u001b[0mndim\u001b[0m \u001b[0;34m>=\u001b[0m \u001b[0;36m3\u001b[0m\u001b[0;34m:\u001b[0m\u001b[0;34m\u001b[0m\u001b[0;34m\u001b[0m\u001b[0m\n\u001b[1;32m    573\u001b[0m             raise ValueError(\"Found array with dim %d. %s expected <= 2.\"\n\u001b[0;32m--> 574\u001b[0;31m                              % (array.ndim, estimator_name))\n\u001b[0m\u001b[1;32m    575\u001b[0m \u001b[0;34m\u001b[0m\u001b[0m\n\u001b[1;32m    576\u001b[0m         \u001b[0;32mif\u001b[0m \u001b[0mforce_all_finite\u001b[0m\u001b[0;34m:\u001b[0m\u001b[0;34m\u001b[0m\u001b[0;34m\u001b[0m\u001b[0m\n",
      "\u001b[0;31mValueError\u001b[0m: Found array with dim 3. Estimator expected <= 2."
     ]
    }
   ],
   "source": [
    "PREDS = model[1].predict(sents_tokenized)\n",
    "PREDS"
   ]
  },
  {
   "cell_type": "code",
   "execution_count": null,
   "metadata": {},
   "outputs": [],
   "source": []
  }
 ],
 "metadata": {
  "kernelspec": {
   "display_name": "Python 3",
   "language": "python",
   "name": "python3"
  },
  "language_info": {
   "codemirror_mode": {
    "name": "ipython",
    "version": 3
   },
   "file_extension": ".py",
   "mimetype": "text/x-python",
   "name": "python",
   "nbconvert_exporter": "python",
   "pygments_lexer": "ipython3",
   "version": "3.6.10"
  }
 },
 "nbformat": 4,
 "nbformat_minor": 2
}
