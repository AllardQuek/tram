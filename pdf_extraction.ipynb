{
 "cells": [
  {
   "cell_type": "markdown",
   "metadata": {},
   "source": [
    "## Tabula\n",
    "\n",
    "Installation\n",
    "https://pypi.org/project/tabula-py/\n",
    "\n",
    "pip install tabula-py\n",
    "\n",
    "tabula-py docs\n",
    "https://www.pydoc.io/pypi/tabula-py-0.9.0/autoapi/wrapper/index.html"
   ]
  },
  {
   "cell_type": "markdown",
   "metadata": {},
   "source": [
    "### Emotet"
   ]
  },
  {
   "cell_type": "code",
   "execution_count": 225,
   "metadata": {},
   "outputs": [
    {
     "data": {
      "text/html": [
       "<div>\n",
       "<style scoped>\n",
       "    .dataframe tbody tr th:only-of-type {\n",
       "        vertical-align: middle;\n",
       "    }\n",
       "\n",
       "    .dataframe tbody tr th {\n",
       "        vertical-align: top;\n",
       "    }\n",
       "\n",
       "    .dataframe thead th {\n",
       "        text-align: right;\n",
       "    }\n",
       "</style>\n",
       "<table border=\"1\" class=\"dataframe\">\n",
       "  <thead>\n",
       "    <tr style=\"text-align: right;\">\n",
       "      <th></th>\n",
       "      <th>ID</th>\n",
       "      <th>Name</th>\n",
       "      <th>Identified Sentence</th>\n",
       "    </tr>\n",
       "  </thead>\n",
       "  <tbody>\n",
       "    <tr>\n",
       "      <th>0</th>\n",
       "      <td>T1063</td>\n",
       "      <td>Security Software</td>\n",
       "      <td>Later versions of the software saw the additio...</td>\n",
       "    </tr>\n",
       "    <tr>\n",
       "      <th>1</th>\n",
       "      <td>NaN</td>\n",
       "      <td>Discovery</td>\n",
       "      <td>spamming and malware</td>\n",
       "    </tr>\n",
       "    <tr>\n",
       "      <th>2</th>\n",
       "      <td>NaN</td>\n",
       "      <td>NaN</td>\n",
       "      <td>delivery services—including other banking Troj...</td>\n",
       "    </tr>\n",
       "    <tr>\n",
       "      <th>3</th>\n",
       "      <td>NaN</td>\n",
       "      <td>NaN</td>\n",
       "      <td>NaN</td>\n",
       "    </tr>\n",
       "    <tr>\n",
       "      <th>4</th>\n",
       "      <td>NaN</td>\n",
       "      <td>NaN</td>\n",
       "      <td>Emotet uses functionality that helps the softw...</td>\n",
       "    </tr>\n",
       "    <tr>\n",
       "      <th>5</th>\n",
       "      <td>NaN</td>\n",
       "      <td>NaN</td>\n",
       "      <td>detection by some</td>\n",
       "    </tr>\n",
       "    <tr>\n",
       "      <th>6</th>\n",
       "      <td>NaN</td>\n",
       "      <td>NaN</td>\n",
       "      <td>anti-malware products.</td>\n",
       "    </tr>\n",
       "    <tr>\n",
       "      <th>7</th>\n",
       "      <td>T1064</td>\n",
       "      <td>Scripting</td>\n",
       "      <td>The infection may arrive either via malicious ...</td>\n",
       "    </tr>\n",
       "    <tr>\n",
       "      <th>8</th>\n",
       "      <td>NaN</td>\n",
       "      <td>NaN</td>\n",
       "      <td>enabled document</td>\n",
       "    </tr>\n",
       "    <tr>\n",
       "      <th>9</th>\n",
       "      <td>NaN</td>\n",
       "      <td>NaN</td>\n",
       "      <td>files, or malicious link.</td>\n",
       "    </tr>\n",
       "    <tr>\n",
       "      <th>10</th>\n",
       "      <td>T1204</td>\n",
       "      <td>User Execution</td>\n",
       "      <td>The infection may arrive either via malicious ...</td>\n",
       "    </tr>\n",
       "    <tr>\n",
       "      <th>11</th>\n",
       "      <td>NaN</td>\n",
       "      <td>NaN</td>\n",
       "      <td>enabled document</td>\n",
       "    </tr>\n",
       "    <tr>\n",
       "      <th>12</th>\n",
       "      <td>NaN</td>\n",
       "      <td>NaN</td>\n",
       "      <td>files, or malicious link.</td>\n",
       "    </tr>\n",
       "    <tr>\n",
       "      <th>13</th>\n",
       "      <td>T1003</td>\n",
       "      <td>Credential Dumping</td>\n",
       "      <td>This allows the attackers to install updated v...</td>\n",
       "    </tr>\n",
       "    <tr>\n",
       "      <th>14</th>\n",
       "      <td>NaN</td>\n",
       "      <td>NaN</td>\n",
       "      <td>software, install</td>\n",
       "    </tr>\n",
       "    <tr>\n",
       "      <th>15</th>\n",
       "      <td>NaN</td>\n",
       "      <td>NaN</td>\n",
       "      <td>additional malware such as other banking Troja...</td>\n",
       "    </tr>\n",
       "    <tr>\n",
       "      <th>16</th>\n",
       "      <td>NaN</td>\n",
       "      <td>NaN</td>\n",
       "      <td>as a dumping</td>\n",
       "    </tr>\n",
       "    <tr>\n",
       "      <th>17</th>\n",
       "      <td>NaN</td>\n",
       "      <td>NaN</td>\n",
       "      <td>ground for stolen information such as financia...</td>\n",
       "    </tr>\n",
       "    <tr>\n",
       "      <th>18</th>\n",
       "      <td>NaN</td>\n",
       "      <td>NaN</td>\n",
       "      <td>usernames and</td>\n",
       "    </tr>\n",
       "    <tr>\n",
       "      <th>19</th>\n",
       "      <td>NaN</td>\n",
       "      <td>NaN</td>\n",
       "      <td>passwords, and email addresses.</td>\n",
       "    </tr>\n",
       "    <tr>\n",
       "      <th>20</th>\n",
       "      <td>NaN</td>\n",
       "      <td>NaN</td>\n",
       "      <td>NaN</td>\n",
       "    </tr>\n",
       "    <tr>\n",
       "      <th>21</th>\n",
       "      <td>NaN</td>\n",
       "      <td>NaN</td>\n",
       "      <td>Latest Emotet news</td>\n",
       "    </tr>\n",
       "    <tr>\n",
       "      <th>22</th>\n",
       "      <td>NaN</td>\n",
       "      <td>NaN</td>\n",
       "      <td>NaN</td>\n",
       "    </tr>\n",
       "    <tr>\n",
       "      <th>23</th>\n",
       "      <td>NaN</td>\n",
       "      <td>NaN</td>\n",
       "      <td>Emotet is back: botnet springs back to life wi...</td>\n",
       "    </tr>\n",
       "    <tr>\n",
       "      <th>24</th>\n",
       "      <td>NaN</td>\n",
       "      <td>NaN</td>\n",
       "      <td>campaign</td>\n",
       "    </tr>\n",
       "    <tr>\n",
       "      <th>25</th>\n",
       "      <td>NaN</td>\n",
       "      <td>NaN</td>\n",
       "      <td>NaN</td>\n",
       "    </tr>\n",
       "    <tr>\n",
       "      <th>26</th>\n",
       "      <td>NaN</td>\n",
       "      <td>NaN</td>\n",
       "      <td>Emotet on the rise with heavy spam campaign</td>\n",
       "    </tr>\n",
       "    <tr>\n",
       "      <th>27</th>\n",
       "      <td>NaN</td>\n",
       "      <td>NaN</td>\n",
       "      <td>NaN</td>\n",
       "    </tr>\n",
       "    <tr>\n",
       "      <th>28</th>\n",
       "      <td>NaN</td>\n",
       "      <td>NaN</td>\n",
       "      <td>Malware analysis: decoding Emotet, part 2</td>\n",
       "    </tr>\n",
       "  </tbody>\n",
       "</table>\n",
       "</div>"
      ],
      "text/plain": [
       "       ID                Name  \\\n",
       "0   T1063   Security Software   \n",
       "1     NaN           Discovery   \n",
       "2     NaN                 NaN   \n",
       "3     NaN                 NaN   \n",
       "4     NaN                 NaN   \n",
       "5     NaN                 NaN   \n",
       "6     NaN                 NaN   \n",
       "7   T1064           Scripting   \n",
       "8     NaN                 NaN   \n",
       "9     NaN                 NaN   \n",
       "10  T1204      User Execution   \n",
       "11    NaN                 NaN   \n",
       "12    NaN                 NaN   \n",
       "13  T1003  Credential Dumping   \n",
       "14    NaN                 NaN   \n",
       "15    NaN                 NaN   \n",
       "16    NaN                 NaN   \n",
       "17    NaN                 NaN   \n",
       "18    NaN                 NaN   \n",
       "19    NaN                 NaN   \n",
       "20    NaN                 NaN   \n",
       "21    NaN                 NaN   \n",
       "22    NaN                 NaN   \n",
       "23    NaN                 NaN   \n",
       "24    NaN                 NaN   \n",
       "25    NaN                 NaN   \n",
       "26    NaN                 NaN   \n",
       "27    NaN                 NaN   \n",
       "28    NaN                 NaN   \n",
       "\n",
       "                                  Identified Sentence  \n",
       "0   Later versions of the software saw the additio...  \n",
       "1                                spamming and malware  \n",
       "2   delivery services—including other banking Troj...  \n",
       "3                                                 NaN  \n",
       "4   Emotet uses functionality that helps the softw...  \n",
       "5                                   detection by some  \n",
       "6                              anti-malware products.  \n",
       "7   The infection may arrive either via malicious ...  \n",
       "8                                    enabled document  \n",
       "9                           files, or malicious link.  \n",
       "10  The infection may arrive either via malicious ...  \n",
       "11                                   enabled document  \n",
       "12                          files, or malicious link.  \n",
       "13  This allows the attackers to install updated v...  \n",
       "14                                  software, install  \n",
       "15  additional malware such as other banking Troja...  \n",
       "16                                       as a dumping  \n",
       "17  ground for stolen information such as financia...  \n",
       "18                                      usernames and  \n",
       "19                    passwords, and email addresses.  \n",
       "20                                                NaN  \n",
       "21                                 Latest Emotet news  \n",
       "22                                                NaN  \n",
       "23  Emotet is back: botnet springs back to life wi...  \n",
       "24                                           campaign  \n",
       "25                                                NaN  \n",
       "26        Emotet on the rise with heavy spam campaign  \n",
       "27                                                NaN  \n",
       "28          Malware analysis: decoding Emotet, part 2  "
      ]
     },
     "execution_count": 225,
     "metadata": {},
     "output_type": "execute_result"
    }
   ],
   "source": [
    "from tabula import read_pdf\n",
    "\n",
    "# Remember to set multiple_tables parameter to True!\n",
    "df1 = read_pdf(\"Emotet.pdf\", pages='all')\n",
    "df1[0]"
   ]
  },
  {
   "cell_type": "markdown",
   "metadata": {},
   "source": [
    "##### Splitting"
   ]
  },
  {
   "cell_type": "markdown",
   "metadata": {},
   "source": [
    "##### Handle Threat IDs"
   ]
  },
  {
   "cell_type": "code",
   "execution_count": 365,
   "metadata": {},
   "outputs": [
    {
     "data": {
      "text/plain": [
       "['T1063',\n",
       " nan,\n",
       " nan,\n",
       " nan,\n",
       " nan,\n",
       " nan,\n",
       " nan,\n",
       " 'T1064',\n",
       " nan,\n",
       " nan,\n",
       " 'T1204',\n",
       " nan,\n",
       " nan,\n",
       " 'T1003',\n",
       " nan,\n",
       " nan,\n",
       " nan,\n",
       " nan,\n",
       " nan,\n",
       " nan,\n",
       " nan,\n",
       " nan,\n",
       " nan,\n",
       " nan,\n",
       " nan,\n",
       " nan,\n",
       " nan,\n",
       " nan,\n",
       " nan]"
      ]
     },
     "execution_count": 365,
     "metadata": {},
     "output_type": "execute_result"
    }
   ],
   "source": [
    "tids = df1[0]['ID']\n",
    "[id for id in tids]    # Saying print(id) in list comprehension unnecessary as it will give extra output"
   ]
  },
  {
   "cell_type": "code",
   "execution_count": 368,
   "metadata": {},
   "outputs": [
    {
     "data": {
      "text/plain": [
       "[('T1063', str),\n",
       " (nan, float),\n",
       " (nan, float),\n",
       " (nan, float),\n",
       " (nan, float),\n",
       " (nan, float),\n",
       " (nan, float),\n",
       " ('T1064', str),\n",
       " (nan, float),\n",
       " (nan, float),\n",
       " ('T1204', str),\n",
       " (nan, float),\n",
       " (nan, float),\n",
       " ('T1003', str),\n",
       " (nan, float),\n",
       " (nan, float),\n",
       " (nan, float),\n",
       " (nan, float),\n",
       " (nan, float),\n",
       " (nan, float),\n",
       " (nan, float),\n",
       " (nan, float),\n",
       " (nan, float),\n",
       " (nan, float),\n",
       " (nan, float),\n",
       " (nan, float),\n",
       " (nan, float),\n",
       " (nan, float),\n",
       " (nan, float)]"
      ]
     },
     "execution_count": 368,
     "metadata": {},
     "output_type": "execute_result"
    }
   ],
   "source": [
    "tids = list(tids)    # Change type from Pandas Series to List\n",
    "[(i, type(i)) for i in tids]"
   ]
  },
  {
   "cell_type": "code",
   "execution_count": 369,
   "metadata": {},
   "outputs": [
    {
     "name": "stdout",
     "output_type": "stream",
     "text": [
      "0\n",
      "7\n",
      "10\n",
      "13\n",
      "\n",
      " ['T1063', 'T1064', 'T1204', 'T1003']\n"
     ]
    },
    {
     "data": {
      "text/plain": [
       "0     Later versions of the software saw the additio...\n",
       "1                                  spamming and malware\n",
       "2     delivery services—including other banking Troj...\n",
       "3                                                   NaN\n",
       "4     Emotet uses functionality that helps the softw...\n",
       "5                                     detection by some\n",
       "6                                anti-malware products.\n",
       "7     The infection may arrive either via malicious ...\n",
       "8                                      enabled document\n",
       "9                             files, or malicious link.\n",
       "10    The infection may arrive either via malicious ...\n",
       "11                                     enabled document\n",
       "12                            files, or malicious link.\n",
       "13    This allows the attackers to install updated v...\n",
       "14                                    software, install\n",
       "15    additional malware such as other banking Troja...\n",
       "16                                         as a dumping\n",
       "17    ground for stolen information such as financia...\n",
       "18                                        usernames and\n",
       "19                      passwords, and email addresses.\n",
       "20                                                  NaN\n",
       "21                                   Latest Emotet news\n",
       "22                                                  NaN\n",
       "23    Emotet is back: botnet springs back to life wi...\n",
       "24                                             campaign\n",
       "25                                                  NaN\n",
       "26          Emotet on the rise with heavy spam campaign\n",
       "27                                                  NaN\n",
       "28            Malware analysis: decoding Emotet, part 2\n",
       "Name: Identified Sentence, dtype: object"
      ]
     },
     "execution_count": 369,
     "metadata": {},
     "output_type": "execute_result"
    }
   ],
   "source": [
    "valid_tids = []\n",
    "for id in tids:\n",
    "    # Checking i == np.nan doesn't work\n",
    "    if isinstance(id, str):\n",
    "        index = tids.index(id)\n",
    "        valid_tids.append(id)\n",
    "        print(index)\n",
    "        \n",
    "print('\\n', valid_tids)\n",
    "sentences"
   ]
  },
  {
   "cell_type": "markdown",
   "metadata": {},
   "source": [
    "##### Handle Names"
   ]
  },
  {
   "cell_type": "code",
   "execution_count": 370,
   "metadata": {},
   "outputs": [
    {
     "data": {
      "text/plain": [
       "['Security Software',\n",
       " 'Discovery',\n",
       " nan,\n",
       " nan,\n",
       " nan,\n",
       " nan,\n",
       " nan,\n",
       " 'Scripting',\n",
       " nan,\n",
       " nan,\n",
       " 'User Execution',\n",
       " nan,\n",
       " nan,\n",
       " 'Credential Dumping',\n",
       " nan,\n",
       " nan,\n",
       " nan,\n",
       " nan,\n",
       " nan,\n",
       " nan,\n",
       " nan,\n",
       " nan,\n",
       " nan,\n",
       " nan,\n",
       " nan,\n",
       " nan,\n",
       " nan,\n",
       " nan,\n",
       " nan]"
      ]
     },
     "execution_count": 370,
     "metadata": {},
     "output_type": "execute_result"
    }
   ],
   "source": [
    "names = df1[0]['Name']\n",
    "[name for name in names]"
   ]
  },
  {
   "cell_type": "code",
   "execution_count": 371,
   "metadata": {},
   "outputs": [
    {
     "data": {
      "text/plain": [
       "['Security Software Discovery',\n",
       " 'Scripting',\n",
       " 'User Execution',\n",
       " 'Credential Dumping']"
      ]
     },
     "execution_count": 371,
     "metadata": {},
     "output_type": "execute_result"
    }
   ],
   "source": [
    "names = list(names)\n",
    "valid_names = []\n",
    "condition = False\n",
    "for i in range(len(names)):\n",
    "    if condition:\n",
    "        i+=1\n",
    "    if i == len(names):\n",
    "        break\n",
    "    # Checking i == np.nan doesn't work\n",
    "    if isinstance(names[i], str):\n",
    "        n = names[i]\n",
    "        if isinstance(names[i+1], str):\n",
    "            n = names[i] + ' ' + names[i+1]\n",
    "            condition = True\n",
    "        valid_names.append(n)\n",
    "valid_names"
   ]
  },
  {
   "cell_type": "markdown",
   "metadata": {},
   "source": [
    "##### Handle Sentences"
   ]
  },
  {
   "cell_type": "code",
   "execution_count": 372,
   "metadata": {},
   "outputs": [
    {
     "data": {
      "text/plain": [
       "['Later versions of the software saw the addition of',\n",
       " 'spamming and malware',\n",
       " 'delivery services—including other banking Trojans.',\n",
       " nan,\n",
       " 'Emotet uses functionality that helps the software evade',\n",
       " 'detection by some',\n",
       " 'anti-malware products.',\n",
       " 'The infection may arrive either via malicious script, macro-',\n",
       " 'enabled document',\n",
       " 'files, or malicious link.',\n",
       " 'The infection may arrive either via malicious script, macro-',\n",
       " 'enabled document',\n",
       " 'files, or malicious link.',\n",
       " 'This allows the attackers to install updated versions of the',\n",
       " 'software, install',\n",
       " 'additional malware such as other banking Trojans, or to act',\n",
       " 'as a dumping',\n",
       " 'ground for stolen information such as financial credentials,',\n",
       " 'usernames and',\n",
       " 'passwords, and email addresses.',\n",
       " nan,\n",
       " 'Latest Emotet news',\n",
       " nan,\n",
       " 'Emotet is back: botnet springs back to life with new spam',\n",
       " 'campaign',\n",
       " nan,\n",
       " 'Emotet on the rise with heavy spam campaign',\n",
       " nan,\n",
       " 'Malware analysis: decoding Emotet, part 2']"
      ]
     },
     "execution_count": 372,
     "metadata": {},
     "output_type": "execute_result"
    }
   ],
   "source": [
    "sentences = df1[0]['Identified Sentence']\n",
    "[s for s in sentences]"
   ]
  },
  {
   "cell_type": "code",
   "execution_count": 373,
   "metadata": {},
   "outputs": [
    {
     "name": "stdout",
     "output_type": "stream",
     "text": [
      "0    Later versions of the software saw the additio...\n",
      "1                                 spamming and malware\n",
      "2    delivery services—including other banking Troj...\n",
      "3                                                  NaN\n",
      "4    Emotet uses functionality that helps the softw...\n",
      "5                                    detection by some\n",
      "6                               anti-malware products.\n",
      "Name: Identified Sentence, dtype: object \n",
      "\n",
      "\n",
      "7    The infection may arrive either via malicious ...\n",
      "8                                     enabled document\n",
      "9                            files, or malicious link.\n",
      "Name: Identified Sentence, dtype: object \n",
      "\n",
      "\n",
      "10    The infection may arrive either via malicious ...\n",
      "11                                     enabled document\n",
      "12                            files, or malicious link.\n",
      "Name: Identified Sentence, dtype: object \n",
      "\n",
      "\n",
      "13    This allows the attackers to install updated v...\n",
      "14                                    software, install\n",
      "15    additional malware such as other banking Troja...\n",
      "16                                         as a dumping\n",
      "17    ground for stolen information such as financia...\n",
      "18                                        usernames and\n",
      "19                      passwords, and email addresses.\n",
      "20                                                  NaN\n",
      "21                                   Latest Emotet news\n",
      "22                                                  NaN\n",
      "23    Emotet is back: botnet springs back to life wi...\n",
      "24                                             campaign\n",
      "25                                                  NaN\n",
      "26          Emotet on the rise with heavy spam campaign\n",
      "27                                                  NaN\n",
      "28            Malware analysis: decoding Emotet, part 2\n",
      "Name: Identified Sentence, dtype: object\n"
     ]
    }
   ],
   "source": [
    "# Group sentences from:\n",
    "# 0 to 6\n",
    "print(sentences[:7], '\\n\\n')\n",
    "\n",
    "# 7 to 9\n",
    "print(sentences[7:10], '\\n\\n')\n",
    "\n",
    "# 10 to 12\n",
    "print(sentences[10:13], '\\n\\n')\n",
    "\n",
    "# 13 to 28\n",
    "print(sentences[13:])"
   ]
  },
  {
   "cell_type": "code",
   "execution_count": 375,
   "metadata": {},
   "outputs": [],
   "source": [
    "keys = [0, 7, 10, 13, 29]"
   ]
  },
  {
   "cell_type": "code",
   "execution_count": 393,
   "metadata": {},
   "outputs": [
    {
     "name": "stdout",
     "output_type": "stream",
     "text": [
      "STARTING ON BATCH 1...\n",
      "0    Later versions of the software saw the additio...\n",
      "1                                 spamming and malware\n",
      "2    delivery services—including other banking Troj...\n",
      "3                                                  NaN\n",
      "4    Emotet uses functionality that helps the softw...\n",
      "5                                    detection by some\n",
      "6                               anti-malware products.\n",
      "Name: Identified Sentence, dtype: object \n",
      "\n",
      "\n",
      "STARTING ON BATCH 2...\n",
      "7    The infection may arrive either via malicious ...\n",
      "8                                     enabled document\n",
      "9                            files, or malicious link.\n",
      "Name: Identified Sentence, dtype: object \n",
      "\n",
      "\n",
      "STARTING ON BATCH 3...\n",
      "10    The infection may arrive either via malicious ...\n",
      "11                                     enabled document\n",
      "12                            files, or malicious link.\n",
      "Name: Identified Sentence, dtype: object \n",
      "\n",
      "\n",
      "STARTING ON BATCH 4...\n",
      "13    This allows the attackers to install updated v...\n",
      "14                                    software, install\n",
      "15    additional malware such as other banking Troja...\n",
      "16                                         as a dumping\n",
      "17    ground for stolen information such as financia...\n",
      "18                                        usernames and\n",
      "19                      passwords, and email addresses.\n",
      "20                                                  NaN\n",
      "21                                   Latest Emotet news\n",
      "22                                                  NaN\n",
      "23    Emotet is back: botnet springs back to life wi...\n",
      "24                                             campaign\n",
      "25                                                  NaN\n",
      "26          Emotet on the rise with heavy spam campaign\n",
      "27                                                  NaN\n",
      "28            Malware analysis: decoding Emotet, part 2\n",
      "Name: Identified Sentence, dtype: object \n",
      "\n",
      "\n",
      "NO MORE BATCHES, BREAKING\n"
     ]
    }
   ],
   "source": [
    "all_sents = []\n",
    "\n",
    "for i in range(0, len(keys)): \n",
    "    # If reached last available index, break to avoid IndexError\n",
    "    if i == len(keys) - 1:\n",
    "        print(\"NO MORE BATCHES, BREAKING\")\n",
    "        break\n",
    "        \n",
    "    print(f\"STARTING ON BATCH {i+1}...\")\n",
    "        \n",
    "    # Define start and end indexes\n",
    "    start = keys[i]\n",
    "    end = keys[i+1]\n",
    "    \n",
    "    # Deal with each subsents 1 at a time\n",
    "    subsents = sentences[start:end]\n",
    "    print(subsents, '\\n\\n')\n",
    "\n",
    "    batch_sents = []\n",
    "    full_sent = ''\n",
    "\n",
    "    # Range: (0,7), (7,10), (10,13), (13,29)\n",
    "    for i in range(start, end):\n",
    "        if isinstance(subsents[i], str):\n",
    "            full_sent += ' ' + subsents[i]\n",
    "\n",
    "        if i+1==end or isinstance(subsents[i+1], float):\n",
    "            batch_sents.append(full_sent)\n",
    "            full_sent = ''\n",
    "        else: \n",
    "            # Do nothing if current sentence is nan\n",
    "            pass\n",
    "    \n",
    "    all_sents.append(batch_sents)\n",
    "#     for s in batch_sents:\n",
    "#         print(s)\n",
    "#     print()"
   ]
  },
  {
   "cell_type": "code",
   "execution_count": 387,
   "metadata": {},
   "outputs": [
    {
     "name": "stdout",
     "output_type": "stream",
     "text": [
      "BATCH 1\n",
      " Later versions of the software saw the addition of spamming and malware delivery services—including other banking Trojans.\n",
      " Emotet uses functionality that helps the software evade detection by some anti-malware products.\n",
      "\n",
      "BATCH 2\n",
      " The infection may arrive either via malicious script, macro- enabled document files, or malicious link.\n",
      "\n",
      "BATCH 3\n",
      " The infection may arrive either via malicious script, macro- enabled document files, or malicious link.\n",
      "\n",
      "BATCH 4\n",
      " This allows the attackers to install updated versions of the software, install additional malware such as other banking Trojans, or to act as a dumping ground for stolen information such as financial credentials, usernames and passwords, and email addresses.\n",
      " Latest Emotet news\n",
      " Emotet is back: botnet springs back to life with new spam campaign\n",
      " Emotet on the rise with heavy spam campaign\n",
      " Malware analysis: decoding Emotet, part 2\n",
      "\n"
     ]
    }
   ],
   "source": [
    "count = 1\n",
    "for batch in all_sents:\n",
    "    print(f\"BATCH {count}\")\n",
    "    for s in batch:\n",
    "        print(s)\n",
    "    print()\n",
    "    count += 1"
   ]
  },
  {
   "cell_type": "code",
   "execution_count": 392,
   "metadata": {},
   "outputs": [
    {
     "name": "stdout",
     "output_type": "stream",
     "text": [
      "['T1063', 'T1064', 'T1204', 'T1003'] \n",
      "\n",
      "['Security Software Discovery', 'Scripting', 'User Execution', 'Credential Dumping'] \n",
      "\n",
      "[[' Later versions of the software saw the addition of spamming and malware delivery services—including other banking Trojans.', ' Emotet uses functionality that helps the software evade detection by some anti-malware products.'], [' The infection may arrive either via malicious script, macro- enabled document files, or malicious link.'], [' The infection may arrive either via malicious script, macro- enabled document files, or malicious link.'], [' This allows the attackers to install updated versions of the software, install additional malware such as other banking Trojans, or to act as a dumping ground for stolen information such as financial credentials, usernames and passwords, and email addresses.', ' Latest Emotet news', ' Emotet is back: botnet springs back to life with new spam campaign', ' Emotet on the rise with heavy spam campaign', ' Malware analysis: decoding Emotet, part 2']]\n"
     ]
    }
   ],
   "source": [
    "print(valid_tids, '\\n')\n",
    "print(valid_names, '\\n')\n",
    "print(all_sents)"
   ]
  },
  {
   "cell_type": "markdown",
   "metadata": {},
   "source": [
    "for every batch, insert each sentence with name_i and id_i\n",
    "\n",
    "i = 0: all_sents[0], name[0], id[0]\n",
    "i += 1\n",
    "\n",
    ".\n",
    "\n",
    ".\n",
    "\n",
    "."
   ]
  },
  {
   "cell_type": "markdown",
   "metadata": {},
   "source": [
    "#### For last page's table which was left out"
   ]
  },
  {
   "cell_type": "code",
   "execution_count": 98,
   "metadata": {},
   "outputs": [
    {
     "data": {
      "text/plain": [
       "[   Unnamed: 0          Unnamed: 1  \\\n",
       " 0         NaN                 NaN   \n",
       " 1         NaN                 NaN   \n",
       " 2         NaN                 NaN   \n",
       " 3         NaN                 NaN   \n",
       " 4         NaN                 NaN   \n",
       " 5         NaN                 NaN   \n",
       " 6       T1192  Spearphishing Link   \n",
       " 7         NaN                 NaN   \n",
       " 8         NaN                 NaN   \n",
       " 9         NaN                 NaN   \n",
       " 10        NaN                 NaN   \n",
       " 11        NaN                 NaN   \n",
       " 12        NaN                 NaN   \n",
       " 13        NaN                 NaN   \n",
       " 14        NaN                 NaN   \n",
       " 15        NaN                 NaN   \n",
       " 16        NaN                 NaN   \n",
       " \n",
       "                                            Unnamed: 2  \n",
       " 0           Malware analysis: decoding Emotet, part 1  \n",
       " 1                                                 NaN  \n",
       " 2                             How does Emotet spread?  \n",
       " 3                                                 NaN  \n",
       " 4   The primary distribution method for Emotet is ...  \n",
       " 5                                            malspam.  \n",
       " 6   Since these emails are coming from your hijack...  \n",
       " 7                                 account, the emails  \n",
       " 8   look less like spam and the recipients, feelin...  \n",
       " 9                                         inclined to  \n",
       " 10        click bad URLs and download infected files.  \n",
       " 11                                                NaN  \n",
       " 12  If a connected network is present, Emotet spre...  \n",
       " 13                                     list of common  \n",
       " 14  passwords, guessing its way onto other connect...  \n",
       " 15                                   in a brute-force  \n",
       " 16                                            attack.  ]"
      ]
     },
     "execution_count": 98,
     "metadata": {},
     "output_type": "execute_result"
    }
   ],
   "source": [
    "df3 = read_pdf(\"Emotet.pdf\", pages=6)\n",
    "df3"
   ]
  },
  {
   "cell_type": "code",
   "execution_count": 143,
   "metadata": {},
   "outputs": [
    {
     "data": {
      "text/plain": [
       "0       NaN\n",
       "1       NaN\n",
       "2       NaN\n",
       "3       NaN\n",
       "4       NaN\n",
       "5       NaN\n",
       "6     T1192\n",
       "7       NaN\n",
       "8       NaN\n",
       "9       NaN\n",
       "10      NaN\n",
       "11      NaN\n",
       "12      NaN\n",
       "13      NaN\n",
       "14      NaN\n",
       "15      NaN\n",
       "16      NaN\n",
       "Name: Unnamed: 0, dtype: object"
      ]
     },
     "execution_count": 143,
     "metadata": {},
     "output_type": "execute_result"
    }
   ],
   "source": [
    "ids = df3[0]['Unnamed: 0']\n",
    "ids"
   ]
  },
  {
   "cell_type": "code",
   "execution_count": 145,
   "metadata": {},
   "outputs": [
    {
     "name": "stdout",
     "output_type": "stream",
     "text": [
      "nan <class 'float'>\n",
      "nan <class 'float'>\n",
      "nan <class 'float'>\n",
      "nan <class 'float'>\n",
      "nan <class 'float'>\n",
      "nan <class 'float'>\n",
      "T1192 <class 'str'>\n",
      "nan <class 'float'>\n",
      "nan <class 'float'>\n",
      "nan <class 'float'>\n",
      "nan <class 'float'>\n",
      "nan <class 'float'>\n",
      "nan <class 'float'>\n",
      "nan <class 'float'>\n",
      "nan <class 'float'>\n",
      "nan <class 'float'>\n",
      "nan <class 'float'>\n"
     ]
    }
   ],
   "source": [
    "for i in ids:\n",
    "    print(i, type(i))"
   ]
  },
  {
   "cell_type": "code",
   "execution_count": 154,
   "metadata": {},
   "outputs": [
    {
     "data": {
      "text/plain": [
       "[nan,\n",
       " nan,\n",
       " nan,\n",
       " nan,\n",
       " nan,\n",
       " nan,\n",
       " 'T1192',\n",
       " nan,\n",
       " nan,\n",
       " nan,\n",
       " nan,\n",
       " nan,\n",
       " nan,\n",
       " nan,\n",
       " nan,\n",
       " nan,\n",
       " nan]"
      ]
     },
     "execution_count": 154,
     "metadata": {},
     "output_type": "execute_result"
    }
   ],
   "source": [
    "list(ids)"
   ]
  },
  {
   "cell_type": "code",
   "execution_count": 158,
   "metadata": {},
   "outputs": [
    {
     "data": {
      "text/plain": [
       "6"
      ]
     },
     "execution_count": 158,
     "metadata": {},
     "output_type": "execute_result"
    }
   ],
   "source": [
    "list(ids).index('T1192')"
   ]
  },
  {
   "cell_type": "code",
   "execution_count": 159,
   "metadata": {},
   "outputs": [
    {
     "name": "stdout",
     "output_type": "stream",
     "text": [
      "6\n"
     ]
    }
   ],
   "source": [
    "# Checking i == np.nan doesn't work\n",
    "for i in ids:\n",
    "    if isinstance(i, str):\n",
    "        index = list(ids).index(i)\n",
    "        print(index)"
   ]
  },
  {
   "cell_type": "code",
   "execution_count": 160,
   "metadata": {},
   "outputs": [],
   "source": [
    "# isinstance(3.5, float)"
   ]
  },
  {
   "cell_type": "code",
   "execution_count": 167,
   "metadata": {},
   "outputs": [
    {
     "name": "stdout",
     "output_type": "stream",
     "text": [
      "Malware analysis: decoding Emotet, part 1\n",
      "nan\n",
      "How does Emotet spread?\n",
      "nan\n",
      "The primary distribution method for Emotet is through\n",
      "malspam.\n"
     ]
    }
   ],
   "source": [
    "for s in sents[:index]:\n",
    "    print(s)"
   ]
  },
  {
   "cell_type": "code",
   "execution_count": 207,
   "metadata": {},
   "outputs": [],
   "source": [
    "sents = df3[0]['Unnamed: 2']\n",
    "subsents = sents[:index]\n",
    "remsents = sents[index:]"
   ]
  },
  {
   "cell_type": "code",
   "execution_count": 194,
   "metadata": {},
   "outputs": [
    {
     "name": "stdout",
     "output_type": "stream",
     "text": [
      "0\n",
      "1\n",
      "2\n",
      "3\n",
      "4\n",
      "5\n",
      "\n",
      "6\n"
     ]
    }
   ],
   "source": [
    "for i in range(index):\n",
    "    print(i)\n",
    "print()\n",
    "print(len(subsents))"
   ]
  },
  {
   "cell_type": "code",
   "execution_count": 205,
   "metadata": {},
   "outputs": [
    {
     "data": {
      "text/plain": [
       "'se vae '"
      ]
     },
     "execution_count": 205,
     "metadata": {},
     "output_type": "execute_result"
    }
   ],
   "source": [
    "a = 'se'\n",
    "b = 'vae'\n",
    "a += ' '+ b + ' '\n",
    "a"
   ]
  },
  {
   "cell_type": "code",
   "execution_count": 211,
   "metadata": {},
   "outputs": [
    {
     "name": "stdout",
     "output_type": "stream",
     "text": [
      " Malware analysis: decoding Emotet, part 1\n",
      " How does Emotet spread?\n",
      " The primary distribution method for Emotet is through malspam.\n"
     ]
    }
   ],
   "source": [
    "output = []\n",
    "full_sent = ''\n",
    "\n",
    "# For i from 0 to 5 inclusive (6 times)\n",
    "for i in range(index):\n",
    "    if isinstance(subsents[i], str):\n",
    "        full_sent += ' ' + subsents[i]\n",
    "        \n",
    "    if i+1==len(subsents) or isinstance(subsents[i+1], float):\n",
    "        output.append(full_sent)\n",
    "        full_sent = ''\n",
    "    else: \n",
    "        # Do nothing if current sentence is nan\n",
    "        pass\n",
    "        \n",
    "for o in output:\n",
    "    print(o)"
   ]
  },
  {
   "cell_type": "code",
   "execution_count": 209,
   "metadata": {},
   "outputs": [
    {
     "data": {
      "text/plain": [
       "11"
      ]
     },
     "execution_count": 209,
     "metadata": {},
     "output_type": "execute_result"
    }
   ],
   "source": [
    "len(remsents)"
   ]
  },
  {
   "cell_type": "code",
   "execution_count": 221,
   "metadata": {},
   "outputs": [
    {
     "data": {
      "text/plain": [
       "6     Since these emails are coming from your hijack...\n",
       "7                                   account, the emails\n",
       "8     look less like spam and the recipients, feelin...\n",
       "9                                           inclined to\n",
       "10          click bad URLs and download infected files.\n",
       "11                                                  NaN\n",
       "12    If a connected network is present, Emotet spre...\n",
       "13                                       list of common\n",
       "14    passwords, guessing its way onto other connect...\n",
       "15                                     in a brute-force\n",
       "16                                              attack.\n",
       "Name: Unnamed: 2, dtype: object"
      ]
     },
     "execution_count": 221,
     "metadata": {},
     "output_type": "execute_result"
    }
   ],
   "source": [
    "remsents"
   ]
  },
  {
   "cell_type": "code",
   "execution_count": 224,
   "metadata": {},
   "outputs": [
    {
     "name": "stdout",
     "output_type": "stream",
     "text": [
      " Since these emails are coming from your hijacked email account, the emails look less like spam and the recipients, feeling safe, are more inclined to click bad URLs and download infected files.\n",
      " If a connected network is present, Emotet spreads using a list of common passwords, guessing its way onto other connected systems in a brute-force\n"
     ]
    }
   ],
   "source": [
    "output = []\n",
    "full_sent = ''\n",
    "\n",
    "# For i from 0 to 5 inclusive (6 times)\n",
    "for i in range(index, index + len(remsents) -1):\n",
    "    if isinstance(remsents[i], str):\n",
    "        full_sent += ' ' + remsents[i]\n",
    "        \n",
    "    if i+1==16 or isinstance(remsents[i+1], float):\n",
    "        output.append(full_sent)\n",
    "        full_sent = ''\n",
    "    else: \n",
    "        # Do nothing if current sentence is nan\n",
    "        pass\n",
    "        \n",
    "for o in output:\n",
    "    print(o)"
   ]
  },
  {
   "cell_type": "markdown",
   "metadata": {},
   "source": [
    "#### Exploring Json Format"
   ]
  },
  {
   "cell_type": "code",
   "execution_count": 85,
   "metadata": {},
   "outputs": [
    {
     "data": {
      "text/plain": [
       "[{'extraction_method': 'stream',\n",
       "  'top': 306.0,\n",
       "  'left': 40.0,\n",
       "  'width': 515.0,\n",
       "  'height': 490.0,\n",
       "  'right': 555.0,\n",
       "  'bottom': 796.0,\n",
       "  'data': [[{'top': 314.29,\n",
       "     'left': 45.0,\n",
       "     'width': 12.615348815917969,\n",
       "     'height': 7.03000020980835,\n",
       "     'text': 'ID'},\n",
       "    {'top': 314.29,\n",
       "     'left': 88.11,\n",
       "     'width': 33.445350646972656,\n",
       "     'height': 7.03000020980835,\n",
       "     'text': 'Name'},\n",
       "    {'top': 314.29,\n",
       "     'left': 227.59,\n",
       "     'width': 102.22001647949219,\n",
       "     'height': 7.03000020980835,\n",
       "     'text': 'Identified Sentence'}],\n",
       "   [{'top': 333.35,\n",
       "     'left': 45.0,\n",
       "     'width': 35.6053466796875,\n",
       "     'height': 7.03000020980835,\n",
       "     'text': 'T1063'},\n",
       "    {'top': 333.35,\n",
       "     'left': 88.11,\n",
       "     'width': 96.78999328613281,\n",
       "     'height': 7.03000020980835,\n",
       "     'text': 'Security Software'},\n",
       "    {'top': 333.35,\n",
       "     'left': 227.59,\n",
       "     'width': 266.7300109863281,\n",
       "     'height': 7.03000020980835,\n",
       "     'text': 'Later versions of the software saw the addition of'}],\n",
       "   [{'top': 0.0, 'left': 0.0, 'width': 0.0, 'height': 0.0, 'text': ''},\n",
       "    {'top': 347.41,\n",
       "     'left': 88.11,\n",
       "     'width': 53.43534851074219,\n",
       "     'height': 7.03000020980835,\n",
       "     'text': 'Discovery'},\n",
       "    {'top': 347.41,\n",
       "     'left': 227.59,\n",
       "     'width': 128.4199981689453,\n",
       "     'height': 7.03000020980835,\n",
       "     'text': 'spamming and malware'}],\n",
       "   [{'top': 0.0, 'left': 0.0, 'width': 0.0, 'height': 0.0, 'text': ''},\n",
       "    {'top': 0.0, 'left': 0.0, 'width': 0.0, 'height': 0.0, 'text': ''},\n",
       "    {'top': 361.48,\n",
       "     'left': 227.59,\n",
       "     'width': 273.6000061035156,\n",
       "     'height': 7.03000020980835,\n",
       "     'text': 'delivery services—including other banking Trojans.'}],\n",
       "   [{'top': 0.0, 'left': 0.0, 'width': 0.0, 'height': 0.0, 'text': ''},\n",
       "    {'top': 0.0, 'left': 0.0, 'width': 0.0, 'height': 0.0, 'text': ''},\n",
       "    {'top': 0.0, 'left': 0.0, 'width': 0.0, 'height': 0.0, 'text': ''}],\n",
       "   [{'top': 0.0, 'left': 0.0, 'width': 0.0, 'height': 0.0, 'text': ''},\n",
       "    {'top': 0.0, 'left': 0.0, 'width': 0.0, 'height': 0.0, 'text': ''},\n",
       "    {'top': 389.6,\n",
       "     'left': 227.59,\n",
       "     'width': 298.71002197265625,\n",
       "     'height': 7.03000020980835,\n",
       "     'text': 'Emotet uses functionality that helps the software evade'}],\n",
       "   [{'top': 0.0, 'left': 0.0, 'width': 0.0, 'height': 0.0, 'text': ''},\n",
       "    {'top': 0.0, 'left': 0.0, 'width': 0.0, 'height': 0.0, 'text': ''},\n",
       "    {'top': 403.66,\n",
       "     'left': 227.59,\n",
       "     'width': 98.18000793457031,\n",
       "     'height': 7.03000020980835,\n",
       "     'text': 'detection by some'}],\n",
       "   [{'top': 0.0, 'left': 0.0, 'width': 0.0, 'height': 0.0, 'text': ''},\n",
       "    {'top': 0.0, 'left': 0.0, 'width': 0.0, 'height': 0.0, 'text': ''},\n",
       "    {'top': 417.73,\n",
       "     'left': 227.59,\n",
       "     'width': 122.52001953125,\n",
       "     'height': 7.03000020980835,\n",
       "     'text': 'anti-malware products.'}],\n",
       "   [{'top': 450.85,\n",
       "     'left': 45.0,\n",
       "     'width': 35.6053466796875,\n",
       "     'height': 7.03000020980835,\n",
       "     'text': 'T1064'},\n",
       "    {'top': 450.85,\n",
       "     'left': 88.11,\n",
       "     'width': 48.77534484863281,\n",
       "     'height': 7.03000020980835,\n",
       "     'text': 'Scripting'},\n",
       "    {'top': 450.85,\n",
       "     'left': 227.59,\n",
       "     'width': 309.7300109863281,\n",
       "     'height': 7.03000020980835,\n",
       "     'text': 'The infection may arrive either via malicious script, macro-'}],\n",
       "   [{'top': 0.0, 'left': 0.0, 'width': 0.0, 'height': 0.0, 'text': ''},\n",
       "    {'top': 0.0, 'left': 0.0, 'width': 0.0, 'height': 0.0, 'text': ''},\n",
       "    {'top': 464.91,\n",
       "     'left': 227.59,\n",
       "     'width': 99.16999816894531,\n",
       "     'height': 7.03000020980835,\n",
       "     'text': 'enabled document'}],\n",
       "   [{'top': 0.0, 'left': 0.0, 'width': 0.0, 'height': 0.0, 'text': ''},\n",
       "    {'top': 0.0, 'left': 0.0, 'width': 0.0, 'height': 0.0, 'text': ''},\n",
       "    {'top': 478.98,\n",
       "     'left': 227.59,\n",
       "     'width': 117.67001342773438,\n",
       "     'height': 7.03000020980835,\n",
       "     'text': 'files, or malicious link.'}],\n",
       "   [{'top': 512.1,\n",
       "     'left': 45.0,\n",
       "     'width': 35.6053466796875,\n",
       "     'height': 7.03000020980835,\n",
       "     'text': 'T1204'},\n",
       "    {'top': 512.1,\n",
       "     'left': 88.11,\n",
       "     'width': 81.04534912109375,\n",
       "     'height': 7.03000020980835,\n",
       "     'text': 'User Execution'},\n",
       "    {'top': 512.1,\n",
       "     'left': 227.59,\n",
       "     'width': 309.7300109863281,\n",
       "     'height': 7.03000020980835,\n",
       "     'text': 'The infection may arrive either via malicious script, macro-'}],\n",
       "   [{'top': 0.0, 'left': 0.0, 'width': 0.0, 'height': 0.0, 'text': ''},\n",
       "    {'top': 0.0, 'left': 0.0, 'width': 0.0, 'height': 0.0, 'text': ''},\n",
       "    {'top': 526.16,\n",
       "     'left': 227.59,\n",
       "     'width': 99.16999816894531,\n",
       "     'height': 7.03000020980835,\n",
       "     'text': 'enabled document'}],\n",
       "   [{'top': 0.0, 'left': 0.0, 'width': 0.0, 'height': 0.0, 'text': ''},\n",
       "    {'top': 0.0, 'left': 0.0, 'width': 0.0, 'height': 0.0, 'text': ''},\n",
       "    {'top': 540.23,\n",
       "     'left': 227.59,\n",
       "     'width': 117.67001342773438,\n",
       "     'height': 7.03000020980835,\n",
       "     'text': 'files, or malicious link.'}],\n",
       "   [{'top': 573.35,\n",
       "     'left': 45.0,\n",
       "     'width': 35.6053466796875,\n",
       "     'height': 7.03000020980835,\n",
       "     'text': 'T1003'},\n",
       "    {'top': 573.35,\n",
       "     'left': 88.11,\n",
       "     'width': 106.59535217285156,\n",
       "     'height': 7.03000020980835,\n",
       "     'text': 'Credential Dumping'},\n",
       "    {'top': 573.35,\n",
       "     'left': 227.59,\n",
       "     'width': 312.739990234375,\n",
       "     'height': 7.03000020980835,\n",
       "     'text': 'This allows the attackers to install updated versions of the'}],\n",
       "   [{'top': 0.0, 'left': 0.0, 'width': 0.0, 'height': 0.0, 'text': ''},\n",
       "    {'top': 0.0, 'left': 0.0, 'width': 0.0, 'height': 0.0, 'text': ''},\n",
       "    {'top': 587.41,\n",
       "     'left': 227.59,\n",
       "     'width': 84.27999877929688,\n",
       "     'height': 7.03000020980835,\n",
       "     'text': 'software, install'}],\n",
       "   [{'top': 0.0, 'left': 0.0, 'width': 0.0, 'height': 0.0, 'text': ''},\n",
       "    {'top': 0.0, 'left': 0.0, 'width': 0.0, 'height': 0.0, 'text': ''},\n",
       "    {'top': 601.48,\n",
       "     'left': 227.59,\n",
       "     'width': 317.0,\n",
       "     'height': 7.03000020980835,\n",
       "     'text': 'additional malware such as other banking Trojans, or to act'}],\n",
       "   [{'top': 0.0, 'left': 0.0, 'width': 0.0, 'height': 0.0, 'text': ''},\n",
       "    {'top': 0.0, 'left': 0.0, 'width': 0.0, 'height': 0.0, 'text': ''},\n",
       "    {'top': 615.54,\n",
       "     'left': 227.59,\n",
       "     'width': 72.08000946044922,\n",
       "     'height': 7.03000020980835,\n",
       "     'text': 'as a dumping'}],\n",
       "   [{'top': 0.0, 'left': 0.0, 'width': 0.0, 'height': 0.0, 'text': ''},\n",
       "    {'top': 0.0, 'left': 0.0, 'width': 0.0, 'height': 0.0, 'text': ''},\n",
       "    {'top': 629.6,\n",
       "     'left': 227.59,\n",
       "     'width': 315.6300048828125,\n",
       "     'height': 7.03000020980835,\n",
       "     'text': 'ground for stolen information such as financial credentials,'}],\n",
       "   [{'top': 0.0, 'left': 0.0, 'width': 0.0, 'height': 0.0, 'text': ''},\n",
       "    {'top': 0.0, 'left': 0.0, 'width': 0.0, 'height': 0.0, 'text': ''},\n",
       "    {'top': 643.66,\n",
       "     'left': 227.59,\n",
       "     'width': 82.32001495361328,\n",
       "     'height': 7.03000020980835,\n",
       "     'text': 'usernames and'}],\n",
       "   [{'top': 0.0, 'left': 0.0, 'width': 0.0, 'height': 0.0, 'text': ''},\n",
       "    {'top': 0.0, 'left': 0.0, 'width': 0.0, 'height': 0.0, 'text': ''},\n",
       "    {'top': 657.73,\n",
       "     'left': 227.59,\n",
       "     'width': 183.20001220703125,\n",
       "     'height': 7.03000020980835,\n",
       "     'text': 'passwords, and email addresses.'}],\n",
       "   [{'top': 0.0, 'left': 0.0, 'width': 0.0, 'height': 0.0, 'text': ''},\n",
       "    {'top': 0.0, 'left': 0.0, 'width': 0.0, 'height': 0.0, 'text': ''},\n",
       "    {'top': 0.0, 'left': 0.0, 'width': 0.0, 'height': 0.0, 'text': ''}],\n",
       "   [{'top': 0.0, 'left': 0.0, 'width': 0.0, 'height': 0.0, 'text': ''},\n",
       "    {'top': 0.0, 'left': 0.0, 'width': 0.0, 'height': 0.0, 'text': ''},\n",
       "    {'top': 685.85,\n",
       "     'left': 227.59,\n",
       "     'width': 111.80999755859375,\n",
       "     'height': 7.03000020980835,\n",
       "     'text': 'Latest Emotet news'}],\n",
       "   [{'top': 0.0, 'left': 0.0, 'width': 0.0, 'height': 0.0, 'text': ''},\n",
       "    {'top': 0.0, 'left': 0.0, 'width': 0.0, 'height': 0.0, 'text': ''},\n",
       "    {'top': 0.0, 'left': 0.0, 'width': 0.0, 'height': 0.0, 'text': ''}],\n",
       "   [{'top': 0.0, 'left': 0.0, 'width': 0.0, 'height': 0.0, 'text': ''},\n",
       "    {'top': 0.0, 'left': 0.0, 'width': 0.0, 'height': 0.0, 'text': ''},\n",
       "    {'top': 713.98,\n",
       "     'left': 227.59,\n",
       "     'width': 309.4100341796875,\n",
       "     'height': 7.03000020980835,\n",
       "     'text': 'Emotet is back: botnet springs back to life with new spam'}],\n",
       "   [{'top': 0.0, 'left': 0.0, 'width': 0.0, 'height': 0.0, 'text': ''},\n",
       "    {'top': 0.0, 'left': 0.0, 'width': 0.0, 'height': 0.0, 'text': ''},\n",
       "    {'top': 728.04,\n",
       "     'left': 227.59,\n",
       "     'width': 58.790008544921875,\n",
       "     'height': 7.03000020980835,\n",
       "     'text': 'campaign'}],\n",
       "   [{'top': 0.0, 'left': 0.0, 'width': 0.0, 'height': 0.0, 'text': ''},\n",
       "    {'top': 0.0, 'left': 0.0, 'width': 0.0, 'height': 0.0, 'text': ''},\n",
       "    {'top': 0.0, 'left': 0.0, 'width': 0.0, 'height': 0.0, 'text': ''}],\n",
       "   [{'top': 0.0, 'left': 0.0, 'width': 0.0, 'height': 0.0, 'text': ''},\n",
       "    {'top': 0.0, 'left': 0.0, 'width': 0.0, 'height': 0.0, 'text': ''},\n",
       "    {'top': 756.16,\n",
       "     'left': 227.59,\n",
       "     'width': 251.16000366210938,\n",
       "     'height': 7.03000020980835,\n",
       "     'text': 'Emotet on the rise with heavy spam campaign'}],\n",
       "   [{'top': 0.0, 'left': 0.0, 'width': 0.0, 'height': 0.0, 'text': ''},\n",
       "    {'top': 0.0, 'left': 0.0, 'width': 0.0, 'height': 0.0, 'text': ''},\n",
       "    {'top': 0.0, 'left': 0.0, 'width': 0.0, 'height': 0.0, 'text': ''}],\n",
       "   [{'top': 0.0, 'left': 0.0, 'width': 0.0, 'height': 0.0, 'text': ''},\n",
       "    {'top': 0.0, 'left': 0.0, 'width': 0.0, 'height': 0.0, 'text': ''},\n",
       "    {'top': 784.29,\n",
       "     'left': 227.59,\n",
       "     'width': 231.30999755859375,\n",
       "     'height': 7.03000020980835,\n",
       "     'text': 'Malware analysis: decoding Emotet, part 2'}]]},\n",
       " {'extraction_method': 'stream',\n",
       "  'top': 39.0,\n",
       "  'left': 39.0,\n",
       "  'width': 515.0,\n",
       "  'height': 292.0,\n",
       "  'right': 554.0,\n",
       "  'bottom': 331.0,\n",
       "  'data': [[{'top': 0.0, 'left': 0.0, 'width': 0.0, 'height': 0.0, 'text': ''},\n",
       "    {'top': 0.0, 'left': 0.0, 'width': 0.0, 'height': 0.0, 'text': ''},\n",
       "    {'top': 0.0, 'left': 0.0, 'width': 0.0, 'height': 0.0, 'text': ''}],\n",
       "   [{'top': 0.0, 'left': 0.0, 'width': 0.0, 'height': 0.0, 'text': ''},\n",
       "    {'top': 0.0, 'left': 0.0, 'width': 0.0, 'height': 0.0, 'text': ''},\n",
       "    {'top': 61.16,\n",
       "     'left': 227.59,\n",
       "     'width': 231.30999755859375,\n",
       "     'height': 7.03000020980835,\n",
       "     'text': 'Malware analysis: decoding Emotet, part 1'}],\n",
       "   [{'top': 0.0, 'left': 0.0, 'width': 0.0, 'height': 0.0, 'text': ''},\n",
       "    {'top': 0.0, 'left': 0.0, 'width': 0.0, 'height': 0.0, 'text': ''},\n",
       "    {'top': 0.0, 'left': 0.0, 'width': 0.0, 'height': 0.0, 'text': ''}],\n",
       "   [{'top': 0.0, 'left': 0.0, 'width': 0.0, 'height': 0.0, 'text': ''},\n",
       "    {'top': 0.0, 'left': 0.0, 'width': 0.0, 'height': 0.0, 'text': ''},\n",
       "    {'top': 89.29,\n",
       "     'left': 227.59,\n",
       "     'width': 145.989990234375,\n",
       "     'height': 7.03000020980835,\n",
       "     'text': 'How does Emotet spread?'}],\n",
       "   [{'top': 0.0, 'left': 0.0, 'width': 0.0, 'height': 0.0, 'text': ''},\n",
       "    {'top': 0.0, 'left': 0.0, 'width': 0.0, 'height': 0.0, 'text': ''},\n",
       "    {'top': 0.0, 'left': 0.0, 'width': 0.0, 'height': 0.0, 'text': ''}],\n",
       "   [{'top': 0.0, 'left': 0.0, 'width': 0.0, 'height': 0.0, 'text': ''},\n",
       "    {'top': 0.0, 'left': 0.0, 'width': 0.0, 'height': 0.0, 'text': ''},\n",
       "    {'top': 117.41,\n",
       "     'left': 227.59,\n",
       "     'width': 289.72998046875,\n",
       "     'height': 7.03000020980835,\n",
       "     'text': 'The primary distribution method for Emotet is through'}],\n",
       "   [{'top': 0.0, 'left': 0.0, 'width': 0.0, 'height': 0.0, 'text': ''},\n",
       "    {'top': 0.0, 'left': 0.0, 'width': 0.0, 'height': 0.0, 'text': ''},\n",
       "    {'top': 131.48,\n",
       "     'left': 227.59,\n",
       "     'width': 53.080013275146484,\n",
       "     'height': 7.03000020980835,\n",
       "     'text': 'malspam.'}],\n",
       "   [{'top': 164.6,\n",
       "     'left': 45.0,\n",
       "     'width': 35.6053466796875,\n",
       "     'height': 7.03000020980835,\n",
       "     'text': 'T1192'},\n",
       "    {'top': 164.6,\n",
       "     'left': 88.11,\n",
       "     'width': 102.64535522460938,\n",
       "     'height': 7.03000020980835,\n",
       "     'text': 'Spearphishing Link'},\n",
       "    {'top': 164.6,\n",
       "     'left': 227.59,\n",
       "     'width': 299.71002197265625,\n",
       "     'height': 7.03000020980835,\n",
       "     'text': 'Since these emails are coming from your hijacked email'}],\n",
       "   [{'top': 0.0, 'left': 0.0, 'width': 0.0, 'height': 0.0, 'text': ''},\n",
       "    {'top': 0.0, 'left': 0.0, 'width': 0.0, 'height': 0.0, 'text': ''},\n",
       "    {'top': 178.66,\n",
       "     'left': 227.59,\n",
       "     'width': 103.69000244140625,\n",
       "     'height': 7.03000020980835,\n",
       "     'text': 'account, the emails'}],\n",
       "   [{'top': 0.0, 'left': 0.0, 'width': 0.0, 'height': 0.0, 'text': ''},\n",
       "    {'top': 0.0, 'left': 0.0, 'width': 0.0, 'height': 0.0, 'text': ''},\n",
       "    {'top': 192.73,\n",
       "     'left': 227.59,\n",
       "     'width': 322.3800048828125,\n",
       "     'height': 7.03000020980835,\n",
       "     'text': 'look less like spam and the recipients, feeling safe, are more'}],\n",
       "   [{'top': 0.0, 'left': 0.0, 'width': 0.0, 'height': 0.0, 'text': ''},\n",
       "    {'top': 0.0, 'left': 0.0, 'width': 0.0, 'height': 0.0, 'text': ''},\n",
       "    {'top': 206.79,\n",
       "     'left': 227.59,\n",
       "     'width': 55.000003814697266,\n",
       "     'height': 7.03000020980835,\n",
       "     'text': 'inclined to'}],\n",
       "   [{'top': 0.0, 'left': 0.0, 'width': 0.0, 'height': 0.0, 'text': ''},\n",
       "    {'top': 0.0, 'left': 0.0, 'width': 0.0, 'height': 0.0, 'text': ''},\n",
       "    {'top': 220.85,\n",
       "     'left': 227.59,\n",
       "     'width': 236.79000854492188,\n",
       "     'height': 7.03000020980835,\n",
       "     'text': 'click bad URLs and download infected files.'}],\n",
       "   [{'top': 0.0, 'left': 0.0, 'width': 0.0, 'height': 0.0, 'text': ''},\n",
       "    {'top': 0.0, 'left': 0.0, 'width': 0.0, 'height': 0.0, 'text': ''},\n",
       "    {'top': 0.0, 'left': 0.0, 'width': 0.0, 'height': 0.0, 'text': ''}],\n",
       "   [{'top': 0.0, 'left': 0.0, 'width': 0.0, 'height': 0.0, 'text': ''},\n",
       "    {'top': 0.0, 'left': 0.0, 'width': 0.0, 'height': 0.0, 'text': ''},\n",
       "    {'top': 248.98,\n",
       "     'left': 227.59,\n",
       "     'width': 310.8800048828125,\n",
       "     'height': 7.03000020980835,\n",
       "     'text': 'If a connected network is present, Emotet spreads using a'}],\n",
       "   [{'top': 0.0, 'left': 0.0, 'width': 0.0, 'height': 0.0, 'text': ''},\n",
       "    {'top': 0.0, 'left': 0.0, 'width': 0.0, 'height': 0.0, 'text': ''},\n",
       "    {'top': 263.04,\n",
       "     'left': 227.59,\n",
       "     'width': 80.51001739501953,\n",
       "     'height': 7.03000020980835,\n",
       "     'text': 'list of common'}],\n",
       "   [{'top': 0.0, 'left': 0.0, 'width': 0.0, 'height': 0.0, 'text': ''},\n",
       "    {'top': 0.0, 'left': 0.0, 'width': 0.0, 'height': 0.0, 'text': ''},\n",
       "    {'top': 277.1,\n",
       "     'left': 227.59,\n",
       "     'width': 320.010009765625,\n",
       "     'height': 7.03000020980835,\n",
       "     'text': 'passwords, guessing its way onto other connected systems'}],\n",
       "   [{'top': 0.0, 'left': 0.0, 'width': 0.0, 'height': 0.0, 'text': ''},\n",
       "    {'top': 0.0, 'left': 0.0, 'width': 0.0, 'height': 0.0, 'text': ''},\n",
       "    {'top': 291.16,\n",
       "     'left': 227.59,\n",
       "     'width': 80.59999084472656,\n",
       "     'height': 7.03000020980835,\n",
       "     'text': 'in a brute-force'}],\n",
       "   [{'top': 0.0, 'left': 0.0, 'width': 0.0, 'height': 0.0, 'text': ''},\n",
       "    {'top': 0.0, 'left': 0.0, 'width': 0.0, 'height': 0.0, 'text': ''},\n",
       "    {'top': 305.23,\n",
       "     'left': 227.59,\n",
       "     'width': 36.42000961303711,\n",
       "     'height': 7.03000020980835,\n",
       "     'text': 'attack.'}]]}]"
      ]
     },
     "execution_count": 85,
     "metadata": {},
     "output_type": "execute_result"
    }
   ],
   "source": [
    "df2 = read_pdf(\"Emotet.pdf\", pages='all', output_format='json')\n",
    "df2"
   ]
  },
  {
   "cell_type": "code",
   "execution_count": 88,
   "metadata": {},
   "outputs": [
    {
     "data": {
      "text/plain": [
       "8"
      ]
     },
     "execution_count": 88,
     "metadata": {},
     "output_type": "execute_result"
    }
   ],
   "source": [
    "len(df2[0])"
   ]
  },
  {
   "cell_type": "code",
   "execution_count": 90,
   "metadata": {},
   "outputs": [
    {
     "name": "stdout",
     "output_type": "stream",
     "text": [
      "extraction_method\n",
      "top\n",
      "left\n",
      "width\n",
      "height\n",
      "right\n",
      "bottom\n",
      "data\n"
     ]
    }
   ],
   "source": [
    "for i in df2[0]:\n",
    "    print(i)"
   ]
  },
  {
   "cell_type": "code",
   "execution_count": 92,
   "metadata": {},
   "outputs": [
    {
     "data": {
      "text/plain": [
       "30"
      ]
     },
     "execution_count": 92,
     "metadata": {},
     "output_type": "execute_result"
    }
   ],
   "source": [
    "len(df2[0]['data'])"
   ]
  },
  {
   "cell_type": "code",
   "execution_count": 94,
   "metadata": {},
   "outputs": [
    {
     "name": "stdout",
     "output_type": "stream",
     "text": [
      "[{'top': 314.29, 'left': 45.0, 'width': 12.615348815917969, 'height': 7.03000020980835, 'text': 'ID'}, {'top': 314.29, 'left': 88.11, 'width': 33.445350646972656, 'height': 7.03000020980835, 'text': 'Name'}, {'top': 314.29, 'left': 227.59, 'width': 102.22001647949219, 'height': 7.03000020980835, 'text': 'Identified Sentence'}] \n",
      "\n",
      "[{'top': 333.35, 'left': 45.0, 'width': 35.6053466796875, 'height': 7.03000020980835, 'text': 'T1063'}, {'top': 333.35, 'left': 88.11, 'width': 96.78999328613281, 'height': 7.03000020980835, 'text': 'Security Software'}, {'top': 333.35, 'left': 227.59, 'width': 266.7300109863281, 'height': 7.03000020980835, 'text': 'Later versions of the software saw the addition of'}] \n",
      "\n",
      "[{'top': 0.0, 'left': 0.0, 'width': 0.0, 'height': 0.0, 'text': ''}, {'top': 347.41, 'left': 88.11, 'width': 53.43534851074219, 'height': 7.03000020980835, 'text': 'Discovery'}, {'top': 347.41, 'left': 227.59, 'width': 128.4199981689453, 'height': 7.03000020980835, 'text': 'spamming and malware'}] \n",
      "\n",
      "[{'top': 0.0, 'left': 0.0, 'width': 0.0, 'height': 0.0, 'text': ''}, {'top': 0.0, 'left': 0.0, 'width': 0.0, 'height': 0.0, 'text': ''}, {'top': 361.48, 'left': 227.59, 'width': 273.6000061035156, 'height': 7.03000020980835, 'text': 'delivery services—including other banking Trojans.'}] \n",
      "\n",
      "[{'top': 0.0, 'left': 0.0, 'width': 0.0, 'height': 0.0, 'text': ''}, {'top': 0.0, 'left': 0.0, 'width': 0.0, 'height': 0.0, 'text': ''}, {'top': 0.0, 'left': 0.0, 'width': 0.0, 'height': 0.0, 'text': ''}] \n",
      "\n",
      "[{'top': 0.0, 'left': 0.0, 'width': 0.0, 'height': 0.0, 'text': ''}, {'top': 0.0, 'left': 0.0, 'width': 0.0, 'height': 0.0, 'text': ''}, {'top': 389.6, 'left': 227.59, 'width': 298.71002197265625, 'height': 7.03000020980835, 'text': 'Emotet uses functionality that helps the software evade'}] \n",
      "\n",
      "[{'top': 0.0, 'left': 0.0, 'width': 0.0, 'height': 0.0, 'text': ''}, {'top': 0.0, 'left': 0.0, 'width': 0.0, 'height': 0.0, 'text': ''}, {'top': 403.66, 'left': 227.59, 'width': 98.18000793457031, 'height': 7.03000020980835, 'text': 'detection by some'}] \n",
      "\n",
      "[{'top': 0.0, 'left': 0.0, 'width': 0.0, 'height': 0.0, 'text': ''}, {'top': 0.0, 'left': 0.0, 'width': 0.0, 'height': 0.0, 'text': ''}, {'top': 417.73, 'left': 227.59, 'width': 122.52001953125, 'height': 7.03000020980835, 'text': 'anti-malware products.'}] \n",
      "\n",
      "[{'top': 450.85, 'left': 45.0, 'width': 35.6053466796875, 'height': 7.03000020980835, 'text': 'T1064'}, {'top': 450.85, 'left': 88.11, 'width': 48.77534484863281, 'height': 7.03000020980835, 'text': 'Scripting'}, {'top': 450.85, 'left': 227.59, 'width': 309.7300109863281, 'height': 7.03000020980835, 'text': 'The infection may arrive either via malicious script, macro-'}] \n",
      "\n",
      "[{'top': 0.0, 'left': 0.0, 'width': 0.0, 'height': 0.0, 'text': ''}, {'top': 0.0, 'left': 0.0, 'width': 0.0, 'height': 0.0, 'text': ''}, {'top': 464.91, 'left': 227.59, 'width': 99.16999816894531, 'height': 7.03000020980835, 'text': 'enabled document'}] \n",
      "\n",
      "[{'top': 0.0, 'left': 0.0, 'width': 0.0, 'height': 0.0, 'text': ''}, {'top': 0.0, 'left': 0.0, 'width': 0.0, 'height': 0.0, 'text': ''}, {'top': 478.98, 'left': 227.59, 'width': 117.67001342773438, 'height': 7.03000020980835, 'text': 'files, or malicious link.'}] \n",
      "\n",
      "[{'top': 512.1, 'left': 45.0, 'width': 35.6053466796875, 'height': 7.03000020980835, 'text': 'T1204'}, {'top': 512.1, 'left': 88.11, 'width': 81.04534912109375, 'height': 7.03000020980835, 'text': 'User Execution'}, {'top': 512.1, 'left': 227.59, 'width': 309.7300109863281, 'height': 7.03000020980835, 'text': 'The infection may arrive either via malicious script, macro-'}] \n",
      "\n",
      "[{'top': 0.0, 'left': 0.0, 'width': 0.0, 'height': 0.0, 'text': ''}, {'top': 0.0, 'left': 0.0, 'width': 0.0, 'height': 0.0, 'text': ''}, {'top': 526.16, 'left': 227.59, 'width': 99.16999816894531, 'height': 7.03000020980835, 'text': 'enabled document'}] \n",
      "\n",
      "[{'top': 0.0, 'left': 0.0, 'width': 0.0, 'height': 0.0, 'text': ''}, {'top': 0.0, 'left': 0.0, 'width': 0.0, 'height': 0.0, 'text': ''}, {'top': 540.23, 'left': 227.59, 'width': 117.67001342773438, 'height': 7.03000020980835, 'text': 'files, or malicious link.'}] \n",
      "\n",
      "[{'top': 573.35, 'left': 45.0, 'width': 35.6053466796875, 'height': 7.03000020980835, 'text': 'T1003'}, {'top': 573.35, 'left': 88.11, 'width': 106.59535217285156, 'height': 7.03000020980835, 'text': 'Credential Dumping'}, {'top': 573.35, 'left': 227.59, 'width': 312.739990234375, 'height': 7.03000020980835, 'text': 'This allows the attackers to install updated versions of the'}] \n",
      "\n",
      "[{'top': 0.0, 'left': 0.0, 'width': 0.0, 'height': 0.0, 'text': ''}, {'top': 0.0, 'left': 0.0, 'width': 0.0, 'height': 0.0, 'text': ''}, {'top': 587.41, 'left': 227.59, 'width': 84.27999877929688, 'height': 7.03000020980835, 'text': 'software, install'}] \n",
      "\n",
      "[{'top': 0.0, 'left': 0.0, 'width': 0.0, 'height': 0.0, 'text': ''}, {'top': 0.0, 'left': 0.0, 'width': 0.0, 'height': 0.0, 'text': ''}, {'top': 601.48, 'left': 227.59, 'width': 317.0, 'height': 7.03000020980835, 'text': 'additional malware such as other banking Trojans, or to act'}] \n",
      "\n",
      "[{'top': 0.0, 'left': 0.0, 'width': 0.0, 'height': 0.0, 'text': ''}, {'top': 0.0, 'left': 0.0, 'width': 0.0, 'height': 0.0, 'text': ''}, {'top': 615.54, 'left': 227.59, 'width': 72.08000946044922, 'height': 7.03000020980835, 'text': 'as a dumping'}] \n",
      "\n",
      "[{'top': 0.0, 'left': 0.0, 'width': 0.0, 'height': 0.0, 'text': ''}, {'top': 0.0, 'left': 0.0, 'width': 0.0, 'height': 0.0, 'text': ''}, {'top': 629.6, 'left': 227.59, 'width': 315.6300048828125, 'height': 7.03000020980835, 'text': 'ground for stolen information such as financial credentials,'}] \n",
      "\n",
      "[{'top': 0.0, 'left': 0.0, 'width': 0.0, 'height': 0.0, 'text': ''}, {'top': 0.0, 'left': 0.0, 'width': 0.0, 'height': 0.0, 'text': ''}, {'top': 643.66, 'left': 227.59, 'width': 82.32001495361328, 'height': 7.03000020980835, 'text': 'usernames and'}] \n",
      "\n",
      "[{'top': 0.0, 'left': 0.0, 'width': 0.0, 'height': 0.0, 'text': ''}, {'top': 0.0, 'left': 0.0, 'width': 0.0, 'height': 0.0, 'text': ''}, {'top': 657.73, 'left': 227.59, 'width': 183.20001220703125, 'height': 7.03000020980835, 'text': 'passwords, and email addresses.'}] \n",
      "\n",
      "[{'top': 0.0, 'left': 0.0, 'width': 0.0, 'height': 0.0, 'text': ''}, {'top': 0.0, 'left': 0.0, 'width': 0.0, 'height': 0.0, 'text': ''}, {'top': 0.0, 'left': 0.0, 'width': 0.0, 'height': 0.0, 'text': ''}] \n",
      "\n",
      "[{'top': 0.0, 'left': 0.0, 'width': 0.0, 'height': 0.0, 'text': ''}, {'top': 0.0, 'left': 0.0, 'width': 0.0, 'height': 0.0, 'text': ''}, {'top': 685.85, 'left': 227.59, 'width': 111.80999755859375, 'height': 7.03000020980835, 'text': 'Latest Emotet news'}] \n",
      "\n",
      "[{'top': 0.0, 'left': 0.0, 'width': 0.0, 'height': 0.0, 'text': ''}, {'top': 0.0, 'left': 0.0, 'width': 0.0, 'height': 0.0, 'text': ''}, {'top': 0.0, 'left': 0.0, 'width': 0.0, 'height': 0.0, 'text': ''}] \n",
      "\n",
      "[{'top': 0.0, 'left': 0.0, 'width': 0.0, 'height': 0.0, 'text': ''}, {'top': 0.0, 'left': 0.0, 'width': 0.0, 'height': 0.0, 'text': ''}, {'top': 713.98, 'left': 227.59, 'width': 309.4100341796875, 'height': 7.03000020980835, 'text': 'Emotet is back: botnet springs back to life with new spam'}] \n",
      "\n",
      "[{'top': 0.0, 'left': 0.0, 'width': 0.0, 'height': 0.0, 'text': ''}, {'top': 0.0, 'left': 0.0, 'width': 0.0, 'height': 0.0, 'text': ''}, {'top': 728.04, 'left': 227.59, 'width': 58.790008544921875, 'height': 7.03000020980835, 'text': 'campaign'}] \n",
      "\n",
      "[{'top': 0.0, 'left': 0.0, 'width': 0.0, 'height': 0.0, 'text': ''}, {'top': 0.0, 'left': 0.0, 'width': 0.0, 'height': 0.0, 'text': ''}, {'top': 0.0, 'left': 0.0, 'width': 0.0, 'height': 0.0, 'text': ''}] \n",
      "\n",
      "[{'top': 0.0, 'left': 0.0, 'width': 0.0, 'height': 0.0, 'text': ''}, {'top': 0.0, 'left': 0.0, 'width': 0.0, 'height': 0.0, 'text': ''}, {'top': 756.16, 'left': 227.59, 'width': 251.16000366210938, 'height': 7.03000020980835, 'text': 'Emotet on the rise with heavy spam campaign'}] \n",
      "\n",
      "[{'top': 0.0, 'left': 0.0, 'width': 0.0, 'height': 0.0, 'text': ''}, {'top': 0.0, 'left': 0.0, 'width': 0.0, 'height': 0.0, 'text': ''}, {'top': 0.0, 'left': 0.0, 'width': 0.0, 'height': 0.0, 'text': ''}] \n",
      "\n",
      "[{'top': 0.0, 'left': 0.0, 'width': 0.0, 'height': 0.0, 'text': ''}, {'top': 0.0, 'left': 0.0, 'width': 0.0, 'height': 0.0, 'text': ''}, {'top': 784.29, 'left': 227.59, 'width': 231.30999755859375, 'height': 7.03000020980835, 'text': 'Malware analysis: decoding Emotet, part 2'}] \n",
      "\n"
     ]
    },
    {
     "data": {
      "text/plain": [
       "[None,\n",
       " None,\n",
       " None,\n",
       " None,\n",
       " None,\n",
       " None,\n",
       " None,\n",
       " None,\n",
       " None,\n",
       " None,\n",
       " None,\n",
       " None,\n",
       " None,\n",
       " None,\n",
       " None,\n",
       " None,\n",
       " None,\n",
       " None,\n",
       " None,\n",
       " None,\n",
       " None,\n",
       " None,\n",
       " None,\n",
       " None,\n",
       " None,\n",
       " None,\n",
       " None,\n",
       " None,\n",
       " None,\n",
       " None]"
      ]
     },
     "execution_count": 94,
     "metadata": {},
     "output_type": "execute_result"
    }
   ],
   "source": [
    "[print(d, '\\n') for d in df2[0]['data']]"
   ]
  },
  {
   "cell_type": "markdown",
   "metadata": {},
   "source": [
    "### Mirai PDF"
   ]
  },
  {
   "cell_type": "code",
   "execution_count": 62,
   "metadata": {},
   "outputs": [
    {
     "data": {
      "text/plain": [
       "[      ID                                    Name  \\\n",
       " 0  T1069            Permission Groups\\rDiscovery   \n",
       " 1  T1018                 Remote System Discovery   \n",
       " 2  T1068  Exploitation for Privilege\\rEscalation   \n",
       " \n",
       "                                  Identified Sentence  \n",
       " 0  This leads us to speculate that a new mirai va...  \n",
       " 1  This leads us to speculate that a new mirai va...  \n",
       " 2                                                NaN  ]"
      ]
     },
     "execution_count": 62,
     "metadata": {},
     "output_type": "execute_result"
    }
   ],
   "source": [
    "from tabula import read_pdf\n",
    "\n",
    "df = read_pdf(\"Mirai.pdf\", pages=3)\n",
    "df"
   ]
  },
  {
   "cell_type": "code",
   "execution_count": 63,
   "metadata": {},
   "outputs": [
    {
     "data": {
      "text/html": [
       "<div>\n",
       "<style scoped>\n",
       "    .dataframe tbody tr th:only-of-type {\n",
       "        vertical-align: middle;\n",
       "    }\n",
       "\n",
       "    .dataframe tbody tr th {\n",
       "        vertical-align: top;\n",
       "    }\n",
       "\n",
       "    .dataframe thead th {\n",
       "        text-align: right;\n",
       "    }\n",
       "</style>\n",
       "<table border=\"1\" class=\"dataframe\">\n",
       "  <thead>\n",
       "    <tr style=\"text-align: right;\">\n",
       "      <th></th>\n",
       "      <th>ID</th>\n",
       "      <th>Name</th>\n",
       "      <th>Identified Sentence</th>\n",
       "    </tr>\n",
       "  </thead>\n",
       "  <tbody>\n",
       "    <tr>\n",
       "      <th>0</th>\n",
       "      <td>T1069</td>\n",
       "      <td>Permission Groups\\rDiscovery</td>\n",
       "      <td>This leads us to speculate that a new mirai va...</td>\n",
       "    </tr>\n",
       "    <tr>\n",
       "      <th>1</th>\n",
       "      <td>T1018</td>\n",
       "      <td>Remote System Discovery</td>\n",
       "      <td>This leads us to speculate that a new mirai va...</td>\n",
       "    </tr>\n",
       "    <tr>\n",
       "      <th>2</th>\n",
       "      <td>T1068</td>\n",
       "      <td>Exploitation for Privilege\\rEscalation</td>\n",
       "      <td>NaN</td>\n",
       "    </tr>\n",
       "  </tbody>\n",
       "</table>\n",
       "</div>"
      ],
      "text/plain": [
       "      ID                                    Name  \\\n",
       "0  T1069            Permission Groups\\rDiscovery   \n",
       "1  T1018                 Remote System Discovery   \n",
       "2  T1068  Exploitation for Privilege\\rEscalation   \n",
       "\n",
       "                                 Identified Sentence  \n",
       "0  This leads us to speculate that a new mirai va...  \n",
       "1  This leads us to speculate that a new mirai va...  \n",
       "2                                                NaN  "
      ]
     },
     "execution_count": 63,
     "metadata": {},
     "output_type": "execute_result"
    }
   ],
   "source": [
    "df[0]"
   ]
  },
  {
   "cell_type": "code",
   "execution_count": 71,
   "metadata": {},
   "outputs": [
    {
     "name": "stdout",
     "output_type": "stream",
     "text": [
      "T1069\n",
      "T1018\n",
      "T1068\n",
      "Permission Groups\r",
      "Discovery\n",
      "Remote System Discovery\n",
      "Exploitation for Privilege\r",
      "Escalation\n",
      "This leads us to speculate that a new mirai variant and\r",
      "new DGA seed is\r",
      "emerging.\r",
      "\r",
      "DGA Domains Generated With Non-zero DGA Seed\r",
      "\r",
      "The new suspicious domain are listed below:\r",
      "\r",
      "And the domains's query patterns are as follows:\r",
      "\r",
      "A detailed study on these domains shows more findings:\r",
      "\r",
      "The L2 domains conform to mirai DGA, 12 characters, a-y\r",
      "only.\n",
      "This leads us to speculate that a new mirai variant and\r",
      "new DGA seed is\r",
      "emerging.\r",
      "\r",
      "DGA Domains Generated With Non-zero DGA Seed\r",
      "\r",
      "The new suspicious domain are listed below:\r",
      "\r",
      "And the domains's query patterns are as follows:\r",
      "\r",
      "A detailed study on these domains shows more findings:\r",
      "\r",
      "The L2 domains conform to mirai DGA, 12 characters, a-y\r",
      "only.\n",
      "nan\n"
     ]
    },
    {
     "data": {
      "text/plain": [
       "[None, None, None]"
      ]
     },
     "execution_count": 71,
     "metadata": {},
     "output_type": "execute_result"
    }
   ],
   "source": [
    "tid = df[0]['ID']\n",
    "[print(id) for id in tid]\n",
    "\n",
    "names = df[0]['Name']\n",
    "[print(name) for name in names]\n",
    "\n",
    "sentences = df[0]['Identified Sentence']\n",
    "[print(s) for s in sentences]"
   ]
  },
  {
   "cell_type": "code",
   "execution_count": 66,
   "metadata": {},
   "outputs": [
    {
     "data": {
      "text/plain": [
       "0    This leads us to speculate that a new mirai va...\n",
       "1    This leads us to speculate that a new mirai va...\n",
       "2                                                  NaN\n",
       "Name: Identified Sentence, dtype: object"
      ]
     },
     "execution_count": 66,
     "metadata": {},
     "output_type": "execute_result"
    }
   ],
   "source": [
    "df[0]['Identified Sentence']"
   ]
  },
  {
   "cell_type": "code",
   "execution_count": 51,
   "metadata": {},
   "outputs": [
    {
     "data": {
      "text/plain": [
       "\"-  -----  --------------------------  -------------------------------------------------------\\n0  T1069  Permission Groups           This leads us to speculate that a new mirai variant and\\n          Discovery                   new DGA seed is\\n                                      emerging.\\n\\n                                      DGA Domains Generated With Non-zero DGA Seed\\n\\n                                      The new suspicious domain are listed below:\\n\\n                                      And the domains's query patterns are as follows:\\n\\n                                      A detailed study on these domains shows more findings:\\n\\n                                      The L2 domains conform to mirai DGA, 12 characters, a-y\\n                                      only.\\n1  T1018  Remote System Discovery     This leads us to speculate that a new mirai variant and\\n                                      new DGA seed is\\n                                      emerging.\\n\\n                                      DGA Domains Generated With Non-zero DGA Seed\\n\\n                                      The new suspicious domain are listed below:\\n\\n                                      And the domains's query patterns are as follows:\\n\\n                                      A detailed study on these domains shows more findings:\\n\\n                                      The L2 domains conform to mirai DGA, 12 characters, a-y\\n                                      only.\\n2  T1068  Exploitation for Privilege  nan\\n          Escalation\\n-  -----  --------------------------  -------------------------------------------------------\""
      ]
     },
     "execution_count": 51,
     "metadata": {},
     "output_type": "execute_result"
    }
   ],
   "source": [
    "from tabulate import tabulate\n",
    "\n",
    "tabulate(df[0])"
   ]
  },
  {
   "cell_type": "code",
   "execution_count": 23,
   "metadata": {},
   "outputs": [
    {
     "data": {
      "text/plain": [
       "[{'extraction_method': 'lattice',\n",
       "  'top': 124.678505,\n",
       "  'left': 40.307693,\n",
       "  'width': 514.2640991210938,\n",
       "  'height': 667.2381591796875,\n",
       "  'right': 554.5718,\n",
       "  'bottom': 791.9167,\n",
       "  'data': [[{'top': 124.678505,\n",
       "     'left': 40.307693,\n",
       "     'width': 43.02543640136719,\n",
       "     'height': 19.260231018066406,\n",
       "     'text': 'ID'},\n",
       "    {'top': 124.678505,\n",
       "     'left': 83.33313,\n",
       "     'width': 152.90780639648438,\n",
       "     'height': 19.260231018066406,\n",
       "     'text': 'Name'},\n",
       "    {'top': 124.678505,\n",
       "     'left': 236.24094,\n",
       "     'width': 318.3308410644531,\n",
       "     'height': 19.260231018066406,\n",
       "     'text': 'Identified Sentence'}],\n",
       "   [{'top': 143.93874,\n",
       "     'left': 40.307693,\n",
       "     'width': 43.02543640136719,\n",
       "     'height': 215.93873596191406,\n",
       "     'text': 'T1069'},\n",
       "    {'top': 143.93874,\n",
       "     'left': 83.33313,\n",
       "     'width': 152.90780639648438,\n",
       "     'height': 215.93873596191406,\n",
       "     'text': 'Permission Groups\\rDiscovery'},\n",
       "    {'top': 143.93874,\n",
       "     'left': 236.24094,\n",
       "     'width': 318.3308410644531,\n",
       "     'height': 215.93873596191406,\n",
       "     'text': \"This leads us to speculate that a new mirai variant and\\rnew DGA seed is\\remerging.\\r\\rDGA Domains Generated With Non-zero DGA Seed\\r\\rThe new suspicious domain are listed below:\\r\\rAnd the domains's query patterns are as follows:\\r\\rA detailed study on these domains shows more findings:\\r\\rThe L2 domains conform to mirai DGA, 12 characters, a-y\\ronly.\"}],\n",
       "   [{'top': 359.87747,\n",
       "     'left': 40.307693,\n",
       "     'width': 43.02543640136719,\n",
       "     'height': 215.93325805664062,\n",
       "     'text': 'T1018'},\n",
       "    {'top': 359.87747,\n",
       "     'left': 83.33313,\n",
       "     'width': 152.90780639648438,\n",
       "     'height': 215.93325805664062,\n",
       "     'text': 'Remote System Discovery'},\n",
       "    {'top': 359.87747,\n",
       "     'left': 236.24094,\n",
       "     'width': 318.3308410644531,\n",
       "     'height': 215.93325805664062,\n",
       "     'text': \"This leads us to speculate that a new mirai variant and\\rnew DGA seed is\\remerging.\\r\\rDGA Domains Generated With Non-zero DGA Seed\\r\\rThe new suspicious domain are listed below:\\r\\rAnd the domains's query patterns are as follows:\\r\\rA detailed study on these domains shows more findings:\\r\\rThe L2 domains conform to mirai DGA, 12 characters, a-y\\ronly.\"}],\n",
       "   [{'top': 575.8107,\n",
       "     'left': 40.307693,\n",
       "     'width': 43.02543640136719,\n",
       "     'height': 216.10595703125,\n",
       "     'text': 'T1068'},\n",
       "    {'top': 575.8107,\n",
       "     'left': 83.33313,\n",
       "     'width': 152.90780639648438,\n",
       "     'height': 216.10595703125,\n",
       "     'text': 'Exploitation for Privilege\\rEscalation'},\n",
       "    {'top': 0.0, 'left': 0.0, 'width': 0.0, 'height': 0.0, 'text': ''}]]}]"
      ]
     },
     "execution_count": 23,
     "metadata": {},
     "output_type": "execute_result"
    }
   ],
   "source": [
    "df = read_pdf(\"Mirai.pdf\", pages=3, output_format='json')\n",
    "df"
   ]
  },
  {
   "cell_type": "code",
   "execution_count": 26,
   "metadata": {},
   "outputs": [],
   "source": [
    "df = read_pdf(\"Mirai.pdf\", pages='all', multiple_tables=True)"
   ]
  },
  {
   "cell_type": "code",
   "execution_count": 27,
   "metadata": {},
   "outputs": [
    {
     "data": {
      "text/plain": [
       "1"
      ]
     },
     "execution_count": 27,
     "metadata": {},
     "output_type": "execute_result"
    }
   ],
   "source": [
    "len(df)"
   ]
  },
  {
   "cell_type": "code",
   "execution_count": 35,
   "metadata": {},
   "outputs": [
    {
     "data": {
      "text/html": [
       "<div>\n",
       "<style scoped>\n",
       "    .dataframe tbody tr th:only-of-type {\n",
       "        vertical-align: middle;\n",
       "    }\n",
       "\n",
       "    .dataframe tbody tr th {\n",
       "        vertical-align: top;\n",
       "    }\n",
       "\n",
       "    .dataframe thead th {\n",
       "        text-align: right;\n",
       "    }\n",
       "</style>\n",
       "<table border=\"1\" class=\"dataframe\">\n",
       "  <thead>\n",
       "    <tr style=\"text-align: right;\">\n",
       "      <th></th>\n",
       "      <th>ID</th>\n",
       "      <th>Name</th>\n",
       "      <th>Identified Sentence</th>\n",
       "    </tr>\n",
       "  </thead>\n",
       "  <tbody>\n",
       "    <tr>\n",
       "      <th>0</th>\n",
       "      <td>T1069</td>\n",
       "      <td>Permission Groups\\rDiscovery</td>\n",
       "      <td>This leads us to speculate that a new mirai va...</td>\n",
       "    </tr>\n",
       "    <tr>\n",
       "      <th>1</th>\n",
       "      <td>T1018</td>\n",
       "      <td>Remote System Discovery</td>\n",
       "      <td>This leads us to speculate that a new mirai va...</td>\n",
       "    </tr>\n",
       "    <tr>\n",
       "      <th>2</th>\n",
       "      <td>T1068</td>\n",
       "      <td>Exploitation for Privilege\\rEscalation</td>\n",
       "      <td>NaN</td>\n",
       "    </tr>\n",
       "  </tbody>\n",
       "</table>\n",
       "</div>"
      ],
      "text/plain": [
       "      ID                                    Name  \\\n",
       "0  T1069            Permission Groups\\rDiscovery   \n",
       "1  T1018                 Remote System Discovery   \n",
       "2  T1068  Exploitation for Privilege\\rEscalation   \n",
       "\n",
       "                                 Identified Sentence  \n",
       "0  This leads us to speculate that a new mirai va...  \n",
       "1  This leads us to speculate that a new mirai va...  \n",
       "2                                                NaN  "
      ]
     },
     "execution_count": 35,
     "metadata": {},
     "output_type": "execute_result"
    }
   ],
   "source": [
    "df[0]"
   ]
  },
  {
   "cell_type": "code",
   "execution_count": 34,
   "metadata": {},
   "outputs": [
    {
     "data": {
      "text/plain": [
       "0              Permission Groups\\rDiscovery\n",
       "1                   Remote System Discovery\n",
       "2    Exploitation for Privilege\\rEscalation\n",
       "Name: Name, dtype: object"
      ]
     },
     "execution_count": 34,
     "metadata": {},
     "output_type": "execute_result"
    }
   ],
   "source": [
    "df[0].Name"
   ]
  },
  {
   "cell_type": "code",
   "execution_count": 33,
   "metadata": {},
   "outputs": [
    {
     "data": {
      "text/plain": [
       "0    This leads us to speculate that a new mirai va...\n",
       "1    This leads us to speculate that a new mirai va...\n",
       "2                                                  NaN\n",
       "Name: Identified Sentence, dtype: object"
      ]
     },
     "execution_count": 33,
     "metadata": {},
     "output_type": "execute_result"
    }
   ],
   "source": [
    "df[0]['Identified Sentence']"
   ]
  },
  {
   "cell_type": "markdown",
   "metadata": {},
   "source": [
    "## Camelot"
   ]
  },
  {
   "cell_type": "code",
   "execution_count": 127,
   "metadata": {},
   "outputs": [],
   "source": [
    "import camelot"
   ]
  },
  {
   "cell_type": "code",
   "execution_count": 128,
   "metadata": {},
   "outputs": [],
   "source": [
    "tables = camelot.read_pdf(\"Mirai.pdf\")"
   ]
  },
  {
   "cell_type": "code",
   "execution_count": 129,
   "metadata": {},
   "outputs": [],
   "source": [
    "tables.export('foo.csv', f='csv', compress=True)"
   ]
  },
  {
   "cell_type": "code",
   "execution_count": 134,
   "metadata": {},
   "outputs": [
    {
     "data": {
      "text/plain": [
       "<TableList n=0>"
      ]
     },
     "execution_count": 134,
     "metadata": {},
     "output_type": "execute_result"
    }
   ],
   "source": [
    "tables"
   ]
  },
  {
   "cell_type": "code",
   "execution_count": 21,
   "metadata": {},
   "outputs": [
    {
     "data": {
      "text/plain": [
       "<TableList n=8>"
      ]
     },
     "execution_count": 21,
     "metadata": {},
     "output_type": "execute_result"
    }
   ],
   "source": [
    "import camelot\n",
    "tables = camelot.read_pdf('Mirai1.pdf', pages='all', multiple_tables=False)\n",
    "tables"
   ]
  },
  {
   "cell_type": "code",
   "execution_count": 26,
   "metadata": {},
   "outputs": [
    {
     "data": {
      "text/plain": [
       "8"
      ]
     },
     "execution_count": 26,
     "metadata": {},
     "output_type": "execute_result"
    }
   ],
   "source": [
    "len(tables)"
   ]
  },
  {
   "cell_type": "code",
   "execution_count": 59,
   "metadata": {},
   "outputs": [
    {
     "data": {
      "text/plain": [
       "True"
      ]
     },
     "execution_count": 59,
     "metadata": {},
     "output_type": "execute_result"
    }
   ],
   "source": [
    "tables[5].df[1][0] == ''"
   ]
  },
  {
   "cell_type": "code",
   "execution_count": 57,
   "metadata": {},
   "outputs": [
    {
     "data": {
      "text/plain": [
       "False"
      ]
     },
     "execution_count": 57,
     "metadata": {},
     "output_type": "execute_result"
    }
   ],
   "source": [
    "bool(tables[5].df[1][0])"
   ]
  },
  {
   "cell_type": "code",
   "execution_count": 67,
   "metadata": {},
   "outputs": [
    {
     "name": "stdout",
     "output_type": "stream",
     "text": [
      "wassup\n",
      "wassup\n",
      "wassup\n",
      "wassup\n",
      "wassup\n",
      "wassup\n",
      "wassup\n",
      "wassup\n",
      "wassup\n"
     ]
    }
   ],
   "source": [
    "for i in range(10):\n",
    "    if i == 0:\n",
    "        name = 'wassup'\n",
    "        continue\n",
    "    else:\n",
    "        print(name)"
   ]
  },
  {
   "cell_type": "code",
   "execution_count": null,
   "metadata": {},
   "outputs": [],
   "source": [
    "for i in range:\n",
    "    ids[i]\n",
    "    names[i]\n",
    "    sents[i]"
   ]
  },
  {
   "cell_type": "code",
   "execution_count": null,
   "metadata": {},
   "outputs": [],
   "source": [
    "# How to iterate over df rows? Use range?\n",
    "For every row in df:\n",
    "    # If id is empty string, use previous id, else \n",
    "    if df['ID'][0] == ''\n",
    "        id = id (previous id)\n",
    "    else:\n",
    "        id = df['ID'][0]\n",
    "    \n",
    "    # If name is empy string, use previous name\n",
    "    if df['Name'][0] == '':\n",
    "        name = name (previous name)\n",
    "    else:\n",
    "        name = df['Name'][0]\n",
    "        \n",
    "    # Clean sentences\n",
    "    sents = \n",
    "    prep_sents = f(sents)\n",
    "    \n",
    "    # Insert Data\n",
    "    for s in prep_sents:\n",
    "        insert(id,name,s)"
   ]
  },
  {
   "cell_type": "code",
   "execution_count": 77,
   "metadata": {},
   "outputs": [
    {
     "data": {
      "text/html": [
       "<div>\n",
       "<style scoped>\n",
       "    .dataframe tbody tr th:only-of-type {\n",
       "        vertical-align: middle;\n",
       "    }\n",
       "\n",
       "    .dataframe tbody tr th {\n",
       "        vertical-align: top;\n",
       "    }\n",
       "\n",
       "    .dataframe thead th {\n",
       "        text-align: right;\n",
       "    }\n",
       "</style>\n",
       "<table border=\"1\" class=\"dataframe\">\n",
       "  <thead>\n",
       "    <tr style=\"text-align: right;\">\n",
       "      <th></th>\n",
       "      <th>0</th>\n",
       "      <th>1</th>\n",
       "      <th>2</th>\n",
       "    </tr>\n",
       "  </thead>\n",
       "  <tbody>\n",
       "    <tr>\n",
       "      <th>0</th>\n",
       "      <td>ID</td>\n",
       "      <td>Name</td>\n",
       "      <td>Identified Sentence</td>\n",
       "    </tr>\n",
       "    <tr>\n",
       "      <th>1</th>\n",
       "      <td>T1046</td>\n",
       "      <td>Network Service \\nScanning</td>\n",
       "      <td>Much of the new mirai variant that scans port ...</td>\n",
       "    </tr>\n",
       "    <tr>\n",
       "      <th>2</th>\n",
       "      <td>T1065</td>\n",
       "      <td>Uncommonly Used \\nPort</td>\n",
       "      <td>The following table lists first seen time of “...</td>\n",
       "    </tr>\n",
       "    <tr>\n",
       "      <th>3</th>\n",
       "      <td>T1043</td>\n",
       "      <td>Commonly Used Port</td>\n",
       "      <td>The following table lists first seen time of “...</td>\n",
       "    </tr>\n",
       "    <tr>\n",
       "      <th>4</th>\n",
       "      <td>T1065</td>\n",
       "      <td>Uncommonly Used \\nPort</td>\n",
       "      <td>[](/content/images/2016/11/03-bot-current-grow...</td>\n",
       "    </tr>\n",
       "  </tbody>\n",
       "</table>\n",
       "</div>"
      ],
      "text/plain": [
       "       0                           1  \\\n",
       "0     ID                        Name   \n",
       "1  T1046  Network Service \\nScanning   \n",
       "2  T1065      Uncommonly Used \\nPort   \n",
       "3  T1043          Commonly Used Port   \n",
       "4  T1065      Uncommonly Used \\nPort   \n",
       "\n",
       "                                                   2  \n",
       "0                                Identified Sentence  \n",
       "1  Much of the new mirai variant that scans port ...  \n",
       "2  The following table lists first seen time of “...  \n",
       "3  The following table lists first seen time of “...  \n",
       "4  [](/content/images/2016/11/03-bot-current-grow...  "
      ]
     },
     "execution_count": 77,
     "metadata": {},
     "output_type": "execute_result"
    }
   ],
   "source": [
    "tables[0].df"
   ]
  },
  {
   "cell_type": "markdown",
   "metadata": {},
   "source": [
    "### Looping over df rows"
   ]
  },
  {
   "cell_type": "markdown",
   "metadata": {},
   "source": [
    "#### Method 1: Using index attribute of the Dataframe "
   ]
  },
  {
   "cell_type": "code",
   "execution_count": 82,
   "metadata": {},
   "outputs": [
    {
     "name": "stdout",
     "output_type": "stream",
     "text": [
      "ID\n",
      "Name\n",
      "Identified Sentence\n",
      "NEXT\n",
      "\n",
      "T1046\n",
      "Network Service \n",
      "Scanning\n",
      "Much of the new mirai variant that scans port 7547 has been \n",
      "covered by various\n",
      "sources.\n",
      "NEXT\n",
      "\n",
      "T1065\n",
      "Uncommonly Used \n",
      "Port\n",
      "The following table lists first seen time of “old” mirai and the \n",
      "“new” ones\n",
      "that hit our honeypot.  \n",
      "  \n",
      "You can see the variant on port 7547 first shown up on \n",
      "2016-11-26 21:27:23,\n",
      "and first observed for the variant on port 5555 was one day \n",
      "after on\n",
      "2016-11-27 17:04:02(all GMT +8).  \n",
      "  \n",
      "!\n",
      "NEXT\n",
      "\n",
      "T1043\n",
      "Commonly Used Port\n",
      "The following table lists first seen time of “old” mirai and the \n",
      "“new” ones\n",
      "that hit our honeypot.  \n",
      "  \n",
      "You can see the variant on port 7547 first shown up on \n",
      "2016-11-26 21:27:23,\n",
      "and first observed for the variant on port 5555 was one day \n",
      "after on\n",
      "2016-11-27 17:04:02(all GMT +8).  \n",
      "  \n",
      "!\n",
      "NEXT\n",
      "\n",
      "T1065\n",
      "Uncommonly Used \n",
      "Port\n",
      "[](/content/images/2016/11/03-bot-current-growth-rate-on-all-\n",
      "port.jpg)  \n",
      "  \n",
      "Currently, the growth rate of the bot on port 7547 has far \n",
      "exceeded the number\n",
      "of bots on port 23/2323.\n",
      "NEXT\n",
      "\n"
     ]
    }
   ],
   "source": [
    "for t in tables:\n",
    "    df = t.df\n",
    "    for ind in df.index: \n",
    "        print(df[0][ind])\n",
    "        print(df[1][ind])\n",
    "        print(df[2][ind])\n",
    "        print(\"NEXT\\n\")\n",
    "    break"
   ]
  },
  {
   "cell_type": "markdown",
   "metadata": {},
   "source": [
    "#### Method 2: Using loc[] function of the Dataframe"
   ]
  },
  {
   "cell_type": "code",
   "execution_count": 85,
   "metadata": {
    "scrolled": true
   },
   "outputs": [
    {
     "name": "stdout",
     "output_type": "stream",
     "text": [
      "ID Name Identified Sentence NEXT\n",
      "\n",
      "T1046 Network Service \n",
      "Scanning Much of the new mirai variant that scans port 7547 has been \n",
      "covered by various\n",
      "sources. NEXT\n",
      "\n",
      "T1065 Uncommonly Used \n",
      "Port The following table lists first seen time of “old” mirai and the \n",
      "“new” ones\n",
      "that hit our honeypot.  \n",
      "  \n",
      "You can see the variant on port 7547 first shown up on \n",
      "2016-11-26 21:27:23,\n",
      "and first observed for the variant on port 5555 was one day \n",
      "after on\n",
      "2016-11-27 17:04:02(all GMT +8).  \n",
      "  \n",
      "! NEXT\n",
      "\n",
      "T1043 Commonly Used Port The following table lists first seen time of “old” mirai and the \n",
      "“new” ones\n",
      "that hit our honeypot.  \n",
      "  \n",
      "You can see the variant on port 7547 first shown up on \n",
      "2016-11-26 21:27:23,\n",
      "and first observed for the variant on port 5555 was one day \n",
      "after on\n",
      "2016-11-27 17:04:02(all GMT +8).  \n",
      "  \n",
      "! NEXT\n",
      "\n",
      "T1065 Uncommonly Used \n",
      "Port [](/content/images/2016/11/03-bot-current-growth-rate-on-all-\n",
      "port.jpg)  \n",
      "  \n",
      "Currently, the growth rate of the bot on port 7547 has far \n",
      "exceeded the number\n",
      "of bots on port 23/2323. NEXT\n",
      "\n"
     ]
    }
   ],
   "source": [
    "df = tables[0].df\n",
    "for i in range(len(df)) : \n",
    "  print(df.loc[i, 0], df.loc[i, 1], df.loc[i, 2], 'NEXT\\n') \n"
   ]
  },
  {
   "cell_type": "markdown",
   "metadata": {},
   "source": [
    "#### Method 3 : Using iloc[] function of the DataFrame."
   ]
  },
  {
   "cell_type": "code",
   "execution_count": 87,
   "metadata": {
    "scrolled": true
   },
   "outputs": [
    {
     "name": "stdout",
     "output_type": "stream",
     "text": [
      "ID Identified Sentence NEXT\n",
      "\n",
      "T1046 Much of the new mirai variant that scans port 7547 has been \n",
      "covered by various\n",
      "sources. NEXT\n",
      "\n",
      "T1065 The following table lists first seen time of “old” mirai and the \n",
      "“new” ones\n",
      "that hit our honeypot.  \n",
      "  \n",
      "You can see the variant on port 7547 first shown up on \n",
      "2016-11-26 21:27:23,\n",
      "and first observed for the variant on port 5555 was one day \n",
      "after on\n",
      "2016-11-27 17:04:02(all GMT +8).  \n",
      "  \n",
      "! NEXT\n",
      "\n",
      "T1043 The following table lists first seen time of “old” mirai and the \n",
      "“new” ones\n",
      "that hit our honeypot.  \n",
      "  \n",
      "You can see the variant on port 7547 first shown up on \n",
      "2016-11-26 21:27:23,\n",
      "and first observed for the variant on port 5555 was one day \n",
      "after on\n",
      "2016-11-27 17:04:02(all GMT +8).  \n",
      "  \n",
      "! NEXT\n",
      "\n",
      "T1065 [](/content/images/2016/11/03-bot-current-growth-rate-on-all-\n",
      "port.jpg)  \n",
      "  \n",
      "Currently, the growth rate of the bot on port 7547 has far \n",
      "exceeded the number\n",
      "of bots on port 23/2323. NEXT\n",
      "\n"
     ]
    }
   ],
   "source": [
    "for i in range(len(df)) : \n",
    "  print(df.iloc[i, 0], df.iloc[i, 2], 'NEXT\\n')"
   ]
  },
  {
   "cell_type": "markdown",
   "metadata": {},
   "source": [
    "#### Method 4 : Using iterrows() method of the Dataframe."
   ]
  },
  {
   "cell_type": "code",
   "execution_count": 88,
   "metadata": {},
   "outputs": [
    {
     "name": "stdout",
     "output_type": "stream",
     "text": [
      "0 ID Name Identified Sentence NEXT\n",
      "\n",
      "1 T1046 Network Service \n",
      "Scanning Much of the new mirai variant that scans port 7547 has been \n",
      "covered by various\n",
      "sources. NEXT\n",
      "\n",
      "2 T1065 Uncommonly Used \n",
      "Port The following table lists first seen time of “old” mirai and the \n",
      "“new” ones\n",
      "that hit our honeypot.  \n",
      "  \n",
      "You can see the variant on port 7547 first shown up on \n",
      "2016-11-26 21:27:23,\n",
      "and first observed for the variant on port 5555 was one day \n",
      "after on\n",
      "2016-11-27 17:04:02(all GMT +8).  \n",
      "  \n",
      "! NEXT\n",
      "\n",
      "3 T1043 Commonly Used Port The following table lists first seen time of “old” mirai and the \n",
      "“new” ones\n",
      "that hit our honeypot.  \n",
      "  \n",
      "You can see the variant on port 7547 first shown up on \n",
      "2016-11-26 21:27:23,\n",
      "and first observed for the variant on port 5555 was one day \n",
      "after on\n",
      "2016-11-27 17:04:02(all GMT +8).  \n",
      "  \n",
      "! NEXT\n",
      "\n",
      "4 T1065 Uncommonly Used \n",
      "Port [](/content/images/2016/11/03-bot-current-growth-rate-on-all-\n",
      "port.jpg)  \n",
      "  \n",
      "Currently, the growth rate of the bot on port 7547 has far \n",
      "exceeded the number\n",
      "of bots on port 23/2323. NEXT\n",
      "\n"
     ]
    }
   ],
   "source": [
    "for index, row in df.iterrows():\n",
    "    print(index, row[0], row[1], row[2], 'NEXT\\n')"
   ]
  },
  {
   "cell_type": "code",
   "execution_count": 52,
   "metadata": {},
   "outputs": [
    {
     "data": {
      "text/plain": [
       "[       0                           1  \\\n",
       " 0     ID                        Name   \n",
       " 1  T1046  Network Service \\nScanning   \n",
       " 2  T1065      Uncommonly Used \\nPort   \n",
       " 3  T1043          Commonly Used Port   \n",
       " 4  T1065      Uncommonly Used \\nPort   \n",
       " \n",
       "                                                    2  \n",
       " 0                                Identified Sentence  \n",
       " 1  Much of the new mirai variant that scans port ...  \n",
       " 2  The following table lists first seen time of “...  \n",
       " 3  The following table lists first seen time of “...  \n",
       " 4  [](/content/images/2016/11/03-bot-current-grow...  ,\n",
       "        0                                         1  \\\n",
       " 0  T1046                Network Service \\nScanning   \n",
       " 1  T1043                        Commonly Used Port   \n",
       " 2  T1048  Exfiltration Over \\nAlternative Protocol   \n",
       " \n",
       "                                                    2  \n",
       " 0  [](/content/images/2016/11/03-bot-current-grow...  \n",
       " 1  [](/content/images/2016/11/03-bot-current-grow...  \n",
       " 2  The total number of bots on current port 7547 ...  ,\n",
       "        0                           1  \\\n",
       " 0                                      \n",
       " 1  T1065      Uncommonly Used \\nPort   \n",
       " 2  T1046  Network Service \\nScanning   \n",
       " \n",
       "                                                    2  \n",
       " 0  The new mirai has two C2s (securityupdates.us,...  \n",
       " 1  The total number of bots on current port 7547 ...  \n",
       " 2  The total number of bots on current port 7547 ...  ,\n",
       "        0                  1                                                  2\n",
       " 0                            Bot growth rate on port 7547, per 10 minutes: ...\n",
       " 1  T1008  Fallback Channels  The total number of bots on current port 7547 ...,\n",
       "        0                   1  \\\n",
       " 0                              \n",
       " 1  T1043  Commonly Used Port   \n",
       " \n",
       "                                                    2  \n",
       " 0  On the other hand, from the perspective of the...  \n",
       " 1  The total number of bots on current port 7547 ...  ,\n",
       "        0                       1  \\\n",
       " 0                                  \n",
       " 1  T1008       Fallback Channels   \n",
       " 2  T1065  Uncommonly Used \\nPort   \n",
       " \n",
       "                                                    2  \n",
       " 0  geographical\\ndistribution of the existing mir...  \n",
       " 1  [](/content/images/2016/11/07-two-c2-server-an...  \n",
       " 2  [](/content/images/2016/11/07-two-c2-server-an...  ,\n",
       "        0                           1  \\\n",
       " 0                                      \n",
       " 1  T1046  Network Service \\nScanning   \n",
       " 2  T1008           Fallback Channels   \n",
       " 3  T1043          Commonly Used Port   \n",
       " \n",
       "                                                    2  \n",
       " 0  The following diagram shows the overlap of all...  \n",
       " 1  [](/content/images/2016/11/07-two-c2-server-an...  \n",
       " 2  [](/content/images/2016/11/07-two-c2-server-an...  \n",
       " 3  [](/content/images/2016/11/07-two-c2-server-an...  ,\n",
       "        0                           1  \\\n",
       " 0                                      \n",
       " 1  T1065      Uncommonly Used \\nPort   \n",
       " 2  T1046  Network Service \\nScanning   \n",
       " 3  T1043          Commonly Used Port   \n",
       " 4  T1046  Network Service \\nScanning   \n",
       " 5  T1046  Network Service \\nScanning   \n",
       " \n",
       "                                                    2  \n",
       " 0  mirai operator are very likely the same group ...  \n",
       " 1  Among them, 79% only scan port 23 and 6.4% onl...  \n",
       " 2  Among them, 79% only scan port 23 and 6.4% onl...  \n",
       " 3  Among them, 79% only scan port 23 and 6.4% onl...  \n",
       " 4  About 3.1% of the Mirai bots only scan port 7547.  \n",
       " 5  No more than 0.1% of the bots show other cross...  ]"
      ]
     },
     "execution_count": 52,
     "metadata": {},
     "output_type": "execute_result"
    }
   ],
   "source": [
    "[t.df for t in tables]"
   ]
  },
  {
   "cell_type": "code",
   "execution_count": 25,
   "metadata": {},
   "outputs": [
    {
     "data": {
      "text/html": [
       "<div>\n",
       "<style scoped>\n",
       "    .dataframe tbody tr th:only-of-type {\n",
       "        vertical-align: middle;\n",
       "    }\n",
       "\n",
       "    .dataframe tbody tr th {\n",
       "        vertical-align: top;\n",
       "    }\n",
       "\n",
       "    .dataframe thead th {\n",
       "        text-align: right;\n",
       "    }\n",
       "</style>\n",
       "<table border=\"1\" class=\"dataframe\">\n",
       "  <thead>\n",
       "    <tr style=\"text-align: right;\">\n",
       "      <th></th>\n",
       "      <th>0</th>\n",
       "      <th>1</th>\n",
       "      <th>2</th>\n",
       "    </tr>\n",
       "  </thead>\n",
       "  <tbody>\n",
       "    <tr>\n",
       "      <th>0</th>\n",
       "      <td>ID</td>\n",
       "      <td>Name</td>\n",
       "      <td>Identified Sentence</td>\n",
       "    </tr>\n",
       "    <tr>\n",
       "      <th>1</th>\n",
       "      <td>T1046</td>\n",
       "      <td>Network Service \\nScanning</td>\n",
       "      <td>Much of the new mirai variant that scans port ...</td>\n",
       "    </tr>\n",
       "    <tr>\n",
       "      <th>2</th>\n",
       "      <td>T1065</td>\n",
       "      <td>Uncommonly Used \\nPort</td>\n",
       "      <td>The following table lists first seen time of “...</td>\n",
       "    </tr>\n",
       "    <tr>\n",
       "      <th>3</th>\n",
       "      <td>T1043</td>\n",
       "      <td>Commonly Used Port</td>\n",
       "      <td>The following table lists first seen time of “...</td>\n",
       "    </tr>\n",
       "    <tr>\n",
       "      <th>4</th>\n",
       "      <td>T1065</td>\n",
       "      <td>Uncommonly Used \\nPort</td>\n",
       "      <td>[](/content/images/2016/11/03-bot-current-grow...</td>\n",
       "    </tr>\n",
       "  </tbody>\n",
       "</table>\n",
       "</div>"
      ],
      "text/plain": [
       "       0                           1  \\\n",
       "0     ID                        Name   \n",
       "1  T1046  Network Service \\nScanning   \n",
       "2  T1065      Uncommonly Used \\nPort   \n",
       "3  T1043          Commonly Used Port   \n",
       "4  T1065      Uncommonly Used \\nPort   \n",
       "\n",
       "                                                   2  \n",
       "0                                Identified Sentence  \n",
       "1  Much of the new mirai variant that scans port ...  \n",
       "2  The following table lists first seen time of “...  \n",
       "3  The following table lists first seen time of “...  \n",
       "4  [](/content/images/2016/11/03-bot-current-grow...  "
      ]
     },
     "execution_count": 25,
     "metadata": {},
     "output_type": "execute_result"
    }
   ],
   "source": [
    "tables[0].df"
   ]
  },
  {
   "cell_type": "code",
   "execution_count": 38,
   "metadata": {},
   "outputs": [
    {
     "name": "stdout",
     "output_type": "stream",
     "text": [
      "Identified Sentence NEXT PLS\n",
      "\n",
      "Much of the new mirai variant that scans port 7547 has been \n",
      "covered by various\n",
      "sources. NEXT PLS\n",
      "\n",
      "The following table lists first seen time of “old” mirai and the \n",
      "“new” ones\n",
      "that hit our honeypot.  \n",
      "  \n",
      "You can see the variant on port 7547 first shown up on \n",
      "2016-11-26 21:27:23,\n",
      "and first observed for the variant on port 5555 was one day \n",
      "after on\n",
      "2016-11-27 17:04:02(all GMT +8).  \n",
      "  \n",
      "! NEXT PLS\n",
      "\n",
      "The following table lists first seen time of “old” mirai and the \n",
      "“new” ones\n",
      "that hit our honeypot.  \n",
      "  \n",
      "You can see the variant on port 7547 first shown up on \n",
      "2016-11-26 21:27:23,\n",
      "and first observed for the variant on port 5555 was one day \n",
      "after on\n",
      "2016-11-27 17:04:02(all GMT +8).  \n",
      "  \n",
      "! NEXT PLS\n",
      "\n",
      "[](/content/images/2016/11/03-bot-current-growth-rate-on-all-\n",
      "port.jpg)  \n",
      "  \n",
      "Currently, the growth rate of the bot on port 7547 has far \n",
      "exceeded the number\n",
      "of bots on port 23/2323. NEXT PLS\n",
      "\n"
     ]
    }
   ],
   "source": [
    "for i in tables[0].df[2]:\n",
    "    print(i, 'NEXT PLS\\n')"
   ]
  },
  {
   "cell_type": "code",
   "execution_count": 27,
   "metadata": {},
   "outputs": [
    {
     "data": {
      "text/html": [
       "<div>\n",
       "<style scoped>\n",
       "    .dataframe tbody tr th:only-of-type {\n",
       "        vertical-align: middle;\n",
       "    }\n",
       "\n",
       "    .dataframe tbody tr th {\n",
       "        vertical-align: top;\n",
       "    }\n",
       "\n",
       "    .dataframe thead th {\n",
       "        text-align: right;\n",
       "    }\n",
       "</style>\n",
       "<table border=\"1\" class=\"dataframe\">\n",
       "  <thead>\n",
       "    <tr style=\"text-align: right;\">\n",
       "      <th></th>\n",
       "      <th>0</th>\n",
       "      <th>1</th>\n",
       "      <th>2</th>\n",
       "    </tr>\n",
       "  </thead>\n",
       "  <tbody>\n",
       "    <tr>\n",
       "      <th>0</th>\n",
       "      <td>T1046</td>\n",
       "      <td>Network Service \\nScanning</td>\n",
       "      <td>[](/content/images/2016/11/03-bot-current-grow...</td>\n",
       "    </tr>\n",
       "    <tr>\n",
       "      <th>1</th>\n",
       "      <td>T1043</td>\n",
       "      <td>Commonly Used Port</td>\n",
       "      <td>[](/content/images/2016/11/03-bot-current-grow...</td>\n",
       "    </tr>\n",
       "    <tr>\n",
       "      <th>2</th>\n",
       "      <td>T1048</td>\n",
       "      <td>Exfiltration Over \\nAlternative Protocol</td>\n",
       "      <td>The total number of bots on current port 7547 ...</td>\n",
       "    </tr>\n",
       "  </tbody>\n",
       "</table>\n",
       "</div>"
      ],
      "text/plain": [
       "       0                                         1  \\\n",
       "0  T1046                Network Service \\nScanning   \n",
       "1  T1043                        Commonly Used Port   \n",
       "2  T1048  Exfiltration Over \\nAlternative Protocol   \n",
       "\n",
       "                                                   2  \n",
       "0  [](/content/images/2016/11/03-bot-current-grow...  \n",
       "1  [](/content/images/2016/11/03-bot-current-grow...  \n",
       "2  The total number of bots on current port 7547 ...  "
      ]
     },
     "execution_count": 27,
     "metadata": {},
     "output_type": "execute_result"
    }
   ],
   "source": [
    "tables[1].df"
   ]
  },
  {
   "cell_type": "code",
   "execution_count": 40,
   "metadata": {},
   "outputs": [
    {
     "data": {
      "text/plain": [
       "\"The total number of bots on current port 7547 has already \\nexceeded 30,000.  \\n  \\nBot growth rate on port 7547, per 10 minutes:  \\n  \\n  \\n  \\nThe figure shows that, bot's growth rate quickly reached a peak, \\nand smoothly\\nmaintained at a high level.  \\n  \\nOn the other hand, from the perspective of the backbone \\nnetwork, the scan on\\nport 7547 began to rise sharply in the evening of 2016-11-26.  \\n  \\n  \\n  \\nIn terms of the geographical distribution of the newly infected \\nbot, Brazil is\\nstill far ahead of the others, which is consistent with the \\ngeographical\\ndistribution of the existing mirai botnet.  \\n  \\n  \\n  \\nWe provide various statistics and data downloads of Mirai-\\ninfected devices at\\nhttp://data.netlab.360.com/mirai-scanner for researchers.  \\n  \\nFor those who have been using API to access our bot list, \\nplease re-download\\nthe data from 2016-11-26 and later to obtain updates for port \\n7547 and 5555\\ndata.  \\n  \\nThe New Variant Shares Some of the Infrastructure of the \\nExisting Mirai Botnet\""
      ]
     },
     "execution_count": 40,
     "metadata": {},
     "output_type": "execute_result"
    }
   ],
   "source": [
    "tables[1].df[2][2]"
   ]
  },
  {
   "cell_type": "code",
   "execution_count": 41,
   "metadata": {},
   "outputs": [
    {
     "data": {
      "text/plain": [
       "['The total number of bots on current port 7547 has already ',\n",
       " 'exceeded 30,000.  ',\n",
       " '  ',\n",
       " 'Bot growth rate on port 7547, per 10 minutes:  ',\n",
       " '  ',\n",
       " '  ',\n",
       " '  ',\n",
       " \"The figure shows that, bot's growth rate quickly reached a peak, \",\n",
       " 'and smoothly',\n",
       " 'maintained at a high level.  ',\n",
       " '  ',\n",
       " 'On the other hand, from the perspective of the backbone ',\n",
       " 'network, the scan on',\n",
       " 'port 7547 began to rise sharply in the evening of 2016-11-26.  ',\n",
       " '  ',\n",
       " '  ',\n",
       " '  ',\n",
       " 'In terms of the geographical distribution of the newly infected ',\n",
       " 'bot, Brazil is',\n",
       " 'still far ahead of the others, which is consistent with the ',\n",
       " 'geographical',\n",
       " 'distribution of the existing mirai botnet.  ',\n",
       " '  ',\n",
       " '  ',\n",
       " '  ',\n",
       " 'We provide various statistics and data downloads of Mirai-',\n",
       " 'infected devices at',\n",
       " 'http://data.netlab.360.com/mirai-scanner for researchers.  ',\n",
       " '  ',\n",
       " 'For those who have been using API to access our bot list, ',\n",
       " 'please re-download',\n",
       " 'the data from 2016-11-26 and later to obtain updates for port ',\n",
       " '7547 and 5555',\n",
       " 'data.  ',\n",
       " '  ',\n",
       " 'The New Variant Shares Some of the Infrastructure of the ',\n",
       " 'Existing Mirai Botnet']"
      ]
     },
     "execution_count": 41,
     "metadata": {},
     "output_type": "execute_result"
    }
   ],
   "source": [
    "tables[1].df[2][2].split('\\n')"
   ]
  },
  {
   "cell_type": "code",
   "execution_count": 42,
   "metadata": {},
   "outputs": [
    {
     "name": "stdout",
     "output_type": "stream",
     "text": [
      "The total number of bots on current port 7547 has already \n",
      "exceeded 30,000.  \n",
      "Bot growth rate on port 7547, per 10 minutes:  \n",
      "The figure shows that, bot's growth rate quickly reached a peak, \n",
      "and smoothly\n",
      "maintained at a high level.  \n",
      "On the other hand, from the perspective of the backbone \n",
      "network, the scan on\n",
      "port 7547 began to rise sharply in the evening of 2016-11-26.  \n",
      "In terms of the geographical distribution of the newly infected \n",
      "bot, Brazil is\n",
      "still far ahead of the others, which is consistent with the \n",
      "geographical\n",
      "distribution of the existing mirai botnet.  \n",
      "We provide various statistics and data downloads of Mirai-\n",
      "infected devices at\n",
      "http://data.netlab.360.com/mirai-scanner for researchers.  \n",
      "For those who have been using API to access our bot list, \n",
      "please re-download\n",
      "the data from 2016-11-26 and later to obtain updates for port \n",
      "7547 and 5555\n",
      "data.  \n",
      "The New Variant Shares Some of the Infrastructure of the \n",
      "Existing Mirai Botnet\n"
     ]
    }
   ],
   "source": [
    "# Clean chunk of text\n",
    "for s in tables[1].df[2][2].split('\\n'):\n",
    "    if s!= '  ':\n",
    "        print(s)"
   ]
  },
  {
   "cell_type": "code",
   "execution_count": 50,
   "metadata": {},
   "outputs": [
    {
     "data": {
      "text/html": [
       "<div>\n",
       "<style scoped>\n",
       "    .dataframe tbody tr th:only-of-type {\n",
       "        vertical-align: middle;\n",
       "    }\n",
       "\n",
       "    .dataframe tbody tr th {\n",
       "        vertical-align: top;\n",
       "    }\n",
       "\n",
       "    .dataframe thead th {\n",
       "        text-align: right;\n",
       "    }\n",
       "</style>\n",
       "<table border=\"1\" class=\"dataframe\">\n",
       "  <thead>\n",
       "    <tr style=\"text-align: right;\">\n",
       "      <th></th>\n",
       "      <th>0</th>\n",
       "      <th>1</th>\n",
       "      <th>2</th>\n",
       "    </tr>\n",
       "  </thead>\n",
       "  <tbody>\n",
       "    <tr>\n",
       "      <th>0</th>\n",
       "      <td>T1046</td>\n",
       "      <td>Network Service \\nScanning</td>\n",
       "      <td>[](/content/images/2016/11/03-bot-current-grow...</td>\n",
       "    </tr>\n",
       "    <tr>\n",
       "      <th>1</th>\n",
       "      <td>T1043</td>\n",
       "      <td>Commonly Used Port</td>\n",
       "      <td>[](/content/images/2016/11/03-bot-current-grow...</td>\n",
       "    </tr>\n",
       "    <tr>\n",
       "      <th>2</th>\n",
       "      <td>T1048</td>\n",
       "      <td>Exfiltration Over \\nAlternative Protocol</td>\n",
       "      <td>The total number of bots on current port 7547 ...</td>\n",
       "    </tr>\n",
       "  </tbody>\n",
       "</table>\n",
       "</div>"
      ],
      "text/plain": [
       "       0                                         1  \\\n",
       "0  T1046                Network Service \\nScanning   \n",
       "1  T1043                        Commonly Used Port   \n",
       "2  T1048  Exfiltration Over \\nAlternative Protocol   \n",
       "\n",
       "                                                   2  \n",
       "0  [](/content/images/2016/11/03-bot-current-grow...  \n",
       "1  [](/content/images/2016/11/03-bot-current-grow...  \n",
       "2  The total number of bots on current port 7547 ...  "
      ]
     },
     "execution_count": 50,
     "metadata": {},
     "output_type": "execute_result"
    }
   ],
   "source": [
    "tables[1].df"
   ]
  },
  {
   "cell_type": "code",
   "execution_count": 28,
   "metadata": {},
   "outputs": [
    {
     "data": {
      "text/html": [
       "<div>\n",
       "<style scoped>\n",
       "    .dataframe tbody tr th:only-of-type {\n",
       "        vertical-align: middle;\n",
       "    }\n",
       "\n",
       "    .dataframe tbody tr th {\n",
       "        vertical-align: top;\n",
       "    }\n",
       "\n",
       "    .dataframe thead th {\n",
       "        text-align: right;\n",
       "    }\n",
       "</style>\n",
       "<table border=\"1\" class=\"dataframe\">\n",
       "  <thead>\n",
       "    <tr style=\"text-align: right;\">\n",
       "      <th></th>\n",
       "      <th>0</th>\n",
       "      <th>1</th>\n",
       "      <th>2</th>\n",
       "    </tr>\n",
       "  </thead>\n",
       "  <tbody>\n",
       "    <tr>\n",
       "      <th>0</th>\n",
       "      <td></td>\n",
       "      <td></td>\n",
       "      <td>The new mirai has two C2s (securityupdates.us,...</td>\n",
       "    </tr>\n",
       "    <tr>\n",
       "      <th>1</th>\n",
       "      <td>T1065</td>\n",
       "      <td>Uncommonly Used \\nPort</td>\n",
       "      <td>The total number of bots on current port 7547 ...</td>\n",
       "    </tr>\n",
       "    <tr>\n",
       "      <th>2</th>\n",
       "      <td>T1046</td>\n",
       "      <td>Network Service \\nScanning</td>\n",
       "      <td>The total number of bots on current port 7547 ...</td>\n",
       "    </tr>\n",
       "  </tbody>\n",
       "</table>\n",
       "</div>"
      ],
      "text/plain": [
       "       0                           1  \\\n",
       "0                                      \n",
       "1  T1065      Uncommonly Used \\nPort   \n",
       "2  T1046  Network Service \\nScanning   \n",
       "\n",
       "                                                   2  \n",
       "0  The new mirai has two C2s (securityupdates.us,...  \n",
       "1  The total number of bots on current port 7547 ...  \n",
       "2  The total number of bots on current port 7547 ...  "
      ]
     },
     "execution_count": 28,
     "metadata": {},
     "output_type": "execute_result"
    }
   ],
   "source": [
    "tables[2].df"
   ]
  },
  {
   "cell_type": "code",
   "execution_count": 29,
   "metadata": {},
   "outputs": [
    {
     "data": {
      "text/html": [
       "<div>\n",
       "<style scoped>\n",
       "    .dataframe tbody tr th:only-of-type {\n",
       "        vertical-align: middle;\n",
       "    }\n",
       "\n",
       "    .dataframe tbody tr th {\n",
       "        vertical-align: top;\n",
       "    }\n",
       "\n",
       "    .dataframe thead th {\n",
       "        text-align: right;\n",
       "    }\n",
       "</style>\n",
       "<table border=\"1\" class=\"dataframe\">\n",
       "  <thead>\n",
       "    <tr style=\"text-align: right;\">\n",
       "      <th></th>\n",
       "      <th>0</th>\n",
       "      <th>1</th>\n",
       "      <th>2</th>\n",
       "    </tr>\n",
       "  </thead>\n",
       "  <tbody>\n",
       "    <tr>\n",
       "      <th>0</th>\n",
       "      <td></td>\n",
       "      <td></td>\n",
       "      <td>Bot growth rate on port 7547, per 10 minutes: ...</td>\n",
       "    </tr>\n",
       "    <tr>\n",
       "      <th>1</th>\n",
       "      <td>T1008</td>\n",
       "      <td>Fallback Channels</td>\n",
       "      <td>The total number of bots on current port 7547 ...</td>\n",
       "    </tr>\n",
       "  </tbody>\n",
       "</table>\n",
       "</div>"
      ],
      "text/plain": [
       "       0                  1                                                  2\n",
       "0                            Bot growth rate on port 7547, per 10 minutes: ...\n",
       "1  T1008  Fallback Channels  The total number of bots on current port 7547 ..."
      ]
     },
     "execution_count": 29,
     "metadata": {},
     "output_type": "execute_result"
    }
   ],
   "source": [
    "tables[3].df"
   ]
  },
  {
   "cell_type": "code",
   "execution_count": 30,
   "metadata": {},
   "outputs": [
    {
     "data": {
      "text/html": [
       "<div>\n",
       "<style scoped>\n",
       "    .dataframe tbody tr th:only-of-type {\n",
       "        vertical-align: middle;\n",
       "    }\n",
       "\n",
       "    .dataframe tbody tr th {\n",
       "        vertical-align: top;\n",
       "    }\n",
       "\n",
       "    .dataframe thead th {\n",
       "        text-align: right;\n",
       "    }\n",
       "</style>\n",
       "<table border=\"1\" class=\"dataframe\">\n",
       "  <thead>\n",
       "    <tr style=\"text-align: right;\">\n",
       "      <th></th>\n",
       "      <th>0</th>\n",
       "      <th>1</th>\n",
       "      <th>2</th>\n",
       "    </tr>\n",
       "  </thead>\n",
       "  <tbody>\n",
       "    <tr>\n",
       "      <th>0</th>\n",
       "      <td></td>\n",
       "      <td></td>\n",
       "      <td>On the other hand, from the perspective of the...</td>\n",
       "    </tr>\n",
       "    <tr>\n",
       "      <th>1</th>\n",
       "      <td>T1043</td>\n",
       "      <td>Commonly Used Port</td>\n",
       "      <td>The total number of bots on current port 7547 ...</td>\n",
       "    </tr>\n",
       "  </tbody>\n",
       "</table>\n",
       "</div>"
      ],
      "text/plain": [
       "       0                   1  \\\n",
       "0                              \n",
       "1  T1043  Commonly Used Port   \n",
       "\n",
       "                                                   2  \n",
       "0  On the other hand, from the perspective of the...  \n",
       "1  The total number of bots on current port 7547 ...  "
      ]
     },
     "execution_count": 30,
     "metadata": {},
     "output_type": "execute_result"
    }
   ],
   "source": [
    "tables[4].df"
   ]
  },
  {
   "cell_type": "code",
   "execution_count": 31,
   "metadata": {},
   "outputs": [
    {
     "data": {
      "text/html": [
       "<div>\n",
       "<style scoped>\n",
       "    .dataframe tbody tr th:only-of-type {\n",
       "        vertical-align: middle;\n",
       "    }\n",
       "\n",
       "    .dataframe tbody tr th {\n",
       "        vertical-align: top;\n",
       "    }\n",
       "\n",
       "    .dataframe thead th {\n",
       "        text-align: right;\n",
       "    }\n",
       "</style>\n",
       "<table border=\"1\" class=\"dataframe\">\n",
       "  <thead>\n",
       "    <tr style=\"text-align: right;\">\n",
       "      <th></th>\n",
       "      <th>0</th>\n",
       "      <th>1</th>\n",
       "      <th>2</th>\n",
       "    </tr>\n",
       "  </thead>\n",
       "  <tbody>\n",
       "    <tr>\n",
       "      <th>0</th>\n",
       "      <td></td>\n",
       "      <td></td>\n",
       "      <td>geographical\\ndistribution of the existing mir...</td>\n",
       "    </tr>\n",
       "    <tr>\n",
       "      <th>1</th>\n",
       "      <td>T1008</td>\n",
       "      <td>Fallback Channels</td>\n",
       "      <td>[](/content/images/2016/11/07-two-c2-server-an...</td>\n",
       "    </tr>\n",
       "    <tr>\n",
       "      <th>2</th>\n",
       "      <td>T1065</td>\n",
       "      <td>Uncommonly Used \\nPort</td>\n",
       "      <td>[](/content/images/2016/11/07-two-c2-server-an...</td>\n",
       "    </tr>\n",
       "  </tbody>\n",
       "</table>\n",
       "</div>"
      ],
      "text/plain": [
       "       0                       1  \\\n",
       "0                                  \n",
       "1  T1008       Fallback Channels   \n",
       "2  T1065  Uncommonly Used \\nPort   \n",
       "\n",
       "                                                   2  \n",
       "0  geographical\\ndistribution of the existing mir...  \n",
       "1  [](/content/images/2016/11/07-two-c2-server-an...  \n",
       "2  [](/content/images/2016/11/07-two-c2-server-an...  "
      ]
     },
     "execution_count": 31,
     "metadata": {},
     "output_type": "execute_result"
    }
   ],
   "source": [
    "tables[5].df"
   ]
  },
  {
   "cell_type": "code",
   "execution_count": 32,
   "metadata": {},
   "outputs": [
    {
     "data": {
      "text/html": [
       "<div>\n",
       "<style scoped>\n",
       "    .dataframe tbody tr th:only-of-type {\n",
       "        vertical-align: middle;\n",
       "    }\n",
       "\n",
       "    .dataframe tbody tr th {\n",
       "        vertical-align: top;\n",
       "    }\n",
       "\n",
       "    .dataframe thead th {\n",
       "        text-align: right;\n",
       "    }\n",
       "</style>\n",
       "<table border=\"1\" class=\"dataframe\">\n",
       "  <thead>\n",
       "    <tr style=\"text-align: right;\">\n",
       "      <th></th>\n",
       "      <th>0</th>\n",
       "      <th>1</th>\n",
       "      <th>2</th>\n",
       "    </tr>\n",
       "  </thead>\n",
       "  <tbody>\n",
       "    <tr>\n",
       "      <th>0</th>\n",
       "      <td></td>\n",
       "      <td></td>\n",
       "      <td>The following diagram shows the overlap of all...</td>\n",
       "    </tr>\n",
       "    <tr>\n",
       "      <th>1</th>\n",
       "      <td>T1046</td>\n",
       "      <td>Network Service \\nScanning</td>\n",
       "      <td>[](/content/images/2016/11/07-two-c2-server-an...</td>\n",
       "    </tr>\n",
       "    <tr>\n",
       "      <th>2</th>\n",
       "      <td>T1008</td>\n",
       "      <td>Fallback Channels</td>\n",
       "      <td>[](/content/images/2016/11/07-two-c2-server-an...</td>\n",
       "    </tr>\n",
       "    <tr>\n",
       "      <th>3</th>\n",
       "      <td>T1043</td>\n",
       "      <td>Commonly Used Port</td>\n",
       "      <td>[](/content/images/2016/11/07-two-c2-server-an...</td>\n",
       "    </tr>\n",
       "  </tbody>\n",
       "</table>\n",
       "</div>"
      ],
      "text/plain": [
       "       0                           1  \\\n",
       "0                                      \n",
       "1  T1046  Network Service \\nScanning   \n",
       "2  T1008           Fallback Channels   \n",
       "3  T1043          Commonly Used Port   \n",
       "\n",
       "                                                   2  \n",
       "0  The following diagram shows the overlap of all...  \n",
       "1  [](/content/images/2016/11/07-two-c2-server-an...  \n",
       "2  [](/content/images/2016/11/07-two-c2-server-an...  \n",
       "3  [](/content/images/2016/11/07-two-c2-server-an...  "
      ]
     },
     "execution_count": 32,
     "metadata": {},
     "output_type": "execute_result"
    }
   ],
   "source": [
    "tables[6].df"
   ]
  },
  {
   "cell_type": "code",
   "execution_count": 34,
   "metadata": {},
   "outputs": [
    {
     "data": {
      "text/html": [
       "<div>\n",
       "<style scoped>\n",
       "    .dataframe tbody tr th:only-of-type {\n",
       "        vertical-align: middle;\n",
       "    }\n",
       "\n",
       "    .dataframe tbody tr th {\n",
       "        vertical-align: top;\n",
       "    }\n",
       "\n",
       "    .dataframe thead th {\n",
       "        text-align: right;\n",
       "    }\n",
       "</style>\n",
       "<table border=\"1\" class=\"dataframe\">\n",
       "  <thead>\n",
       "    <tr style=\"text-align: right;\">\n",
       "      <th></th>\n",
       "      <th>0</th>\n",
       "      <th>1</th>\n",
       "      <th>2</th>\n",
       "    </tr>\n",
       "  </thead>\n",
       "  <tbody>\n",
       "    <tr>\n",
       "      <th>0</th>\n",
       "      <td></td>\n",
       "      <td></td>\n",
       "      <td>mirai operator are very likely the same group ...</td>\n",
       "    </tr>\n",
       "    <tr>\n",
       "      <th>1</th>\n",
       "      <td>T1065</td>\n",
       "      <td>Uncommonly Used \\nPort</td>\n",
       "      <td>Among them, 79% only scan port 23 and 6.4% onl...</td>\n",
       "    </tr>\n",
       "    <tr>\n",
       "      <th>2</th>\n",
       "      <td>T1046</td>\n",
       "      <td>Network Service \\nScanning</td>\n",
       "      <td>Among them, 79% only scan port 23 and 6.4% onl...</td>\n",
       "    </tr>\n",
       "    <tr>\n",
       "      <th>3</th>\n",
       "      <td>T1043</td>\n",
       "      <td>Commonly Used Port</td>\n",
       "      <td>Among them, 79% only scan port 23 and 6.4% onl...</td>\n",
       "    </tr>\n",
       "    <tr>\n",
       "      <th>4</th>\n",
       "      <td>T1046</td>\n",
       "      <td>Network Service \\nScanning</td>\n",
       "      <td>About 3.1% of the Mirai bots only scan port 7547.</td>\n",
       "    </tr>\n",
       "    <tr>\n",
       "      <th>5</th>\n",
       "      <td>T1046</td>\n",
       "      <td>Network Service \\nScanning</td>\n",
       "      <td>No more than 0.1% of the bots show other cross...</td>\n",
       "    </tr>\n",
       "  </tbody>\n",
       "</table>\n",
       "</div>"
      ],
      "text/plain": [
       "       0                           1  \\\n",
       "0                                      \n",
       "1  T1065      Uncommonly Used \\nPort   \n",
       "2  T1046  Network Service \\nScanning   \n",
       "3  T1043          Commonly Used Port   \n",
       "4  T1046  Network Service \\nScanning   \n",
       "5  T1046  Network Service \\nScanning   \n",
       "\n",
       "                                                   2  \n",
       "0  mirai operator are very likely the same group ...  \n",
       "1  Among them, 79% only scan port 23 and 6.4% onl...  \n",
       "2  Among them, 79% only scan port 23 and 6.4% onl...  \n",
       "3  Among them, 79% only scan port 23 and 6.4% onl...  \n",
       "4  About 3.1% of the Mirai bots only scan port 7547.  \n",
       "5  No more than 0.1% of the bots show other cross...  "
      ]
     },
     "execution_count": 34,
     "metadata": {},
     "output_type": "execute_result"
    }
   ],
   "source": [
    "tables[7].df"
   ]
  },
  {
   "cell_type": "code",
   "execution_count": 23,
   "metadata": {
    "scrolled": true
   },
   "outputs": [
    {
     "name": "stdout",
     "output_type": "stream",
     "text": [
      "       0                           1  \\\n",
      "0     ID                        Name   \n",
      "1  T1046  Network Service \\nScanning   \n",
      "2  T1065      Uncommonly Used \\nPort   \n",
      "3  T1043          Commonly Used Port   \n",
      "4  T1065      Uncommonly Used \\nPort   \n",
      "\n",
      "                                                   2  \n",
      "0                                Identified Sentence  \n",
      "1  Much of the new mirai variant that scans port ...  \n",
      "2  The following table lists first seen time of “...  \n",
      "3  The following table lists first seen time of “...  \n",
      "4  [](/content/images/2016/11/03-bot-current-grow...  \n",
      "       0                                         1  \\\n",
      "0  T1046                Network Service \\nScanning   \n",
      "1  T1043                        Commonly Used Port   \n",
      "2  T1048  Exfiltration Over \\nAlternative Protocol   \n",
      "\n",
      "                                                   2  \n",
      "0  [](/content/images/2016/11/03-bot-current-grow...  \n",
      "1  [](/content/images/2016/11/03-bot-current-grow...  \n",
      "2  The total number of bots on current port 7547 ...  \n",
      "       0                           1  \\\n",
      "0                                      \n",
      "1  T1065      Uncommonly Used \\nPort   \n",
      "2  T1046  Network Service \\nScanning   \n",
      "\n",
      "                                                   2  \n",
      "0  The new mirai has two C2s (securityupdates.us,...  \n",
      "1  The total number of bots on current port 7547 ...  \n",
      "2  The total number of bots on current port 7547 ...  \n",
      "       0                  1                                                  2\n",
      "0                            Bot growth rate on port 7547, per 10 minutes: ...\n",
      "1  T1008  Fallback Channels  The total number of bots on current port 7547 ...\n",
      "       0                   1  \\\n",
      "0                              \n",
      "1  T1043  Commonly Used Port   \n",
      "\n",
      "                                                   2  \n",
      "0  On the other hand, from the perspective of the...  \n",
      "1  The total number of bots on current port 7547 ...  \n",
      "       0                       1  \\\n",
      "0                                  \n",
      "1  T1008       Fallback Channels   \n",
      "2  T1065  Uncommonly Used \\nPort   \n",
      "\n",
      "                                                   2  \n",
      "0  geographical\\ndistribution of the existing mir...  \n",
      "1  [](/content/images/2016/11/07-two-c2-server-an...  \n",
      "2  [](/content/images/2016/11/07-two-c2-server-an...  \n",
      "       0                           1  \\\n",
      "0                                      \n",
      "1  T1046  Network Service \\nScanning   \n",
      "2  T1008           Fallback Channels   \n",
      "3  T1043          Commonly Used Port   \n",
      "\n",
      "                                                   2  \n",
      "0  The following diagram shows the overlap of all...  \n",
      "1  [](/content/images/2016/11/07-two-c2-server-an...  \n",
      "2  [](/content/images/2016/11/07-two-c2-server-an...  \n",
      "3  [](/content/images/2016/11/07-two-c2-server-an...  \n",
      "       0                           1  \\\n",
      "0                                      \n",
      "1  T1065      Uncommonly Used \\nPort   \n",
      "2  T1046  Network Service \\nScanning   \n",
      "3  T1043          Commonly Used Port   \n",
      "4  T1046  Network Service \\nScanning   \n",
      "5  T1046  Network Service \\nScanning   \n",
      "\n",
      "                                                   2  \n",
      "0  mirai operator are very likely the same group ...  \n",
      "1  Among them, 79% only scan port 23 and 6.4% onl...  \n",
      "2  Among them, 79% only scan port 23 and 6.4% onl...  \n",
      "3  Among them, 79% only scan port 23 and 6.4% onl...  \n",
      "4  About 3.1% of the Mirai bots only scan port 7547.  \n",
      "5  No more than 0.1% of the bots show other cross...  \n"
     ]
    }
   ],
   "source": [
    "for t in tables:\n",
    "    print(t.df)"
   ]
  },
  {
   "cell_type": "markdown",
   "metadata": {},
   "source": [
    "### Set to stream mode instead of lattice"
   ]
  },
  {
   "cell_type": "code",
   "execution_count": 43,
   "metadata": {},
   "outputs": [
    {
     "name": "stderr",
     "output_type": "stream",
     "text": [
      "UserWarning: No tables found in table area 1 [stream.py:361]\n"
     ]
    },
    {
     "data": {
      "text/plain": [
       "<TableList n=11>"
      ]
     },
     "execution_count": 43,
     "metadata": {},
     "output_type": "execute_result"
    }
   ],
   "source": [
    "import camelot\n",
    "tabs = camelot.read_pdf('Mirai1.pdf', pages='all', flavor='stream', multiple_tables=False)\n",
    "tabs"
   ]
  },
  {
   "cell_type": "code",
   "execution_count": 45,
   "metadata": {},
   "outputs": [
    {
     "name": "stdout",
     "output_type": "stream",
     "text": [
      "                                                    0\n",
      "0   Much of the new mirai variant that scans port ...\n",
      "1                                            sources.\n",
      "2   In this blog, we will not repeat such known fa...\n",
      "3   list a few observations that we have seen so far.\n",
      "4           Mirai First Hit and Capability Assessment\n",
      "5   All the mirai samples so far inherit a coding ...\n",
      "6   between a true mirai scanner and a regular sca...\n",
      "7   The following table lists first seen time of “...\n",
      "8                              that hit our honeypot.\n",
      "9   You can see the variant on port 7547 first sho...\n",
      "10  and first observed for the variant on port 555...\n",
      "11                   2016-11-27 17:04:02(all GMT +8).\n",
      "                                                   0\n",
      "0  We provide various statistics and data downloa...\n",
      "1  http://data.netlab.360.com/mirai-scanner for r...\n",
      "2  For those who have been using API to access ou...\n",
      "3  the data from 2016-11-26 and later to obtain u...\n",
      "4                                              data.\n",
      "5  The New Variant Shares Some of the Infrastruct...\n",
      "6  The new mirai has two C2s (securityupdates.us,...\n",
      "7  servers (rep.securityupdates.us, ntp.timeserve...\n",
      "                                                   0\n",
      "0             four-ports, which is still quite rare.\n",
      "1                          Infected Device Breakdown\n",
      "2  All together we have logged 46,653 IPs that we...\n",
      "3  variants, and we tried to ID these known infec...\n",
      "4  that emulate tr064|tr069 protocol so we would ...\n",
      "5                                              info.\n",
      "6  The following is a breakdown of the infected d...\n",
      "7                                       response us.\n",
      "8  (The majority of the sources might have that p...\n",
      "9  reboot, or IP changing, or various network iss...\n",
      "                                                    0                1  \\\n",
      "0   (The majority of the sources might have that p...                    \n",
      "1   reboot, or IP changing, or various network iss...                    \n",
      "2                                                  ID             Name   \n",
      "3                                               T1046  Network Service   \n",
      "4                                                             Scanning   \n",
      "5                                                                        \n",
      "6                                               T1065  Uncommonly Used   \n",
      "7                                                                 Port   \n",
      "8                                                                        \n",
      "9                                                                        \n",
      "10                                                                       \n",
      "11                                                                       \n",
      "12                                                                       \n",
      "13                                                                       \n",
      "\n",
      "                                                    2  \n",
      "0                                                      \n",
      "1                                                      \n",
      "2                                 Identified Sentence  \n",
      "3   Much of the new mirai variant that scans port ...  \n",
      "4                                  covered by various  \n",
      "5                                            sources.  \n",
      "6   The following table lists first seen time of “...  \n",
      "7                                          “new” ones  \n",
      "8                              that hit our honeypot.  \n",
      "9   You can see the variant on port 7547 first sho...  \n",
      "10                               2016-11-26 21:27:23,  \n",
      "11  and first observed for the variant on port 555...  \n",
      "12                                           after on  \n",
      "13                   2016-11-27 17:04:02(all GMT +8).  \n",
      "        0                     1  \\\n",
      "0   T1046       Network Service   \n",
      "1                      Scanning   \n",
      "2                                 \n",
      "3                                 \n",
      "4                                 \n",
      "5   T1043    Commonly Used Port   \n",
      "6                                 \n",
      "7                                 \n",
      "8                                 \n",
      "9                                 \n",
      "10  T1048     Exfiltration Over   \n",
      "11         Alternative Protocol   \n",
      "12                                \n",
      "\n",
      "                                                    2  \n",
      "0   [](/content/images/2016/11/03-bot-current-grow...  \n",
      "1                                           port.jpg)  \n",
      "2   Currently, the growth rate of the bot on port ...  \n",
      "3                                 exceeded the number  \n",
      "4                            of bots on port 23/2323.  \n",
      "5   [](/content/images/2016/11/03-bot-current-grow...  \n",
      "6                                           port.jpg)  \n",
      "7   Currently, the growth rate of the bot on port ...  \n",
      "8                                 exceeded the number  \n",
      "9                            of bots on port 23/2323.  \n",
      "10  The total number of bots on current port 7547 ...  \n",
      "11                                   exceeded 30,000.  \n",
      "12      Bot growth rate on port 7547, per 10 minutes:  \n",
      "        0                1                                                  2\n",
      "0                              The new mirai has two C2s (securityupdates.us,\n",
      "1                                             timeserver.host) and two report\n",
      "2                           servers (rep.securityupdates.us, ntp.timeserve...\n",
      "3                                                                           !\n",
      "4   T1065  Uncommonly Used  The total number of bots on current port 7547 ...\n",
      "5                     Port                                   exceeded 30,000.\n",
      "6                               Bot growth rate on port 7547, per 10 minutes:\n",
      "7                           The figure shows that, bot's growth rate quick...\n",
      "8                                                                and smoothly\n",
      "9                                                 maintained at a high level.\n",
      "10                          On the other hand, from the perspective of the...\n",
      "11                                                       network, the scan on\n",
      "12                          port 7547 began to rise sharply in the evening...\n",
      "13                          In terms of the geographical distribution of t...\n",
      "14                                                             bot, Brazil is\n",
      "15                          still far ahead of the others, which is consis...\n",
      "16                                                               geographical\n",
      "17                                 distribution of the existing mirai botnet.\n",
      "18                          We provide various statistics and data downloa...\n",
      "19                                                        infected devices at\n",
      "20                          http://data.netlab.360.com/mirai-scanner for r...\n",
      "21                          For those who have been using API to access ou...\n",
      "22                                                         please re-download\n",
      "23                          the data from 2016-11-26 and later to obtain u...\n",
      "24                                                              7547 and 5555\n",
      "25                                                                      data.\n",
      "26                          The New Variant Shares Some of the Infrastruct...\n",
      "27                                                      Existing Mirai Botnet\n",
      "28                             The new mirai has two C2s (securityupdates.us,\n",
      "29                                            timeserver.host) and two report\n",
      "30                          servers (rep.securityupdates.us, ntp.timeserve...\n",
      "31                                                                          !\n",
      "32  T1046  Network Service  The total number of bots on current port 7547 ...\n",
      "33                Scanning                                   exceeded 30,000.\n",
      "        0                  1  \\\n",
      "0                              \n",
      "1                              \n",
      "2                              \n",
      "3                              \n",
      "4                              \n",
      "5                              \n",
      "6                              \n",
      "7                              \n",
      "8                              \n",
      "9                              \n",
      "10                             \n",
      "11                             \n",
      "12                             \n",
      "13                             \n",
      "14                             \n",
      "15                             \n",
      "16                             \n",
      "17                             \n",
      "18                             \n",
      "19                             \n",
      "20                             \n",
      "21                             \n",
      "22                             \n",
      "23                             \n",
      "24                             \n",
      "25                             \n",
      "26  T1008  Fallback Channels   \n",
      "27                             \n",
      "28                             \n",
      "29                             \n",
      "30                             \n",
      "31                             \n",
      "\n",
      "                                                    2  \n",
      "0       Bot growth rate on port 7547, per 10 minutes:  \n",
      "1   The figure shows that, bot's growth rate quick...  \n",
      "2                                        and smoothly  \n",
      "3                         maintained at a high level.  \n",
      "4   On the other hand, from the perspective of the...  \n",
      "5                                network, the scan on  \n",
      "6   port 7547 began to rise sharply in the evening...  \n",
      "7   In terms of the geographical distribution of t...  \n",
      "8                                      bot, Brazil is  \n",
      "9   still far ahead of the others, which is consis...  \n",
      "10                                       geographical  \n",
      "11         distribution of the existing mirai botnet.  \n",
      "12  We provide various statistics and data downloa...  \n",
      "13                                infected devices at  \n",
      "14  http://data.netlab.360.com/mirai-scanner for r...  \n",
      "15  For those who have been using API to access ou...  \n",
      "16                                 please re-download  \n",
      "17  the data from 2016-11-26 and later to obtain u...  \n",
      "18                                      7547 and 5555  \n",
      "19                                              data.  \n",
      "20  The New Variant Shares Some of the Infrastruct...  \n",
      "21                              Existing Mirai Botnet  \n",
      "22     The new mirai has two C2s (securityupdates.us,  \n",
      "23                    timeserver.host) and two report  \n",
      "24  servers (rep.securityupdates.us, ntp.timeserve...  \n",
      "25                                                  !  \n",
      "26  The total number of bots on current port 7547 ...  \n",
      "27                                   exceeded 30,000.  \n",
      "28      Bot growth rate on port 7547, per 10 minutes:  \n",
      "29  The figure shows that, bot's growth rate quick...  \n",
      "30                                       and smoothly  \n",
      "31                        maintained at a high level.  \n",
      "        0                   1  \\\n",
      "0                               \n",
      "1                               \n",
      "2                               \n",
      "3                               \n",
      "4                               \n",
      "5                               \n",
      "6                               \n",
      "7                               \n",
      "8                               \n",
      "9                               \n",
      "10                              \n",
      "11                              \n",
      "12                              \n",
      "13                              \n",
      "14                              \n",
      "15                              \n",
      "16                              \n",
      "17                              \n",
      "18                              \n",
      "19                              \n",
      "20                              \n",
      "21                              \n",
      "22  T1043  Commonly Used Port   \n",
      "23                              \n",
      "24                              \n",
      "25                              \n",
      "26                              \n",
      "27                              \n",
      "28                              \n",
      "29                              \n",
      "30                              \n",
      "31                              \n",
      "32                              \n",
      "33                              \n",
      "\n",
      "                                                    2  \n",
      "0   On the other hand, from the perspective of the...  \n",
      "1                                network, the scan on  \n",
      "2   port 7547 began to rise sharply in the evening...  \n",
      "3   In terms of the geographical distribution of t...  \n",
      "4                                      bot, Brazil is  \n",
      "5   still far ahead of the others, which is consis...  \n",
      "6                                        geographical  \n",
      "7          distribution of the existing mirai botnet.  \n",
      "8   We provide various statistics and data downloa...  \n",
      "9                                 infected devices at  \n",
      "10  http://data.netlab.360.com/mirai-scanner for r...  \n",
      "11  For those who have been using API to access ou...  \n",
      "12                                 please re-download  \n",
      "13  the data from 2016-11-26 and later to obtain u...  \n",
      "14                                      7547 and 5555  \n",
      "15                                              data.  \n",
      "16  The New Variant Shares Some of the Infrastruct...  \n",
      "17                              Existing Mirai Botnet  \n",
      "18     The new mirai has two C2s (securityupdates.us,  \n",
      "19                    timeserver.host) and two report  \n",
      "20  servers (rep.securityupdates.us, ntp.timeserve...  \n",
      "21                                                  !  \n",
      "22  The total number of bots on current port 7547 ...  \n",
      "23                                   exceeded 30,000.  \n",
      "24      Bot growth rate on port 7547, per 10 minutes:  \n",
      "25  The figure shows that, bot's growth rate quick...  \n",
      "26                                       and smoothly  \n",
      "27                        maintained at a high level.  \n",
      "28  On the other hand, from the perspective of the...  \n",
      "29                               network, the scan on  \n",
      "30  port 7547 began to rise sharply in the evening...  \n",
      "31  In terms of the geographical distribution of t...  \n",
      "32                                     bot, Brazil is  \n",
      "33  still far ahead of the others, which is consis...  \n",
      "        0                  1  \\\n",
      "0                              \n",
      "1                              \n",
      "2                              \n",
      "3                              \n",
      "4                              \n",
      "5                              \n",
      "6                              \n",
      "7                              \n",
      "8                              \n",
      "9                              \n",
      "10                             \n",
      "11                             \n",
      "12                             \n",
      "13                             \n",
      "14                             \n",
      "15                             \n",
      "16  T1008  Fallback Channels   \n",
      "17                             \n",
      "18                             \n",
      "19                             \n",
      "20                             \n",
      "21                             \n",
      "22                             \n",
      "23                             \n",
      "24                             \n",
      "25                             \n",
      "26                             \n",
      "27                             \n",
      "28                             \n",
      "29  T1065    Uncommonly Used   \n",
      "30                      Port   \n",
      "31                             \n",
      "32                             \n",
      "33                             \n",
      "34                             \n",
      "35                             \n",
      "\n",
      "                                                    2  \n",
      "0                                        geographical  \n",
      "1          distribution of the existing mirai botnet.  \n",
      "2   We provide various statistics and data downloa...  \n",
      "3                                 infected devices at  \n",
      "4   http://data.netlab.360.com/mirai-scanner for r...  \n",
      "5   For those who have been using API to access ou...  \n",
      "6                                  please re-download  \n",
      "7   the data from 2016-11-26 and later to obtain u...  \n",
      "8                                       7547 and 5555  \n",
      "9                                               data.  \n",
      "10  The New Variant Shares Some of the Infrastruct...  \n",
      "11                              Existing Mirai Botnet  \n",
      "12     The new mirai has two C2s (securityupdates.us,  \n",
      "13                    timeserver.host) and two report  \n",
      "14  servers (rep.securityupdates.us, ntp.timeserve...  \n",
      "15                                                  !  \n",
      "16  [](/content/images/2016/11/07-two-c2-server-an...  \n",
      "17                                     server-in-one-  \n",
      "18          marai-sample---the-port-7547-varaint.jpg)  \n",
      "19  It is noteworthy the exact combination, both C...  \n",
      "20                                        servers had  \n",
      "21  previously been embedded in the “old” mirai sa...  \n",
      "22                                 saw a while ago on  \n",
      "23                                        2016-11-09.  \n",
      "24        Detail of the sample of 2016-11-09 variant:  \n",
      "25                               CRC32: 2BD6603A MD5:  \n",
      "26            EF713BDD7B06097447A25F4B35C738F6 SHA-1:  \n",
      "27           44D9C6A682E48DFA86BACDBD68F11A1F3CB78D07  \n",
      "28                                                  !  \n",
      "29  [](/content/images/2016/11/07-two-c2-server-an...  \n",
      "30                                     server-in-one-  \n",
      "31                                  marai-sample.jpg)  \n",
      "32                                        Bot Overlap  \n",
      "33  In other words, the operator of new variant on...  \n",
      "34                                       the previous  \n",
      "35  mirai operator are very likely the same group ...  \n",
      "        0                   1  \\\n",
      "0                               \n",
      "1                               \n",
      "2                               \n",
      "3                               \n",
      "4                               \n",
      "5   T1046     Network Service   \n",
      "6                    Scanning   \n",
      "7                               \n",
      "8                               \n",
      "9                               \n",
      "10                              \n",
      "11                              \n",
      "12                              \n",
      "13                              \n",
      "14                              \n",
      "15                              \n",
      "16                              \n",
      "17  T1008   Fallback Channels   \n",
      "18                              \n",
      "19                              \n",
      "20                              \n",
      "21                              \n",
      "22                              \n",
      "23                              \n",
      "24                              \n",
      "25                              \n",
      "26                              \n",
      "27                              \n",
      "28                              \n",
      "29  T1043  Commonly Used Port   \n",
      "30                              \n",
      "31                              \n",
      "32                              \n",
      "33                              \n",
      "34                              \n",
      "\n",
      "                                                    2  \n",
      "0   The following diagram shows the overlap of all...  \n",
      "1                                     captured in our  \n",
      "2   honeypot that have scanned port 23/2323/5555/7...  \n",
      "3                                    We can see that:  \n",
      "4   96.4% of the Mirai Bots scan port 23 or port 2...  \n",
      "5   [](/content/images/2016/11/07-two-c2-server-an...  \n",
      "6                                      server-in-one-  \n",
      "7                                   marai-sample.jpg)  \n",
      "8                                         Bot Overlap  \n",
      "9   In other words, the operator of new variant on...  \n",
      "10                                       the previous  \n",
      "11  mirai operator are very likely the same group ...  \n",
      "12  The following diagram shows the overlap of all...  \n",
      "13                                    captured in our  \n",
      "14  honeypot that have scanned port 23/2323/5555/7...  \n",
      "15                                   We can see that:  \n",
      "16  96.4% of the Mirai Bots scan port 23 or port 2...  \n",
      "17  [](/content/images/2016/11/07-two-c2-server-an...  \n",
      "18                                     server-in-one-  \n",
      "19                                  marai-sample.jpg)  \n",
      "20                                        Bot Overlap  \n",
      "21  In other words, the operator of new variant on...  \n",
      "22                                       the previous  \n",
      "23  mirai operator are very likely the same group ...  \n",
      "24  The following diagram shows the overlap of all...  \n",
      "25                                    captured in our  \n",
      "26  honeypot that have scanned port 23/2323/5555/7...  \n",
      "27                                   We can see that:  \n",
      "28  96.4% of the Mirai Bots scan port 23 or port 2...  \n",
      "29  [](/content/images/2016/11/07-two-c2-server-an...  \n",
      "30                                     server-in-one-  \n",
      "31                                  marai-sample.jpg)  \n",
      "32                                        Bot Overlap  \n",
      "33  In other words, the operator of new variant on...  \n",
      "34                                       the previous  \n",
      "        0                   1  \\\n",
      "0                               \n",
      "1                               \n",
      "2                               \n",
      "3                               \n",
      "4                               \n",
      "5                               \n",
      "6   T1065     Uncommonly Used   \n",
      "7                        Port   \n",
      "8                               \n",
      "9   T1046     Network Service   \n",
      "10                   Scanning   \n",
      "11                              \n",
      "12  T1043  Commonly Used Port   \n",
      "13                              \n",
      "14                              \n",
      "15  T1046     Network Service   \n",
      "16                   Scanning   \n",
      "17  T1046     Network Service   \n",
      "18                   Scanning   \n",
      "19                              \n",
      "20                              \n",
      "21                              \n",
      "22                              \n",
      "23                              \n",
      "24                              \n",
      "25                              \n",
      "26                              \n",
      "27                              \n",
      "\n",
      "                                                    2  \n",
      "0   mirai operator are very likely the same group ...  \n",
      "1   The following diagram shows the overlap of all...  \n",
      "2                                     captured in our  \n",
      "3   honeypot that have scanned port 23/2323/5555/7...  \n",
      "4                                    We can see that:  \n",
      "5   96.4% of the Mirai Bots scan port 23 or port 2...  \n",
      "6   Among them, 79% only scan port 23 and 6.4% onl...  \n",
      "7                                  11% scan both port  \n",
      "8                                        23 and 2323.  \n",
      "9   Among them, 79% only scan port 23 and 6.4% onl...  \n",
      "10                                 11% scan both port  \n",
      "11                                       23 and 2323.  \n",
      "12  Among them, 79% only scan port 23 and 6.4% onl...  \n",
      "13                                 11% scan both port  \n",
      "14                                       23 and 2323.  \n",
      "15  About 3.1% of the Mirai bots only scan port 7547.  \n",
      "16                                                     \n",
      "17  No more than 0.1% of the bots show other cross...  \n",
      "18                                behaviors among the  \n",
      "19             four-ports, which is still quite rare.  \n",
      "20                          Infected Device Breakdown  \n",
      "21  All together we have logged 46,653 IPs that we...  \n",
      "22                                      this new 7547  \n",
      "23  variants, and we tried to ID these known infec...  \n",
      "24                                       out requests  \n",
      "25  that emulate tr064|tr069 protocol so we would ...  \n",
      "26                                    accurate device  \n",
      "27                                              info.  \n"
     ]
    }
   ],
   "source": [
    "for t in tabs:\n",
    "    print(t.df)"
   ]
  },
  {
   "cell_type": "markdown",
   "metadata": {},
   "source": [
    "### Copy text vertcally"
   ]
  },
  {
   "cell_type": "code",
   "execution_count": 46,
   "metadata": {},
   "outputs": [
    {
     "data": {
      "text/plain": [
       "<TableList n=8>"
      ]
     },
     "execution_count": 46,
     "metadata": {},
     "output_type": "execute_result"
    }
   ],
   "source": [
    "import camelot\n",
    "tables = camelot.read_pdf('Mirai1.pdf', pages='all', copy_text=['v'])\n",
    "tables"
   ]
  },
  {
   "cell_type": "code",
   "execution_count": 49,
   "metadata": {},
   "outputs": [
    {
     "data": {
      "text/html": [
       "<div>\n",
       "<style scoped>\n",
       "    .dataframe tbody tr th:only-of-type {\n",
       "        vertical-align: middle;\n",
       "    }\n",
       "\n",
       "    .dataframe tbody tr th {\n",
       "        vertical-align: top;\n",
       "    }\n",
       "\n",
       "    .dataframe thead th {\n",
       "        text-align: right;\n",
       "    }\n",
       "</style>\n",
       "<table border=\"1\" class=\"dataframe\">\n",
       "  <thead>\n",
       "    <tr style=\"text-align: right;\">\n",
       "      <th></th>\n",
       "      <th>0</th>\n",
       "      <th>1</th>\n",
       "      <th>2</th>\n",
       "    </tr>\n",
       "  </thead>\n",
       "  <tbody>\n",
       "    <tr>\n",
       "      <th>0</th>\n",
       "      <td></td>\n",
       "      <td></td>\n",
       "      <td>geographical\\ndistribution of the existing mir...</td>\n",
       "    </tr>\n",
       "    <tr>\n",
       "      <th>1</th>\n",
       "      <td>T1008</td>\n",
       "      <td>Fallback Channels</td>\n",
       "      <td>[](/content/images/2016/11/07-two-c2-server-an...</td>\n",
       "    </tr>\n",
       "    <tr>\n",
       "      <th>2</th>\n",
       "      <td>T1065</td>\n",
       "      <td>Uncommonly Used \\nPort</td>\n",
       "      <td>[](/content/images/2016/11/07-two-c2-server-an...</td>\n",
       "    </tr>\n",
       "  </tbody>\n",
       "</table>\n",
       "</div>"
      ],
      "text/plain": [
       "       0                       1  \\\n",
       "0                                  \n",
       "1  T1008       Fallback Channels   \n",
       "2  T1065  Uncommonly Used \\nPort   \n",
       "\n",
       "                                                   2  \n",
       "0  geographical\\ndistribution of the existing mir...  \n",
       "1  [](/content/images/2016/11/07-two-c2-server-an...  \n",
       "2  [](/content/images/2016/11/07-two-c2-server-an...  "
      ]
     },
     "execution_count": 49,
     "metadata": {},
     "output_type": "execute_result"
    }
   ],
   "source": [
    "tables[5].df"
   ]
  },
  {
   "cell_type": "code",
   "execution_count": 47,
   "metadata": {},
   "outputs": [
    {
     "name": "stdout",
     "output_type": "stream",
     "text": [
      "       0                           1  \\\n",
      "0     ID                        Name   \n",
      "1  T1046  Network Service \\nScanning   \n",
      "2  T1065      Uncommonly Used \\nPort   \n",
      "3  T1043          Commonly Used Port   \n",
      "4  T1065      Uncommonly Used \\nPort   \n",
      "\n",
      "                                                   2  \n",
      "0                                Identified Sentence  \n",
      "1  Much of the new mirai variant that scans port ...  \n",
      "2  The following table lists first seen time of “...  \n",
      "3  The following table lists first seen time of “...  \n",
      "4  [](/content/images/2016/11/03-bot-current-grow...  \n",
      "       0                                         1  \\\n",
      "0  T1046                Network Service \\nScanning   \n",
      "1  T1043                        Commonly Used Port   \n",
      "2  T1048  Exfiltration Over \\nAlternative Protocol   \n",
      "\n",
      "                                                   2  \n",
      "0  [](/content/images/2016/11/03-bot-current-grow...  \n",
      "1  [](/content/images/2016/11/03-bot-current-grow...  \n",
      "2  The total number of bots on current port 7547 ...  \n",
      "       0                           1  \\\n",
      "0                                      \n",
      "1  T1065      Uncommonly Used \\nPort   \n",
      "2  T1046  Network Service \\nScanning   \n",
      "\n",
      "                                                   2  \n",
      "0  The new mirai has two C2s (securityupdates.us,...  \n",
      "1  The total number of bots on current port 7547 ...  \n",
      "2  The total number of bots on current port 7547 ...  \n",
      "       0                  1                                                  2\n",
      "0                            Bot growth rate on port 7547, per 10 minutes: ...\n",
      "1  T1008  Fallback Channels  The total number of bots on current port 7547 ...\n",
      "       0                   1  \\\n",
      "0                              \n",
      "1  T1043  Commonly Used Port   \n",
      "\n",
      "                                                   2  \n",
      "0  On the other hand, from the perspective of the...  \n",
      "1  The total number of bots on current port 7547 ...  \n",
      "       0                       1  \\\n",
      "0                                  \n",
      "1  T1008       Fallback Channels   \n",
      "2  T1065  Uncommonly Used \\nPort   \n",
      "\n",
      "                                                   2  \n",
      "0  geographical\\ndistribution of the existing mir...  \n",
      "1  [](/content/images/2016/11/07-two-c2-server-an...  \n",
      "2  [](/content/images/2016/11/07-two-c2-server-an...  \n",
      "       0                           1  \\\n",
      "0                                      \n",
      "1  T1046  Network Service \\nScanning   \n",
      "2  T1008           Fallback Channels   \n",
      "3  T1043          Commonly Used Port   \n",
      "\n",
      "                                                   2  \n",
      "0  The following diagram shows the overlap of all...  \n",
      "1  [](/content/images/2016/11/07-two-c2-server-an...  \n",
      "2  [](/content/images/2016/11/07-two-c2-server-an...  \n",
      "3  [](/content/images/2016/11/07-two-c2-server-an...  \n",
      "       0                           1  \\\n",
      "0                                      \n",
      "1  T1065      Uncommonly Used \\nPort   \n",
      "2  T1046  Network Service \\nScanning   \n",
      "3  T1043          Commonly Used Port   \n",
      "4  T1046  Network Service \\nScanning   \n",
      "5  T1046  Network Service \\nScanning   \n",
      "\n",
      "                                                   2  \n",
      "0  mirai operator are very likely the same group ...  \n",
      "1  Among them, 79% only scan port 23 and 6.4% onl...  \n",
      "2  Among them, 79% only scan port 23 and 6.4% onl...  \n",
      "3  Among them, 79% only scan port 23 and 6.4% onl...  \n",
      "4  About 3.1% of the Mirai bots only scan port 7547.  \n",
      "5  No more than 0.1% of the bots show other cross...  \n"
     ]
    }
   ],
   "source": [
    "for t in tables:\n",
    "    print(t.df)"
   ]
  },
  {
   "cell_type": "markdown",
   "metadata": {},
   "source": [
    "### Sample Camelot"
   ]
  },
  {
   "cell_type": "code",
   "execution_count": 16,
   "metadata": {},
   "outputs": [
    {
     "data": {
      "text/plain": [
       "<TableList n=2>"
      ]
     },
     "execution_count": 16,
     "metadata": {},
     "output_type": "execute_result"
    }
   ],
   "source": [
    "import camelot\n",
    "tables = camelot.read_pdf('Emotet.pdf', pages='all', multiple_tables=False)    # lattice=True by default\n",
    "tables"
   ]
  },
  {
   "cell_type": "code",
   "execution_count": 17,
   "metadata": {},
   "outputs": [
    {
     "data": {
      "text/plain": [
       "<Table shape=(5, 3)>"
      ]
     },
     "execution_count": 17,
     "metadata": {},
     "output_type": "execute_result"
    }
   ],
   "source": [
    "tables[0]"
   ]
  },
  {
   "cell_type": "code",
   "execution_count": 18,
   "metadata": {},
   "outputs": [
    {
     "data": {
      "text/plain": [
       "<Table shape=(2, 3)>"
      ]
     },
     "execution_count": 18,
     "metadata": {},
     "output_type": "execute_result"
    }
   ],
   "source": [
    "tables[1]"
   ]
  },
  {
   "cell_type": "code",
   "execution_count": 19,
   "metadata": {},
   "outputs": [
    {
     "data": {
      "text/plain": [
       "{'accuracy': 97.25, 'whitespace': 0.0, 'order': 1, 'page': 5}"
      ]
     },
     "execution_count": 19,
     "metadata": {},
     "output_type": "execute_result"
    }
   ],
   "source": [
    "tables[0].parsing_report"
   ]
  },
  {
   "cell_type": "code",
   "execution_count": 20,
   "metadata": {},
   "outputs": [
    {
     "data": {
      "text/html": [
       "<div>\n",
       "<style scoped>\n",
       "    .dataframe tbody tr th:only-of-type {\n",
       "        vertical-align: middle;\n",
       "    }\n",
       "\n",
       "    .dataframe tbody tr th {\n",
       "        vertical-align: top;\n",
       "    }\n",
       "\n",
       "    .dataframe thead th {\n",
       "        text-align: right;\n",
       "    }\n",
       "</style>\n",
       "<table border=\"1\" class=\"dataframe\">\n",
       "  <thead>\n",
       "    <tr style=\"text-align: right;\">\n",
       "      <th></th>\n",
       "      <th>0</th>\n",
       "      <th>1</th>\n",
       "      <th>2</th>\n",
       "    </tr>\n",
       "  </thead>\n",
       "  <tbody>\n",
       "    <tr>\n",
       "      <th>0</th>\n",
       "      <td>ID</td>\n",
       "      <td>Name</td>\n",
       "      <td>Identified Sentence</td>\n",
       "    </tr>\n",
       "    <tr>\n",
       "      <th>1</th>\n",
       "      <td>T1063</td>\n",
       "      <td>Security Software \\nDiscovery</td>\n",
       "      <td>Later versions of the software saw the additio...</td>\n",
       "    </tr>\n",
       "    <tr>\n",
       "      <th>2</th>\n",
       "      <td>T1064</td>\n",
       "      <td>Scripting</td>\n",
       "      <td>The infection may arrive either via malicious ...</td>\n",
       "    </tr>\n",
       "    <tr>\n",
       "      <th>3</th>\n",
       "      <td>T1204</td>\n",
       "      <td>User Execution</td>\n",
       "      <td>The infection may arrive either via malicious ...</td>\n",
       "    </tr>\n",
       "    <tr>\n",
       "      <th>4</th>\n",
       "      <td>T1003</td>\n",
       "      <td>Credential Dumping</td>\n",
       "      <td>This allows the attackers to install updated v...</td>\n",
       "    </tr>\n",
       "  </tbody>\n",
       "</table>\n",
       "</div>"
      ],
      "text/plain": [
       "       0                              1  \\\n",
       "0     ID                           Name   \n",
       "1  T1063  Security Software \\nDiscovery   \n",
       "2  T1064                      Scripting   \n",
       "3  T1204                 User Execution   \n",
       "4  T1003             Credential Dumping   \n",
       "\n",
       "                                                   2  \n",
       "0                                Identified Sentence  \n",
       "1  Later versions of the software saw the additio...  \n",
       "2  The infection may arrive either via malicious ...  \n",
       "3  The infection may arrive either via malicious ...  \n",
       "4  This allows the attackers to install updated v...  "
      ]
     },
     "execution_count": 20,
     "metadata": {},
     "output_type": "execute_result"
    }
   ],
   "source": [
    "tables[0].df"
   ]
  },
  {
   "cell_type": "markdown",
   "metadata": {},
   "source": [
    "## PyPDF2"
   ]
  },
  {
   "cell_type": "code",
   "execution_count": 6,
   "metadata": {},
   "outputs": [
    {
     "name": "stdout",
     "output_type": "stream",
     "text": [
      "1.26.0\n",
      "\n",
      "\n",
      "\n",
      "\n",
      "\n",
      "\n",
      "\n",
      "\n",
      "\n",
      "\n",
      "\n",
      "\n",
      "\n",
      "\n",
      "\n",
      "\n",
      "\n",
      "\n",
      "\n",
      "\n",
      "\n",
      "\n",
      "\n",
      "\n",
      "\n",
      "\n",
      "\n",
      "\n",
      "\n",
      "\n",
      "\n",
      "\n",
      "\n",
      "\n",
      "\n",
      "\n",
      "\n",
      "\n",
      "\n",
      "\n",
      "\n",
      "\n",
      "\n",
      "\n",
      "\n",
      "\n",
      "\n",
      "\n",
      "\n",
      "\n",
      "\n",
      "\n",
      "\n",
      "\n",
      "\n",
      "\n",
      "\n",
      "\n",
      "\n",
      "\n",
      "\n",
      "\n",
      "\n",
      "\n",
      "\n",
      "\n",
      "\n",
      "\n",
      "\n",
      "\n",
      "\n",
      "\n",
      "\n",
      "\n",
      "\n",
      "\n",
      "\n",
      "\n",
      "\n",
      "\n",
      "\n",
      "\n",
      "\n",
      "\n",
      "\n",
      "\n",
      "\n",
      "\n",
      "\n",
      "\n",
      "\n",
      "\n",
      "\n",
      "\n",
      "\n",
      "\n",
      "\n",
      "\n",
      "\n",
      "\n",
      "\n",
      "\n",
      "\n",
      "\n",
      "\n",
      "\n",
      "\n",
      "\n",
      "\n",
      "\n",
      "\n",
      "\n",
      "\n",
      "\n",
      "\n",
      "\n",
      "\n",
      "\n",
      "\n",
      "\n",
      "\n",
      "\n",
      "\n",
      "\n",
      "\n",
      "\n",
      "\n",
      "\n",
      "\n",
      "\n",
      "\n",
      "\n",
      "\n",
      "\n",
      "\n",
      "\n",
      "\n",
      "\n",
      "\n",
      "\n",
      "\n",
      "\n",
      "\n",
      "\n",
      "\n",
      "\n",
      "\n",
      "\n",
      "\n",
      "\n",
      "\n",
      "\n",
      "\n",
      "\n",
      "\n",
      "\n",
      "\n",
      "\n",
      "\n",
      "\n",
      "\n",
      "\n",
      "\n",
      "\n",
      "\n",
      "\n",
      "\n",
      "\n",
      "\n",
      "\n",
      "\n",
      "\n",
      "\n",
      "\n",
      "\n",
      "\n",
      "\n",
      "\n",
      "\n",
      "\n",
      "\n",
      "\n",
      "\n",
      "\n",
      "\n",
      "\n",
      "\n",
      "\n",
      "\n",
      "\n",
      "\n",
      "\n",
      "\n",
      "\n",
      "\n",
      "\n",
      "\n",
      "\n",
      "\n",
      "\n",
      "\n",
      "\n",
      "\n",
      "\n",
      "\n",
      "\n",
      "\n",
      "\n",
      "\n",
      "\n",
      "\n",
      "\n",
      "\n",
      "\n",
      "\n",
      "\n",
      "\n",
      "\n",
      "\n",
      "\n",
      "\n",
      "\n",
      "\n"
     ]
    }
   ],
   "source": [
    "import PyPDF2 as p2\n",
    "print(p2.__version__)\n",
    "\n",
    "pdf_file = open('Mirai.pdf', 'rb')\n",
    "pdf_read = p2.PdfFileReader(pdf_file)\n",
    "\n",
    "x = pdf_read.getPage(2)\n",
    "print(x.extractText())"
   ]
  },
  {
   "cell_type": "code",
   "execution_count": null,
   "metadata": {},
   "outputs": [],
   "source": []
  }
 ],
 "metadata": {
  "kernelspec": {
   "display_name": "Python 3",
   "language": "python",
   "name": "python3"
  },
  "language_info": {
   "codemirror_mode": {
    "name": "ipython",
    "version": 3
   },
   "file_extension": ".py",
   "mimetype": "text/x-python",
   "name": "python",
   "nbconvert_exporter": "python",
   "pygments_lexer": "ipython3",
   "version": "3.6.9"
  }
 },
 "nbformat": 4,
 "nbformat_minor": 2
}
