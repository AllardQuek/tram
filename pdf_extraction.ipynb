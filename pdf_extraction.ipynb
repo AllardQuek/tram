{
 "cells": [
  {
   "cell_type": "markdown",
   "metadata": {},
   "source": [
    "## Tabula\n",
    "\n",
    "Installation\n",
    "https://pypi.org/project/tabula-py/\n",
    "\n",
    "pip install tabula-py\n",
    "\n",
    "tabula-py docs\n",
    "https://www.pydoc.io/pypi/tabula-py-0.9.0/autoapi/wrapper/index.html"
   ]
  },
  {
   "cell_type": "code",
   "execution_count": 36,
   "metadata": {},
   "outputs": [
    {
     "data": {
      "text/plain": [
       "[      ID                                    Name  \\\n",
       " 0  T1069            Permission Groups\\rDiscovery   \n",
       " 1  T1018                 Remote System Discovery   \n",
       " 2  T1068  Exploitation for Privilege\\rEscalation   \n",
       " \n",
       "                                  Identified Sentence  \n",
       " 0  This leads us to speculate that a new mirai va...  \n",
       " 1  This leads us to speculate that a new mirai va...  \n",
       " 2                                                NaN  ]"
      ]
     },
     "execution_count": 36,
     "metadata": {},
     "output_type": "execute_result"
    }
   ],
   "source": [
    "from tabula import read_pdf\n",
    "\n",
    "df = read_pdf(\"Mirai.pdf\", pages=3)\n",
    "df"
   ]
  },
  {
   "cell_type": "code",
   "execution_count": 37,
   "metadata": {},
   "outputs": [
    {
     "data": {
      "text/html": [
       "<div>\n",
       "<style scoped>\n",
       "    .dataframe tbody tr th:only-of-type {\n",
       "        vertical-align: middle;\n",
       "    }\n",
       "\n",
       "    .dataframe tbody tr th {\n",
       "        vertical-align: top;\n",
       "    }\n",
       "\n",
       "    .dataframe thead th {\n",
       "        text-align: right;\n",
       "    }\n",
       "</style>\n",
       "<table border=\"1\" class=\"dataframe\">\n",
       "  <thead>\n",
       "    <tr style=\"text-align: right;\">\n",
       "      <th></th>\n",
       "      <th>ID</th>\n",
       "      <th>Name</th>\n",
       "      <th>Identified Sentence</th>\n",
       "    </tr>\n",
       "  </thead>\n",
       "  <tbody>\n",
       "    <tr>\n",
       "      <th>0</th>\n",
       "      <td>T1069</td>\n",
       "      <td>Permission Groups\\rDiscovery</td>\n",
       "      <td>This leads us to speculate that a new mirai va...</td>\n",
       "    </tr>\n",
       "    <tr>\n",
       "      <th>1</th>\n",
       "      <td>T1018</td>\n",
       "      <td>Remote System Discovery</td>\n",
       "      <td>This leads us to speculate that a new mirai va...</td>\n",
       "    </tr>\n",
       "    <tr>\n",
       "      <th>2</th>\n",
       "      <td>T1068</td>\n",
       "      <td>Exploitation for Privilege\\rEscalation</td>\n",
       "      <td>NaN</td>\n",
       "    </tr>\n",
       "  </tbody>\n",
       "</table>\n",
       "</div>"
      ],
      "text/plain": [
       "      ID                                    Name  \\\n",
       "0  T1069            Permission Groups\\rDiscovery   \n",
       "1  T1018                 Remote System Discovery   \n",
       "2  T1068  Exploitation for Privilege\\rEscalation   \n",
       "\n",
       "                                 Identified Sentence  \n",
       "0  This leads us to speculate that a new mirai va...  \n",
       "1  This leads us to speculate that a new mirai va...  \n",
       "2                                                NaN  "
      ]
     },
     "execution_count": 37,
     "metadata": {},
     "output_type": "execute_result"
    }
   ],
   "source": [
    "df[0]"
   ]
  },
  {
   "cell_type": "code",
   "execution_count": 38,
   "metadata": {},
   "outputs": [
    {
     "data": {
      "text/plain": [
       "0    This leads us to speculate that a new mirai va...\n",
       "1    This leads us to speculate that a new mirai va...\n",
       "2                                                  NaN\n",
       "Name: Identified Sentence, dtype: object"
      ]
     },
     "execution_count": 38,
     "metadata": {},
     "output_type": "execute_result"
    }
   ],
   "source": [
    "df[0]['Identified Sentence']"
   ]
  },
  {
   "cell_type": "code",
   "execution_count": 51,
   "metadata": {},
   "outputs": [
    {
     "data": {
      "text/plain": [
       "\"-  -----  --------------------------  -------------------------------------------------------\\n0  T1069  Permission Groups           This leads us to speculate that a new mirai variant and\\n          Discovery                   new DGA seed is\\n                                      emerging.\\n\\n                                      DGA Domains Generated With Non-zero DGA Seed\\n\\n                                      The new suspicious domain are listed below:\\n\\n                                      And the domains's query patterns are as follows:\\n\\n                                      A detailed study on these domains shows more findings:\\n\\n                                      The L2 domains conform to mirai DGA, 12 characters, a-y\\n                                      only.\\n1  T1018  Remote System Discovery     This leads us to speculate that a new mirai variant and\\n                                      new DGA seed is\\n                                      emerging.\\n\\n                                      DGA Domains Generated With Non-zero DGA Seed\\n\\n                                      The new suspicious domain are listed below:\\n\\n                                      And the domains's query patterns are as follows:\\n\\n                                      A detailed study on these domains shows more findings:\\n\\n                                      The L2 domains conform to mirai DGA, 12 characters, a-y\\n                                      only.\\n2  T1068  Exploitation for Privilege  nan\\n          Escalation\\n-  -----  --------------------------  -------------------------------------------------------\""
      ]
     },
     "execution_count": 51,
     "metadata": {},
     "output_type": "execute_result"
    }
   ],
   "source": [
    "from tabulate import tabulate\n",
    "\n",
    "tabulate(df[0])"
   ]
  },
  {
   "cell_type": "code",
   "execution_count": 23,
   "metadata": {},
   "outputs": [
    {
     "data": {
      "text/plain": [
       "[{'extraction_method': 'lattice',\n",
       "  'top': 124.678505,\n",
       "  'left': 40.307693,\n",
       "  'width': 514.2640991210938,\n",
       "  'height': 667.2381591796875,\n",
       "  'right': 554.5718,\n",
       "  'bottom': 791.9167,\n",
       "  'data': [[{'top': 124.678505,\n",
       "     'left': 40.307693,\n",
       "     'width': 43.02543640136719,\n",
       "     'height': 19.260231018066406,\n",
       "     'text': 'ID'},\n",
       "    {'top': 124.678505,\n",
       "     'left': 83.33313,\n",
       "     'width': 152.90780639648438,\n",
       "     'height': 19.260231018066406,\n",
       "     'text': 'Name'},\n",
       "    {'top': 124.678505,\n",
       "     'left': 236.24094,\n",
       "     'width': 318.3308410644531,\n",
       "     'height': 19.260231018066406,\n",
       "     'text': 'Identified Sentence'}],\n",
       "   [{'top': 143.93874,\n",
       "     'left': 40.307693,\n",
       "     'width': 43.02543640136719,\n",
       "     'height': 215.93873596191406,\n",
       "     'text': 'T1069'},\n",
       "    {'top': 143.93874,\n",
       "     'left': 83.33313,\n",
       "     'width': 152.90780639648438,\n",
       "     'height': 215.93873596191406,\n",
       "     'text': 'Permission Groups\\rDiscovery'},\n",
       "    {'top': 143.93874,\n",
       "     'left': 236.24094,\n",
       "     'width': 318.3308410644531,\n",
       "     'height': 215.93873596191406,\n",
       "     'text': \"This leads us to speculate that a new mirai variant and\\rnew DGA seed is\\remerging.\\r\\rDGA Domains Generated With Non-zero DGA Seed\\r\\rThe new suspicious domain are listed below:\\r\\rAnd the domains's query patterns are as follows:\\r\\rA detailed study on these domains shows more findings:\\r\\rThe L2 domains conform to mirai DGA, 12 characters, a-y\\ronly.\"}],\n",
       "   [{'top': 359.87747,\n",
       "     'left': 40.307693,\n",
       "     'width': 43.02543640136719,\n",
       "     'height': 215.93325805664062,\n",
       "     'text': 'T1018'},\n",
       "    {'top': 359.87747,\n",
       "     'left': 83.33313,\n",
       "     'width': 152.90780639648438,\n",
       "     'height': 215.93325805664062,\n",
       "     'text': 'Remote System Discovery'},\n",
       "    {'top': 359.87747,\n",
       "     'left': 236.24094,\n",
       "     'width': 318.3308410644531,\n",
       "     'height': 215.93325805664062,\n",
       "     'text': \"This leads us to speculate that a new mirai variant and\\rnew DGA seed is\\remerging.\\r\\rDGA Domains Generated With Non-zero DGA Seed\\r\\rThe new suspicious domain are listed below:\\r\\rAnd the domains's query patterns are as follows:\\r\\rA detailed study on these domains shows more findings:\\r\\rThe L2 domains conform to mirai DGA, 12 characters, a-y\\ronly.\"}],\n",
       "   [{'top': 575.8107,\n",
       "     'left': 40.307693,\n",
       "     'width': 43.02543640136719,\n",
       "     'height': 216.10595703125,\n",
       "     'text': 'T1068'},\n",
       "    {'top': 575.8107,\n",
       "     'left': 83.33313,\n",
       "     'width': 152.90780639648438,\n",
       "     'height': 216.10595703125,\n",
       "     'text': 'Exploitation for Privilege\\rEscalation'},\n",
       "    {'top': 0.0, 'left': 0.0, 'width': 0.0, 'height': 0.0, 'text': ''}]]}]"
      ]
     },
     "execution_count": 23,
     "metadata": {},
     "output_type": "execute_result"
    }
   ],
   "source": [
    "df = read_pdf(\"Mirai.pdf\", pages=3, output_format='json')\n",
    "df"
   ]
  },
  {
   "cell_type": "code",
   "execution_count": 26,
   "metadata": {},
   "outputs": [],
   "source": [
    "df = read_pdf(\"Mirai.pdf\", pages='all', multiple_tables=True)"
   ]
  },
  {
   "cell_type": "code",
   "execution_count": 27,
   "metadata": {},
   "outputs": [
    {
     "data": {
      "text/plain": [
       "1"
      ]
     },
     "execution_count": 27,
     "metadata": {},
     "output_type": "execute_result"
    }
   ],
   "source": [
    "len(df)"
   ]
  },
  {
   "cell_type": "code",
   "execution_count": 35,
   "metadata": {},
   "outputs": [
    {
     "data": {
      "text/html": [
       "<div>\n",
       "<style scoped>\n",
       "    .dataframe tbody tr th:only-of-type {\n",
       "        vertical-align: middle;\n",
       "    }\n",
       "\n",
       "    .dataframe tbody tr th {\n",
       "        vertical-align: top;\n",
       "    }\n",
       "\n",
       "    .dataframe thead th {\n",
       "        text-align: right;\n",
       "    }\n",
       "</style>\n",
       "<table border=\"1\" class=\"dataframe\">\n",
       "  <thead>\n",
       "    <tr style=\"text-align: right;\">\n",
       "      <th></th>\n",
       "      <th>ID</th>\n",
       "      <th>Name</th>\n",
       "      <th>Identified Sentence</th>\n",
       "    </tr>\n",
       "  </thead>\n",
       "  <tbody>\n",
       "    <tr>\n",
       "      <th>0</th>\n",
       "      <td>T1069</td>\n",
       "      <td>Permission Groups\\rDiscovery</td>\n",
       "      <td>This leads us to speculate that a new mirai va...</td>\n",
       "    </tr>\n",
       "    <tr>\n",
       "      <th>1</th>\n",
       "      <td>T1018</td>\n",
       "      <td>Remote System Discovery</td>\n",
       "      <td>This leads us to speculate that a new mirai va...</td>\n",
       "    </tr>\n",
       "    <tr>\n",
       "      <th>2</th>\n",
       "      <td>T1068</td>\n",
       "      <td>Exploitation for Privilege\\rEscalation</td>\n",
       "      <td>NaN</td>\n",
       "    </tr>\n",
       "  </tbody>\n",
       "</table>\n",
       "</div>"
      ],
      "text/plain": [
       "      ID                                    Name  \\\n",
       "0  T1069            Permission Groups\\rDiscovery   \n",
       "1  T1018                 Remote System Discovery   \n",
       "2  T1068  Exploitation for Privilege\\rEscalation   \n",
       "\n",
       "                                 Identified Sentence  \n",
       "0  This leads us to speculate that a new mirai va...  \n",
       "1  This leads us to speculate that a new mirai va...  \n",
       "2                                                NaN  "
      ]
     },
     "execution_count": 35,
     "metadata": {},
     "output_type": "execute_result"
    }
   ],
   "source": [
    "df[0]"
   ]
  },
  {
   "cell_type": "code",
   "execution_count": 34,
   "metadata": {},
   "outputs": [
    {
     "data": {
      "text/plain": [
       "0              Permission Groups\\rDiscovery\n",
       "1                   Remote System Discovery\n",
       "2    Exploitation for Privilege\\rEscalation\n",
       "Name: Name, dtype: object"
      ]
     },
     "execution_count": 34,
     "metadata": {},
     "output_type": "execute_result"
    }
   ],
   "source": [
    "df[0].Name"
   ]
  },
  {
   "cell_type": "code",
   "execution_count": 33,
   "metadata": {},
   "outputs": [
    {
     "data": {
      "text/plain": [
       "0    This leads us to speculate that a new mirai va...\n",
       "1    This leads us to speculate that a new mirai va...\n",
       "2                                                  NaN\n",
       "Name: Identified Sentence, dtype: object"
      ]
     },
     "execution_count": 33,
     "metadata": {},
     "output_type": "execute_result"
    }
   ],
   "source": [
    "df[0]['Identified Sentence']"
   ]
  },
  {
   "cell_type": "markdown",
   "metadata": {},
   "source": [
    "## Camelot"
   ]
  },
  {
   "cell_type": "code",
   "execution_count": 52,
   "metadata": {},
   "outputs": [],
   "source": [
    "import camelot"
   ]
  },
  {
   "cell_type": "code",
   "execution_count": 58,
   "metadata": {},
   "outputs": [],
   "source": [
    "tables = camelot.read_pdf(\"Mirai.pdf\")"
   ]
  },
  {
   "cell_type": "code",
   "execution_count": 59,
   "metadata": {},
   "outputs": [],
   "source": [
    "tables.export('foo.csv', f='csv', compress=True)"
   ]
  },
  {
   "cell_type": "code",
   "execution_count": 61,
   "metadata": {},
   "outputs": [
    {
     "ename": "IndexError",
     "evalue": "list index out of range",
     "output_type": "error",
     "traceback": [
      "\u001b[0;31m---------------------------------------------------------------------------\u001b[0m",
      "\u001b[0;31mIndexError\u001b[0m                                Traceback (most recent call last)",
      "\u001b[0;32m<ipython-input-61-cba3ff33fb11>\u001b[0m in \u001b[0;36m<module>\u001b[0;34m\u001b[0m\n\u001b[0;32m----> 1\u001b[0;31m \u001b[0mtables\u001b[0m\u001b[0;34m[\u001b[0m\u001b[0;36m0\u001b[0m\u001b[0;34m]\u001b[0m\u001b[0;34m\u001b[0m\u001b[0;34m\u001b[0m\u001b[0m\n\u001b[0m",
      "\u001b[0;32m~/anaconda3/envs/dev/lib/python3.6/site-packages/camelot/core.py\u001b[0m in \u001b[0;36m__getitem__\u001b[0;34m(self, idx)\u001b[0m\n\u001b[1;32m    677\u001b[0m \u001b[0;34m\u001b[0m\u001b[0m\n\u001b[1;32m    678\u001b[0m     \u001b[0;32mdef\u001b[0m \u001b[0m__getitem__\u001b[0m\u001b[0;34m(\u001b[0m\u001b[0mself\u001b[0m\u001b[0;34m,\u001b[0m \u001b[0midx\u001b[0m\u001b[0;34m)\u001b[0m\u001b[0;34m:\u001b[0m\u001b[0;34m\u001b[0m\u001b[0;34m\u001b[0m\u001b[0m\n\u001b[0;32m--> 679\u001b[0;31m         \u001b[0;32mreturn\u001b[0m \u001b[0mself\u001b[0m\u001b[0;34m.\u001b[0m\u001b[0m_tables\u001b[0m\u001b[0;34m[\u001b[0m\u001b[0midx\u001b[0m\u001b[0;34m]\u001b[0m\u001b[0;34m\u001b[0m\u001b[0;34m\u001b[0m\u001b[0m\n\u001b[0m\u001b[1;32m    680\u001b[0m \u001b[0;34m\u001b[0m\u001b[0m\n\u001b[1;32m    681\u001b[0m     \u001b[0;34m@\u001b[0m\u001b[0mstaticmethod\u001b[0m\u001b[0;34m\u001b[0m\u001b[0;34m\u001b[0m\u001b[0m\n",
      "\u001b[0;31mIndexError\u001b[0m: list index out of range"
     ]
    }
   ],
   "source": [
    "tables[0]"
   ]
  },
  {
   "cell_type": "markdown",
   "metadata": {},
   "source": [
    "## PyPDF2"
   ]
  },
  {
   "cell_type": "code",
   "execution_count": 6,
   "metadata": {},
   "outputs": [
    {
     "name": "stdout",
     "output_type": "stream",
     "text": [
      "1.26.0\n",
      "\n",
      "\n",
      "\n",
      "\n",
      "\n",
      "\n",
      "\n",
      "\n",
      "\n",
      "\n",
      "\n",
      "\n",
      "\n",
      "\n",
      "\n",
      "\n",
      "\n",
      "\n",
      "\n",
      "\n",
      "\n",
      "\n",
      "\n",
      "\n",
      "\n",
      "\n",
      "\n",
      "\n",
      "\n",
      "\n",
      "\n",
      "\n",
      "\n",
      "\n",
      "\n",
      "\n",
      "\n",
      "\n",
      "\n",
      "\n",
      "\n",
      "\n",
      "\n",
      "\n",
      "\n",
      "\n",
      "\n",
      "\n",
      "\n",
      "\n",
      "\n",
      "\n",
      "\n",
      "\n",
      "\n",
      "\n",
      "\n",
      "\n",
      "\n",
      "\n",
      "\n",
      "\n",
      "\n",
      "\n",
      "\n",
      "\n",
      "\n",
      "\n",
      "\n",
      "\n",
      "\n",
      "\n",
      "\n",
      "\n",
      "\n",
      "\n",
      "\n",
      "\n",
      "\n",
      "\n",
      "\n",
      "\n",
      "\n",
      "\n",
      "\n",
      "\n",
      "\n",
      "\n",
      "\n",
      "\n",
      "\n",
      "\n",
      "\n",
      "\n",
      "\n",
      "\n",
      "\n",
      "\n",
      "\n",
      "\n",
      "\n",
      "\n",
      "\n",
      "\n",
      "\n",
      "\n",
      "\n",
      "\n",
      "\n",
      "\n",
      "\n",
      "\n",
      "\n",
      "\n",
      "\n",
      "\n",
      "\n",
      "\n",
      "\n",
      "\n",
      "\n",
      "\n",
      "\n",
      "\n",
      "\n",
      "\n",
      "\n",
      "\n",
      "\n",
      "\n",
      "\n",
      "\n",
      "\n",
      "\n",
      "\n",
      "\n",
      "\n",
      "\n",
      "\n",
      "\n",
      "\n",
      "\n",
      "\n",
      "\n",
      "\n",
      "\n",
      "\n",
      "\n",
      "\n",
      "\n",
      "\n",
      "\n",
      "\n",
      "\n",
      "\n",
      "\n",
      "\n",
      "\n",
      "\n",
      "\n",
      "\n",
      "\n",
      "\n",
      "\n",
      "\n",
      "\n",
      "\n",
      "\n",
      "\n",
      "\n",
      "\n",
      "\n",
      "\n",
      "\n",
      "\n",
      "\n",
      "\n",
      "\n",
      "\n",
      "\n",
      "\n",
      "\n",
      "\n",
      "\n",
      "\n",
      "\n",
      "\n",
      "\n",
      "\n",
      "\n",
      "\n",
      "\n",
      "\n",
      "\n",
      "\n",
      "\n",
      "\n",
      "\n",
      "\n",
      "\n",
      "\n",
      "\n",
      "\n",
      "\n",
      "\n",
      "\n",
      "\n",
      "\n",
      "\n",
      "\n",
      "\n",
      "\n",
      "\n",
      "\n",
      "\n",
      "\n",
      "\n",
      "\n",
      "\n",
      "\n",
      "\n",
      "\n",
      "\n"
     ]
    }
   ],
   "source": [
    "import PyPDF2 as p2\n",
    "print(p2.__version__)\n",
    "\n",
    "pdf_file = open('Mirai.pdf', 'rb')\n",
    "pdf_read = p2.PdfFileReader(pdf_file)\n",
    "\n",
    "x = pdf_read.getPage(2)\n",
    "print(x.extractText())"
   ]
  },
  {
   "cell_type": "code",
   "execution_count": null,
   "metadata": {},
   "outputs": [],
   "source": []
  }
 ],
 "metadata": {
  "kernelspec": {
   "display_name": "Python 3",
   "language": "python",
   "name": "python3"
  },
  "language_info": {
   "codemirror_mode": {
    "name": "ipython",
    "version": 3
   },
   "file_extension": ".py",
   "mimetype": "text/x-python",
   "name": "python",
   "nbconvert_exporter": "python",
   "pygments_lexer": "ipython3",
   "version": "3.6.9"
  }
 },
 "nbformat": 4,
 "nbformat_minor": 2
}
